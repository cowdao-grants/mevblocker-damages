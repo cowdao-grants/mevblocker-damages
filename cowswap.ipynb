{
 "cells": [
  {
   "cell_type": "code",
   "execution_count": 140,
   "metadata": {},
   "outputs": [],
   "source": [
    "import pandas as pd\n",
    "import json\n",
    "import requests\n",
    "from python_secrets import *"
   ]
  },
  {
   "cell_type": "code",
   "execution_count": 142,
   "metadata": {},
   "outputs": [],
   "source": [
    "df_main = pd.read_csv('incident2.csv')"
   ]
  },
  {
   "cell_type": "code",
   "execution_count": 143,
   "metadata": {},
   "outputs": [],
   "source": [
    "tx_hash_list = [x for x in df_main[' user_tx'].to_list() if pd.notnull(x)]"
   ]
  },
  {
   "cell_type": "markdown",
   "metadata": {},
   "source": [
    "# Infuria"
   ]
  },
  {
   "cell_type": "code",
   "execution_count": 144,
   "metadata": {},
   "outputs": [],
   "source": [
    "url = f\"https://mainnet.infura.io/v3/{infura_api_key}\"\n",
    "\n",
    "payload = json.dumps({\n",
    "  \"jsonrpc\": \"2.0\",\n",
    "  \"method\": \"eth_getTransactionByHash\",\n",
    "  \"params\": [tx_hash_list[0]],\n",
    "  \"id\": 1\n",
    "})\n",
    "headers = {\n",
    "  'Content-Type': 'application/json'\n",
    "}\n",
    "\n",
    "response = requests.request(\"POST\", url, headers=headers, data=payload)\n",
    "dct = response.json()['result']\n",
    "dct = {k: None if not v else v for k, v in dct.items()} # making sure none of the values are empty\n",
    "df_infuria = pd.DataFrame(dct, index=[0])\n",
    "\n",
    "for tx_hash in tx_hash_list[1:]:\n",
    "  payload = json.dumps({\n",
    "    \"jsonrpc\": \"2.0\",\n",
    "    \"method\": \"eth_getTransactionByHash\",\n",
    "    \"params\": [tx_hash],\n",
    "    \"id\": 1\n",
    "  })\n",
    "  headers = {\n",
    "    'Content-Type': 'application/json'\n",
    "  }\n",
    "\n",
    "  response = requests.request(\"POST\", url, headers=headers, data=payload)\n",
    "\n",
    "  if response.ok:\n",
    "    dct = response.json()['result']\n",
    "    dct = {k: None if not v else v for k, v in dct.items()} # making sure none of the values are empty\n",
    "    df_temp = pd.DataFrame(dct, index=[0])\n",
    "    df_infuria = pd.concat([df_infuria, df_temp])\n",
    "    \n",
    "  else: \n",
    "    print(f\"error code {response.status_code} for transaction {tx_hash}\")\n"
   ]
  },
  {
   "cell_type": "code",
   "execution_count": 145,
   "metadata": {},
   "outputs": [],
   "source": [
    "#merge infuria to main\n",
    "df_main = df_main.merge(df_infuria, left_on = ' user_tx', right_on = 'hash', how ='outer')"
   ]
  },
  {
   "cell_type": "code",
   "execution_count": 146,
   "metadata": {},
   "outputs": [
    {
     "data": {
      "text/plain": [
       "Index(['block_number', ' user_tx', ' fees', 'accessList', 'blockHash',\n",
       "       'blockNumber', 'chainId', 'from', 'gas', 'gasPrice', 'hash', 'input',\n",
       "       'maxFeePerGas', 'maxPriorityFeePerGas', 'nonce', 'r', 's', 'to',\n",
       "       'transactionIndex', 'type', 'v', 'value', 'yParity'],\n",
       "      dtype='object')"
      ]
     },
     "execution_count": 146,
     "metadata": {},
     "output_type": "execute_result"
    }
   ],
   "source": [
    "df_main.columns"
   ]
  },
  {
   "cell_type": "markdown",
   "metadata": {},
   "source": [
    "# Etherscan "
   ]
  },
  {
   "cell_type": "code",
   "execution_count": 147,
   "metadata": {},
   "outputs": [],
   "source": [
    "block_number_list = list(set([x for x in df_main['block_number'].to_list() if pd.notnull(x)]))"
   ]
  },
  {
   "cell_type": "code",
   "execution_count": 150,
   "metadata": {},
   "outputs": [],
   "source": [
    "url_eth = f\"https://api.etherscan.io/api?module=block&action=getblockreward&blockno={block_number_list[0]}&apikey={eth_scan_api_key}\"\n",
    "\n",
    "response_eth = requests.request(\"POST\", url_eth)\n",
    "\n",
    "dct_eth = response_eth.json()['result']\n",
    "dct_eth = {k: None if not v else v for k, v in dct_eth.items()} # making sure none of the values are empty\n",
    "df_eth = pd.DataFrame(dct_eth, index=[0])\n",
    "\n",
    "for block in block_number_list[1:]:\n",
    "  url_temp = f\"https://api.etherscan.io/api?module=block&action=getblockreward&blockno={block}&apikey={eth_scan_api_key}\"\n",
    "  response_temp = requests.request(\"POST\", url_temp)\n",
    "\n",
    "  if response_temp.ok:\n",
    "    dct_temp = response_temp.json()['result']\n",
    "    dct_temp = {k: None if not v else v for k, v in dct_temp.items()} # making sure none of the values are empty\n",
    "    df_temp = pd.DataFrame(dct_temp, index=[0])\n",
    "    df_eth = pd.concat([df_eth, df_temp])\n",
    "    \n",
    "  else: \n",
    "    print(f\"error code {response_temp.status_code} for block {block}\")"
   ]
  },
  {
   "cell_type": "code",
   "execution_count": 157,
   "metadata": {},
   "outputs": [],
   "source": [
    "df_eth['blockNumber'] = df_eth['blockNumber'].astype(int)"
   ]
  },
  {
   "cell_type": "code",
   "execution_count": 158,
   "metadata": {},
   "outputs": [],
   "source": [
    "#merge eth to main\n",
    "df_main = df_main.merge(df_eth, left_on = 'block_number', right_on = 'blockNumber', how ='outer')"
   ]
  },
  {
   "cell_type": "markdown",
   "metadata": {},
   "source": [
    "# Tenderly"
   ]
  },
  {
   "cell_type": "code",
   "execution_count": 163,
   "metadata": {},
   "outputs": [
    {
     "data": {
      "text/plain": [
       "37"
      ]
     },
     "execution_count": 163,
     "metadata": {},
     "output_type": "execute_result"
    }
   ],
   "source": [
    "len(tx_hash_list)"
   ]
  },
  {
   "cell_type": "code",
   "execution_count": 164,
   "metadata": {},
   "outputs": [
    {
     "data": {
      "text/plain": [
       "Index(['block_number', ' user_tx', ' fees', 'accessList', 'blockHash',\n",
       "       'blockNumber_x', 'chainId', 'from', 'gas', 'gasPrice', 'hash', 'input',\n",
       "       'maxFeePerGas', 'maxPriorityFeePerGas', 'nonce', 'r', 's', 'to',\n",
       "       'transactionIndex', 'type', 'v', 'value', 'yParity', 'blockNumber_y',\n",
       "       'timeStamp', 'blockMiner', 'blockReward', 'uncles',\n",
       "       'uncleInclusionReward'],\n",
       "      dtype='object')"
      ]
     },
     "execution_count": 164,
     "metadata": {},
     "output_type": "execute_result"
    }
   ],
   "source": [
    "df_main.columns"
   ]
  },
  {
   "cell_type": "code",
   "execution_count": 278,
   "metadata": {},
   "outputs": [
    {
     "name": "stdout",
     "output_type": "stream",
     "text": [
      "[0, 2]\n",
      "0\n",
      "{'transaction': {'hash': '0xd9488fe37e24c1b3f14937e3029036e6aa480d1e1621d81a96ef0779c492f64b', 'block_hash': '', 'block_number': 19412019, 'from': '0x36a2ffb33c1b427c46c3d30adac3ca4e8ed36179', 'gas': 9223372036854775807, 'gas_price': 0, 'gas_fee_cap': 0, 'gas_tip_cap': 0, 'cumulative_gas_used': 0, 'gas_used': 142396, 'effective_gas_price': 0, 'input': '0x4a25d94a000000000000000000000000000000000000000000000000058d15e17628000000000000000000000000000000000000000000000000002f461b77a211c3b3ee00000000000000000000000000000000000000000000000000000000000000a000000000000000000000000036a2ffb33c1b427c46c3d30adac3ca4e8ed361790000000000000000000000000000000000000000000000000000000065ef077b0000000000000000000000000000000000000000000000000000000000000002000000000000000000000000b0699d63aef20df3f1cffa9ca2bb8670416271d2000000000000000000000000c02aaa39b223fe8d0a0e5c4f27ead9083c756cc2', 'nonce': 1799, 'to': '0x7a250d5630b4cf539739df2c5dacb4c659f2488d', 'index': 0, 'value': '0x', 'access_list': None, 'status': True, 'addresses': None, 'contract_ids': None, 'network_id': '1', 'timestamp': '2024-03-11T13:00:59Z', 'function_selector': '', 'l1_block_number': 0, 'l1_timestamp': 0, 'deposit_tx': False, 'system_tx': False, 'sig': {'v': '0x0', 'r': '0x0', 's': '0x0'}, 'transaction_info': {'contract_id': 'eth:1:0x7a250d5630b4cf539739df2c5dacb4c659f2488d', 'block_number': 19412019, 'transaction_id': '0xd9488fe37e24c1b3f14937e3029036e6aa480d1e1621d81a96ef0779c492f64b', 'contract_address': '0x7a250d5630b4cf539739df2c5dacb4c659f2488d', 'method': None, 'parameters': None, 'intrinsic_gas': 23060, 'refund_gas': 22700, 'call_trace': {'hash': '0xd9488fe37e24c1b3f14937e3029036e6aa480d1e1621d81a96ef0779c492f64b', 'contract_name': '', 'function_pc': 0, 'function_op': 'CALL', 'absolute_position': 0, 'caller_pc': 0, 'caller_op': 'CALL', 'call_type': 'CALL', 'address': '0x36a2ffb33c1b427c46c3d30adac3ca4e8ed36179', 'from': '0x36a2ffb33c1b427c46c3d30adac3ca4e8ed36179', 'from_balance': '3645552260913875932', 'to': '0x7a250d5630b4cf539739df2c5dacb4c659f2488d', 'to_balance': '25000000000000000', 'value': '0', 'block_timestamp': '0001-01-01T00:00:00Z', 'gas': 9223372036854752747, 'gas_used': 142036, 'intrinsic_gas': 23060, 'refund_gas': 22700, 'storage_address': '0x36a2ffb33c1b427c46c3d30adac3ca4e8ed36179', 'input': '0x4a25d94a000000000000000000000000000000000000000000000000058d15e17628000000000000000000000000000000000000000000000000002f461b77a211c3b3ee00000000000000000000000000000000000000000000000000000000000000a000000000000000000000000036a2ffb33c1b427c46c3d30adac3ca4e8ed361790000000000000000000000000000000000000000000000000000000065ef077b0000000000000000000000000000000000000000000000000000000000000002000000000000000000000000b0699d63aef20df3f1cffa9ca2bb8670416271d2000000000000000000000000c02aaa39b223fe8d0a0e5c4f27ead9083c756cc2', 'balance_diff': [{'address': '0x36A2fFB33C1B427C46C3D30Adac3cA4e8ED36179', 'original': '3645552260913875932', 'dirty': '4045552260913875932', 'is_miner': False}, {'address': '0xC02aaA39b223FE8D0A0e5C4F27eAD9083C756Cc2', 'original': '3036058902932793225040012', 'dirty': '3036058502932793225040012', 'is_miner': False}], 'nonce_diff': [{'address': '0x36A2fFB33C1B427C46C3D30Adac3cA4e8ED36179', 'original': '1799', 'dirty': '1800'}], 'state_diff': [{'address': '0xb0699d63aef20df3f1cffa9ca2bb8670416271d2', 'soltype': None, 'original': None, 'dirty': None, 'raw': [{'address': '0xb0699d63aef20df3f1cffa9ca2bb8670416271d2', 'key': '0x7f960f58c9fb0b00d2cd1656b80b1f457ac170ce71656a6bee55b2264adee3a7', 'original': '0x000000000000000000000000000000000000000000000787ec1e498a74acfa8d', 'dirty': '0x0000000000000000000000000000000000000000000007b3b1c5f1337ba48e31'}]}, {'address': '0xb0699d63aef20df3f1cffa9ca2bb8670416271d2', 'soltype': None, 'original': None, 'dirty': None, 'raw': [{'address': '0xb0699d63aef20df3f1cffa9ca2bb8670416271d2', 'key': '0xa29da9b5ee05f70de61357e9565a31007dd5c952a649606eaae73c85825d5c75', 'original': '0x000000000000000000000000000000000000000000000055e6564f84cac5a74b', 'dirty': '0x00000000000000000000000000000000000000000000002a20aea7dbc3ce13a7'}]}, {'address': '0xb0699d63aef20df3f1cffa9ca2bb8670416271d2', 'soltype': None, 'original': None, 'dirty': None, 'raw': [{'address': '0xb0699d63aef20df3f1cffa9ca2bb8670416271d2', 'key': '0xf3531f5f72028242795dc772c2fd7fb3ba054d0319ca470709dafc0ec7b7f8e9', 'original': '0xffffffffffffffffffffffffffffffffffffffffffffffc12c234c5034f0257d', 'dirty': '0xffffffffffffffffffffffffffffffffffffffffffffff95667ba4a72df891d9'}]}, {'address': '0xc02aaa39b223fe8d0a0e5c4f27ead9083c756cc2', 'soltype': None, 'original': None, 'dirty': None, 'raw': [{'address': '0xc02aaa39b223fe8d0a0e5c4f27ead9083c756cc2', 'key': '0x7be9da7ff8a0f39c9dfd3ede1a9bccfcb6f6bc4c830639f9b621772917b1e9df', 'original': '0x000000000000000000000000000000000000000000000000fac8815dcb4aa4d6', 'dirty': '0x000000000000000000000000000000000000000000000000f53b6b7c5522a4d6'}]}, {'address': '0xe1ebdf64f7f3a31723e767a561345f958233bb7d', 'soltype': None, 'original': None, 'dirty': None, 'raw': [{'address': '0xe1ebdf64f7f3a31723e767a561345f958233bb7d', 'key': '0x0000000000000000000000000000000000000000000000000000000000000008', 'original': '0x65ef0043000000000000fac8815dcb4aa4d6000000000787ec1e498a74acfa8d', 'dirty': '0x65ef008b000000000000f53b6b7c5522a4d60000000007b3b1c5f1337ba48e31'}]}, {'address': '0xe1ebdf64f7f3a31723e767a561345f958233bb7d', 'soltype': None, 'original': None, 'dirty': None, 'raw': [{'address': '0xe1ebdf64f7f3a31723e767a561345f958233bb7d', 'key': '0x0000000000000000000000000000000000000000000000000000000000000009', 'original': '0x00000000000000000000000000000000007175a42ca8cf229828f6d5d33d855c', 'dirty': '0x0000000000000000000000000000000000717f01ccdee1b4be46d4812a066afc'}]}, {'address': '0xe1ebdf64f7f3a31723e767a561345f958233bb7d', 'soltype': None, 'original': None, 'dirty': None, 'raw': [{'address': '0xe1ebdf64f7f3a31723e767a561345f958233bb7d', 'key': '0x000000000000000000000000000000000000000000000000000000000000000a', 'original': '0x000000000000000000000000000008ec6bcda8f96a947118e2b79ee7865fdfbc', 'dirty': '0x000000000000000000000000000008ee954f97df95947836573481a6397eab8c'}]}], 'logs': [{'name': '', 'anonymous': False, 'inputs': None, 'raw': {'address': '0xb0699d63aef20df3f1cffa9ca2bb8670416271d2', 'topics': ['0xddf252ad1be2c89b69c2b068fc378daa952ba7f163c4a11628f55a4df523b3ef', '0x00000000000000000000000036a2ffb33c1b427c46c3d30adac3ca4e8ed36179', '0x000000000000000000000000e1ebdf64f7f3a31723e767a561345f958233bb7d'], 'data': '0x00000000000000000000000000000000000000000000002bc5a7a7a906f793a4'}, 'trace_index': None}, {'name': '', 'anonymous': False, 'inputs': None, 'raw': {'address': '0xb0699d63aef20df3f1cffa9ca2bb8670416271d2', 'topics': ['0x8c5be1e5ebec7d5bd14f71427d1e84f3dd0314c0f7b2291e5b200ac8c7c3b925', '0x00000000000000000000000036a2ffb33c1b427c46c3d30adac3ca4e8ed36179', '0x0000000000000000000000007a250d5630b4cf539739df2c5dacb4c659f2488d'], 'data': '0xffffffffffffffffffffffffffffffffffffffffffffff95667ba4a72df891d9'}, 'trace_index': None}, {'name': '', 'anonymous': False, 'inputs': None, 'raw': {'address': '0xc02aaa39b223fe8d0a0e5c4f27ead9083c756cc2', 'topics': ['0xddf252ad1be2c89b69c2b068fc378daa952ba7f163c4a11628f55a4df523b3ef', '0x000000000000000000000000e1ebdf64f7f3a31723e767a561345f958233bb7d', '0x0000000000000000000000007a250d5630b4cf539739df2c5dacb4c659f2488d'], 'data': '0x000000000000000000000000000000000000000000000000058d15e176280000'}, 'trace_index': None}, {'name': '', 'anonymous': False, 'inputs': None, 'raw': {'address': '0xe1ebdf64f7f3a31723e767a561345f958233bb7d', 'topics': ['0x1c411e9a96e071241c2f21f7726b17ae89e3cab4c78be50e062b03a9fffbbad1'], 'data': '0x0000000000000000000000000000000000000000000007b3b1c5f1337ba48e31000000000000000000000000000000000000000000000000f53b6b7c5522a4d6'}, 'trace_index': None}, {'name': '', 'anonymous': False, 'inputs': None, 'raw': {'address': '0xe1ebdf64f7f3a31723e767a561345f958233bb7d', 'topics': ['0xd78ad95fa46c994b6551d0da85fc275fe613ce37657fb8d5e3d130840159d822', '0x0000000000000000000000007a250d5630b4cf539739df2c5dacb4c659f2488d', '0x0000000000000000000000007a250d5630b4cf539739df2c5dacb4c659f2488d'], 'data': '0x00000000000000000000000000000000000000000000002bc5a7a7a906f793a400000000000000000000000000000000000000000000000000000000000000000000000000000000000000000000000000000000000000000000000000000000000000000000000000000000000000000000000000000000058d15e176280000'}, 'trace_index': None}, {'name': '', 'anonymous': False, 'inputs': None, 'raw': {'address': '0xc02aaa39b223fe8d0a0e5c4f27ead9083c756cc2', 'topics': ['0x7fcf532c15f0a6db0bd6d0e038bea71d30d808c7d98cb3bf7268a95bf5081b65', '0x0000000000000000000000007a250d5630b4cf539739df2c5dacb4c659f2488d'], 'data': '0x000000000000000000000000000000000000000000000000058d15e176280000'}, 'trace_index': None}], 'output': '0x0000000000000000000000000000000000000000000000000000000000000020000000000000000000000000000000000000000000000000000000000000000200000000000000000000000000000000000000000000002bc5a7a7a906f793a4000000000000000000000000000000000000000000000000058d15e176280000', 'decoded_output': None, 'network_id': '1', 'calls': [{'hash': '', 'function_pc': 0, 'function_op': 'STOP', 'absolute_position': 719, 'caller_pc': 21331, 'caller_op': 'STATICCALL', 'call_type': 'STATICCALL', 'address': '0x7a250d5630b4cf539739df2c5dacb4c659f2488d', 'from': '0x7a250d5630b4cf539739df2c5dacb4c659f2488d', 'from_balance': '25000000000000000', 'to': '0xe1ebdf64f7f3a31723e767a561345f958233bb7d', 'to_balance': '0', 'value': None, 'block_timestamp': '0001-01-01T00:00:00Z', 'gas': 9079256848778892500, 'gas_used': 2504, 'refund_gas': 144115188075855436, 'storage_address': '0x7a250d5630b4cf539739df2c5dacb4c659f2488d', 'input': '0x0902f1ac', 'output': '0x000000000000000000000000000000000000000000000787ec1e498a74acfa8d000000000000000000000000000000000000000000000000fac8815dcb4aa4d60000000000000000000000000000000000000000000000000000000065ef0043', 'decoded_output': None, 'network_id': '', 'calls': None}, {'hash': '', 'function_pc': 0, 'function_op': 'STOP', 'absolute_position': 2802, 'caller_pc': 17090, 'caller_op': 'CALL', 'call_type': 'CALL', 'address': '0x7a250d5630b4cf539739df2c5dacb4c659f2488d', 'from': '0x7a250d5630b4cf539739df2c5dacb4c659f2488d', 'from_balance': '25000000000000000', 'to': '0xb0699d63aef20df3f1cffa9ca2bb8670416271d2', 'to_balance': '36500995975680790', 'value': '0', 'block_timestamp': '0001-01-01T00:00:00Z', 'gas': 9079256848778884765, 'gas_used': 44797, 'refund_gas': 144115188075855313, 'storage_address': '0x7a250d5630b4cf539739df2c5dacb4c659f2488d', 'input': '0x23b872dd00000000000000000000000036a2ffb33c1b427c46c3d30adac3ca4e8ed36179000000000000000000000000e1ebdf64f7f3a31723e767a561345f958233bb7d00000000000000000000000000000000000000000000002bc5a7a7a906f793a4', 'output': '0x0000000000000000000000000000000000000000000000000000000000000001', 'decoded_output': None, 'network_id': '', 'calls': None}, {'hash': '', 'function_pc': 0, 'function_op': 'STOP', 'absolute_position': 5301, 'caller_pc': 17882, 'caller_op': 'CALL', 'call_type': 'CALL', 'address': '0x7a250d5630b4cf539739df2c5dacb4c659f2488d', 'from': '0x7a250d5630b4cf539739df2c5dacb4c659f2488d', 'from_balance': '25000000000000000', 'to': '0xe1ebdf64f7f3a31723e767a561345f958233bb7d', 'to_balance': '0', 'value': '0', 'block_timestamp': '0001-01-01T00:00:00Z', 'gas': 9079256848778838475, 'gas_used': 64980, 'refund_gas': 144115188075854578, 'storage_address': '0x7a250d5630b4cf539739df2c5dacb4c659f2488d', 'input': '0x022c0d9f0000000000000000000000000000000000000000000000000000000000000000000000000000000000000000000000000000000000000000058d15e1762800000000000000000000000000007a250d5630b4cf539739df2c5dacb4c659f2488d00000000000000000000000000000000000000000000000000000000000000800000000000000000000000000000000000000000000000000000000000000000', 'output': '0x', 'decoded_output': None, 'network_id': '', 'calls': [{'hash': '', 'function_pc': 0, 'function_op': 'STOP', 'absolute_position': 4118, 'caller_pc': 8468, 'caller_op': 'CALL', 'call_type': 'CALL', 'address': '0xe1ebdf64f7f3a31723e767a561345f958233bb7d', 'from': '0xe1ebdf64f7f3a31723e767a561345f958233bb7d', 'from_balance': '0', 'to': '0xc02aaa39b223fe8d0a0e5c4f27ead9083c756cc2', 'to_balance': '3036058902932793225040012', 'value': '0', 'block_timestamp': '0001-01-01T00:00:00Z', 'gas': 8937393460516655928, 'gas_used': 29962, 'refund_gas': 141863388262169141, 'storage_address': '0xe1ebdf64f7f3a31723e767a561345f958233bb7d', 'input': '0xa9059cbb0000000000000000000000007a250d5630b4cf539739df2c5dacb4c659f2488d000000000000000000000000000000000000000000000000058d15e176280000', 'output': '0x0000000000000000000000000000000000000000000000000000000000000001', 'decoded_output': None, 'network_id': '', 'calls': None}, {'hash': '', 'function_pc': 0, 'function_op': 'STOP', 'absolute_position': 4392, 'caller_pc': 2610, 'caller_op': 'STATICCALL', 'call_type': 'STATICCALL', 'address': '0xe1ebdf64f7f3a31723e767a561345f958233bb7d', 'from': '0xe1ebdf64f7f3a31723e767a561345f958233bb7d', 'from_balance': '0', 'to': '0xb0699d63aef20df3f1cffa9ca2bb8670416271d2', 'to_balance': '36500995975680790', 'value': None, 'block_timestamp': '0001-01-01T00:00:00Z', 'gas': 8937393460516625832, 'gas_used': 661, 'refund_gas': 141863388262168664, 'storage_address': '0xe1ebdf64f7f3a31723e767a561345f958233bb7d', 'input': '0x70a08231000000000000000000000000e1ebdf64f7f3a31723e767a561345f958233bb7d', 'output': '0x0000000000000000000000000000000000000000000007b3b1c5f1337ba48e31', 'decoded_output': None, 'network_id': '', 'calls': None}, {'hash': '', 'function_pc': 0, 'function_op': 'STOP', 'absolute_position': 4573, 'caller_pc': 2766, 'caller_op': 'STATICCALL', 'call_type': 'STATICCALL', 'address': '0xe1ebdf64f7f3a31723e767a561345f958233bb7d', 'from': '0xe1ebdf64f7f3a31723e767a561345f958233bb7d', 'from_balance': '0', 'to': '0xc02aaa39b223fe8d0a0e5c4f27ead9083c756cc2', 'to_balance': '3036058902932793225040012', 'value': None, 'block_timestamp': '0001-01-01T00:00:00Z', 'gas': 8937393460516624776, 'gas_used': 534, 'refund_gas': 141863388262168647, 'storage_address': '0xe1ebdf64f7f3a31723e767a561345f958233bb7d', 'input': '0x70a08231000000000000000000000000e1ebdf64f7f3a31723e767a561345f958233bb7d', 'output': '0x000000000000000000000000000000000000000000000000f53b6b7c5522a4d6', 'decoded_output': None, 'network_id': '', 'calls': None}]}, {'hash': '', 'function_pc': 0, 'function_op': 'STOP', 'absolute_position': 5606, 'caller_pc': 4899, 'caller_op': 'CALL', 'call_type': 'CALL', 'address': '0x7a250d5630b4cf539739df2c5dacb4c659f2488d', 'from': '0x7a250d5630b4cf539739df2c5dacb4c659f2488d', 'from_balance': '25000000000000000', 'to': '0xc02aaa39b223fe8d0a0e5c4f27ead9083c756cc2', 'to_balance': '3036058902932793225040012', 'value': '0', 'block_timestamp': '0001-01-01T00:00:00Z', 'gas': 9079256848778774003, 'gas_used': 9223, 'refund_gas': 144115188075853555, 'storage_address': '0x7a250d5630b4cf539739df2c5dacb4c659f2488d', 'input': '0x2e1a7d4d000000000000000000000000000000000000000000000000058d15e176280000', 'output': '0x', 'decoded_output': None, 'network_id': '', 'calls': [{'hash': '', 'function_pc': 0, 'function_op': 'STOP', 'absolute_position': 5569, 'caller_pc': 2724, 'caller_op': 'CALL', 'call_type': 'CALL', 'address': '0xc02aaa39b223fe8d0a0e5c4f27ead9083c756cc2', 'from': '0xc02aaa39b223fe8d0a0e5c4f27ead9083c756cc2', 'from_balance': '3036058902932793225040012', 'to': '0x7a250d5630b4cf539739df2c5dacb4c659f2488d', 'to_balance': '25000000000000000', 'value': '400000000000000000', 'block_timestamp': '0001-01-01T00:00:00Z', 'gas': 2300, 'gas_used': 83, 'refund_gas': 9079256848778764052, 'storage_address': '0xc02aaa39b223fe8d0a0e5c4f27ead9083c756cc2', 'input': '0x', 'output': '0x', 'decoded_output': None, 'network_id': '', 'calls': None}]}, {'hash': '', 'function_pc': 0, 'function_op': 'STOP', 'absolute_position': 5722, 'caller_pc': 15784, 'caller_op': 'CALL', 'call_type': 'CALL', 'address': '0x7a250d5630b4cf539739df2c5dacb4c659f2488d', 'from': '0x7a250d5630b4cf539739df2c5dacb4c659f2488d', 'from_balance': '425000000000000000', 'to': '0x36a2ffb33c1b427c46c3d30adac3ca4e8ed36179', 'to_balance': '3645552260913875932', 'value': '400000000000000000', 'block_timestamp': '0001-01-01T00:00:00Z', 'gas': 9223372036854617929, 'gas_used': 0, 'refund_gas': 144115188075853262, 'storage_address': '0x7a250d5630b4cf539739df2c5dacb4c659f2488d', 'input': '0x', 'output': '0x', 'decoded_output': None, 'network_id': '', 'calls': None}], 'asset_changes': [{'token_info': {'standard': 'ERC20', 'contract_address': '0xb0699d63aef20df3f1cffa9ca2bb8670416271d2'}, 'type': 'Transfer', 'from': '0x36a2ffb33c1b427c46c3d30adac3ca4e8ed36179', 'to': '0xe1ebdf64f7f3a31723e767a561345f958233bb7d', 'amount': None, 'raw_amount': '807452531860501402532', 'dollar_value': None}, {'token_info': {'standard': 'ERC20', 'type': 'Fungible', 'contract_address': '0xc02aaa39b223fe8d0a0e5c4f27ead9083c756cc2', 'symbol': 'weth', 'name': 'WETH', 'logo': 'https://assets.coingecko.com/coins/images/2518/large/weth.png?1696503332', 'decimals': 18, 'dollar_value': '3500.030029296875'}, 'type': 'Transfer', 'from': '0xe1ebdf64f7f3a31723e767a561345f958233bb7d', 'to': '0x7a250d5630b4cf539739df2c5dacb4c659f2488d', 'amount': '0.4', 'raw_amount': '400000000000000000', 'dollar_value': '1400.0120117187500001'}, {'token_info': {'standard': 'ERC20', 'type': 'Fungible', 'contract_address': '0xc02aaa39b223fe8d0a0e5c4f27ead9083c756cc2', 'symbol': 'weth', 'name': 'WETH', 'logo': 'https://assets.coingecko.com/coins/images/2518/large/weth.png?1696503332', 'decimals': 18, 'dollar_value': '3500.030029296875'}, 'type': 'Burn', 'from': '0x7a250d5630b4cf539739df2c5dacb4c659f2488d', 'amount': '0.4', 'raw_amount': '400000000000000000', 'dollar_value': '1400.0120117187500001'}, {'token_info': {'standard': 'NativeCurrency', 'type': 'Native', 'symbol': 'eth', 'name': 'Ethereum', 'logo': 'https://assets.coingecko.com/coins/images/279/large/ethereum.png?1696501628', 'decimals': 18, 'dollar_value': '3500.530029296875'}, 'type': 'Transfer', 'from': '0xc02aaa39b223fe8d0a0e5c4f27ead9083c756cc2', 'to': '0x7a250d5630b4cf539739df2c5dacb4c659f2488d', 'amount': '0.4', 'raw_amount': '400000000000000000', 'dollar_value': '1400.21201171875'}, {'token_info': {'standard': 'NativeCurrency', 'type': 'Native', 'symbol': 'eth', 'name': 'Ethereum', 'logo': 'https://assets.coingecko.com/coins/images/279/large/ethereum.png?1696501628', 'decimals': 18, 'dollar_value': '3500.530029296875'}, 'type': 'Transfer', 'from': '0x7a250d5630b4cf539739df2c5dacb4c659f2488d', 'to': '0x36a2ffb33c1b427c46c3d30adac3ca4e8ed36179', 'amount': '0.4', 'raw_amount': '400000000000000000', 'dollar_value': '1400.21201171875'}], 'balance_changes': [{'address': '0x36a2ffb33c1b427c46c3d30adac3ca4e8ed36179', 'dollar_value': '1400.21201171875', 'transfers': [0, 4]}, {'address': '0x7a250d5630b4cf539739df2c5dacb4c659f2488d', 'dollar_value': '0', 'transfers': [1, 2, 3, 4]}, {'address': '0xc02aaa39b223fe8d0a0e5c4f27ead9083c756cc2', 'dollar_value': '-1400.21201171875', 'transfers': [3]}, {'address': '0xe1ebdf64f7f3a31723e767a561345f958233bb7d', 'dollar_value': '-1400.0120117187500001', 'transfers': [0, 1]}]}, 'stack_trace': None, 'logs': [{'name': '', 'anonymous': False, 'inputs': None, 'raw': {'address': '0xb0699d63aef20df3f1cffa9ca2bb8670416271d2', 'topics': ['0xddf252ad1be2c89b69c2b068fc378daa952ba7f163c4a11628f55a4df523b3ef', '0x00000000000000000000000036a2ffb33c1b427c46c3d30adac3ca4e8ed36179', '0x000000000000000000000000e1ebdf64f7f3a31723e767a561345f958233bb7d'], 'data': '0x00000000000000000000000000000000000000000000002bc5a7a7a906f793a4'}, 'trace_index': None}, {'name': '', 'anonymous': False, 'inputs': None, 'raw': {'address': '0xb0699d63aef20df3f1cffa9ca2bb8670416271d2', 'topics': ['0x8c5be1e5ebec7d5bd14f71427d1e84f3dd0314c0f7b2291e5b200ac8c7c3b925', '0x00000000000000000000000036a2ffb33c1b427c46c3d30adac3ca4e8ed36179', '0x0000000000000000000000007a250d5630b4cf539739df2c5dacb4c659f2488d'], 'data': '0xffffffffffffffffffffffffffffffffffffffffffffff95667ba4a72df891d9'}, 'trace_index': None}, {'name': '', 'anonymous': False, 'inputs': None, 'raw': {'address': '0xc02aaa39b223fe8d0a0e5c4f27ead9083c756cc2', 'topics': ['0xddf252ad1be2c89b69c2b068fc378daa952ba7f163c4a11628f55a4df523b3ef', '0x000000000000000000000000e1ebdf64f7f3a31723e767a561345f958233bb7d', '0x0000000000000000000000007a250d5630b4cf539739df2c5dacb4c659f2488d'], 'data': '0x000000000000000000000000000000000000000000000000058d15e176280000'}, 'trace_index': None}, {'name': '', 'anonymous': False, 'inputs': None, 'raw': {'address': '0xe1ebdf64f7f3a31723e767a561345f958233bb7d', 'topics': ['0x1c411e9a96e071241c2f21f7726b17ae89e3cab4c78be50e062b03a9fffbbad1'], 'data': '0x0000000000000000000000000000000000000000000007b3b1c5f1337ba48e31000000000000000000000000000000000000000000000000f53b6b7c5522a4d6'}, 'trace_index': None}, {'name': '', 'anonymous': False, 'inputs': None, 'raw': {'address': '0xe1ebdf64f7f3a31723e767a561345f958233bb7d', 'topics': ['0xd78ad95fa46c994b6551d0da85fc275fe613ce37657fb8d5e3d130840159d822', '0x0000000000000000000000007a250d5630b4cf539739df2c5dacb4c659f2488d', '0x0000000000000000000000007a250d5630b4cf539739df2c5dacb4c659f2488d'], 'data': '0x00000000000000000000000000000000000000000000002bc5a7a7a906f793a400000000000000000000000000000000000000000000000000000000000000000000000000000000000000000000000000000000000000000000000000000000000000000000000000000000000000000000000000000000058d15e176280000'}, 'trace_index': None}, {'name': '', 'anonymous': False, 'inputs': None, 'raw': {'address': '0xc02aaa39b223fe8d0a0e5c4f27ead9083c756cc2', 'topics': ['0x7fcf532c15f0a6db0bd6d0e038bea71d30d808c7d98cb3bf7268a95bf5081b65', '0x0000000000000000000000007a250d5630b4cf539739df2c5dacb4c659f2488d'], 'data': '0x000000000000000000000000000000000000000000000000058d15e176280000'}, 'trace_index': None}], 'balance_diff': [{'address': '0x36A2fFB33C1B427C46C3D30Adac3cA4e8ED36179', 'original': '3645552260913875932', 'dirty': '4045552260913875932', 'is_miner': False}, {'address': '0xC02aaA39b223FE8D0A0e5C4F27eAD9083C756Cc2', 'original': '3036058902932793225040012', 'dirty': '3036058502932793225040012', 'is_miner': False}], 'nonce_diff': [{'address': '0x36A2fFB33C1B427C46C3D30Adac3cA4e8ED36179', 'original': '1799', 'dirty': '1800'}], 'state_diff': [{'address': '0xb0699d63aef20df3f1cffa9ca2bb8670416271d2', 'soltype': None, 'original': None, 'dirty': None, 'raw': [{'address': '0xb0699d63aef20df3f1cffa9ca2bb8670416271d2', 'key': '0x7f960f58c9fb0b00d2cd1656b80b1f457ac170ce71656a6bee55b2264adee3a7', 'original': '0x000000000000000000000000000000000000000000000787ec1e498a74acfa8d', 'dirty': '0x0000000000000000000000000000000000000000000007b3b1c5f1337ba48e31'}]}, {'address': '0xb0699d63aef20df3f1cffa9ca2bb8670416271d2', 'soltype': None, 'original': None, 'dirty': None, 'raw': [{'address': '0xb0699d63aef20df3f1cffa9ca2bb8670416271d2', 'key': '0xa29da9b5ee05f70de61357e9565a31007dd5c952a649606eaae73c85825d5c75', 'original': '0x000000000000000000000000000000000000000000000055e6564f84cac5a74b', 'dirty': '0x00000000000000000000000000000000000000000000002a20aea7dbc3ce13a7'}]}, {'address': '0xb0699d63aef20df3f1cffa9ca2bb8670416271d2', 'soltype': None, 'original': None, 'dirty': None, 'raw': [{'address': '0xb0699d63aef20df3f1cffa9ca2bb8670416271d2', 'key': '0xf3531f5f72028242795dc772c2fd7fb3ba054d0319ca470709dafc0ec7b7f8e9', 'original': '0xffffffffffffffffffffffffffffffffffffffffffffffc12c234c5034f0257d', 'dirty': '0xffffffffffffffffffffffffffffffffffffffffffffff95667ba4a72df891d9'}]}, {'address': '0xc02aaa39b223fe8d0a0e5c4f27ead9083c756cc2', 'soltype': None, 'original': None, 'dirty': None, 'raw': [{'address': '0xc02aaa39b223fe8d0a0e5c4f27ead9083c756cc2', 'key': '0x7be9da7ff8a0f39c9dfd3ede1a9bccfcb6f6bc4c830639f9b621772917b1e9df', 'original': '0x000000000000000000000000000000000000000000000000fac8815dcb4aa4d6', 'dirty': '0x000000000000000000000000000000000000000000000000f53b6b7c5522a4d6'}]}, {'address': '0xe1ebdf64f7f3a31723e767a561345f958233bb7d', 'soltype': None, 'original': None, 'dirty': None, 'raw': [{'address': '0xe1ebdf64f7f3a31723e767a561345f958233bb7d', 'key': '0x0000000000000000000000000000000000000000000000000000000000000008', 'original': '0x65ef0043000000000000fac8815dcb4aa4d6000000000787ec1e498a74acfa8d', 'dirty': '0x65ef008b000000000000f53b6b7c5522a4d60000000007b3b1c5f1337ba48e31'}]}, {'address': '0xe1ebdf64f7f3a31723e767a561345f958233bb7d', 'soltype': None, 'original': None, 'dirty': None, 'raw': [{'address': '0xe1ebdf64f7f3a31723e767a561345f958233bb7d', 'key': '0x0000000000000000000000000000000000000000000000000000000000000009', 'original': '0x00000000000000000000000000000000007175a42ca8cf229828f6d5d33d855c', 'dirty': '0x0000000000000000000000000000000000717f01ccdee1b4be46d4812a066afc'}]}, {'address': '0xe1ebdf64f7f3a31723e767a561345f958233bb7d', 'soltype': None, 'original': None, 'dirty': None, 'raw': [{'address': '0xe1ebdf64f7f3a31723e767a561345f958233bb7d', 'key': '0x000000000000000000000000000000000000000000000000000000000000000a', 'original': '0x000000000000000000000000000008ec6bcda8f96a947118e2b79ee7865fdfbc', 'dirty': '0x000000000000000000000000000008ee954f97df95947836573481a6397eab8c'}]}], 'raw_state_diff': None, 'console_logs': None, 'asset_changes': [{'token_info': {'standard': 'ERC20', 'contract_address': '0xb0699d63aef20df3f1cffa9ca2bb8670416271d2'}, 'type': 'Transfer', 'from': '0x36a2ffb33c1b427c46c3d30adac3ca4e8ed36179', 'to': '0xe1ebdf64f7f3a31723e767a561345f958233bb7d', 'amount': None, 'raw_amount': '807452531860501402532', 'dollar_value': None}, {'token_info': {'standard': 'ERC20', 'type': 'Fungible', 'contract_address': '0xc02aaa39b223fe8d0a0e5c4f27ead9083c756cc2', 'symbol': 'weth', 'name': 'WETH', 'logo': 'https://assets.coingecko.com/coins/images/2518/large/weth.png?1696503332', 'decimals': 18, 'dollar_value': '3500.030029296875'}, 'type': 'Transfer', 'from': '0xe1ebdf64f7f3a31723e767a561345f958233bb7d', 'to': '0x7a250d5630b4cf539739df2c5dacb4c659f2488d', 'amount': '0.4', 'raw_amount': '400000000000000000', 'dollar_value': '1400.0120117187500001'}, {'token_info': {'standard': 'ERC20', 'type': 'Fungible', 'contract_address': '0xc02aaa39b223fe8d0a0e5c4f27ead9083c756cc2', 'symbol': 'weth', 'name': 'WETH', 'logo': 'https://assets.coingecko.com/coins/images/2518/large/weth.png?1696503332', 'decimals': 18, 'dollar_value': '3500.030029296875'}, 'type': 'Burn', 'from': '0x7a250d5630b4cf539739df2c5dacb4c659f2488d', 'amount': '0.4', 'raw_amount': '400000000000000000', 'dollar_value': '1400.0120117187500001'}, {'token_info': {'standard': 'NativeCurrency', 'type': 'Native', 'symbol': 'eth', 'name': 'Ethereum', 'logo': 'https://assets.coingecko.com/coins/images/279/large/ethereum.png?1696501628', 'decimals': 18, 'dollar_value': '3500.530029296875'}, 'type': 'Transfer', 'from': '0xc02aaa39b223fe8d0a0e5c4f27ead9083c756cc2', 'to': '0x7a250d5630b4cf539739df2c5dacb4c659f2488d', 'amount': '0.4', 'raw_amount': '400000000000000000', 'dollar_value': '1400.21201171875'}, {'token_info': {'standard': 'NativeCurrency', 'type': 'Native', 'symbol': 'eth', 'name': 'Ethereum', 'logo': 'https://assets.coingecko.com/coins/images/279/large/ethereum.png?1696501628', 'decimals': 18, 'dollar_value': '3500.530029296875'}, 'type': 'Transfer', 'from': '0x7a250d5630b4cf539739df2c5dacb4c659f2488d', 'to': '0x36a2ffb33c1b427c46c3d30adac3ca4e8ed36179', 'amount': '0.4', 'raw_amount': '400000000000000000', 'dollar_value': '1400.21201171875'}], 'balance_changes': [{'address': '0x36a2ffb33c1b427c46c3d30adac3ca4e8ed36179', 'dollar_value': '1400.21201171875', 'transfers': [0, 4]}, {'address': '0x7a250d5630b4cf539739df2c5dacb4c659f2488d', 'dollar_value': '0', 'transfers': [1, 2, 3, 4]}, {'address': '0xc02aaa39b223fe8d0a0e5c4f27ead9083c756cc2', 'dollar_value': '-1400.21201171875', 'transfers': [3]}, {'address': '0xe1ebdf64f7f3a31723e767a561345f958233bb7d', 'dollar_value': '-1400.0120117187500001', 'transfers': [0, 1]}], 'created_at': '2024-03-11T13:00:59Z'}, 'method': '', 'decoded_input': None, 'call_trace': [{'call_type': 'CALL', 'from': '0x36a2ffb33c1b427c46c3d30adac3ca4e8ed36179', 'to': '0x7a250d5630b4cf539739df2c5dacb4c659f2488d', 'gas': 9223372036854752747, 'gas_used': 142036, 'address': '0x7a250d5630b4cf539739df2c5dacb4c659f2488d', 'subtraces': 5, 'input': '0x4a25d94a000000000000000000000000000000000000000000000000058d15e17628000000000000000000000000000000000000000000000000002f461b77a211c3b3ee00000000000000000000000000000000000000000000000000000000000000a000000000000000000000000036a2ffb33c1b427c46c3d30adac3ca4e8ed361790000000000000000000000000000000000000000000000000000000065ef077b0000000000000000000000000000000000000000000000000000000000000002000000000000000000000000b0699d63aef20df3f1cffa9ca2bb8670416271d2000000000000000000000000c02aaa39b223fe8d0a0e5c4f27ead9083c756cc2', 'output': '0x0000000000000000000000000000000000000000000000000000000000000020000000000000000000000000000000000000000000000000000000000000000200000000000000000000000000000000000000000000002bc5a7a7a906f793a4000000000000000000000000000000000000000000000000058d15e176280000', 'fromBalance': '0x32979a7761e4cbdc', 'toBalance': '0x58d15e17628000'}, {'call_type': 'STATICCALL', 'from': '0x7a250d5630b4cf539739df2c5dacb4c659f2488d', 'to': '0xe1ebdf64f7f3a31723e767a561345f958233bb7d', 'gas': 9079256848778892500, 'gas_used': 2504, 'address': '0xe1ebdf64f7f3a31723e767a561345f958233bb7d', 'trace_address': [0], 'input': '0x0902f1ac', 'output': '0x000000000000000000000000000000000000000000000787ec1e498a74acfa8d000000000000000000000000000000000000000000000000fac8815dcb4aa4d60000000000000000000000000000000000000000000000000000000065ef0043', 'gas_in': 9223372036854748042, 'gas_cost': 9079256848778892606, 'fromBalance': '0x58d15e17628000'}, {'call_type': 'CALL', 'from': '0x7a250d5630b4cf539739df2c5dacb4c659f2488d', 'to': '0xb0699d63aef20df3f1cffa9ca2bb8670416271d2', 'gas': 9079256848778884765, 'gas_used': 44797, 'address': '0xb0699d63aef20df3f1cffa9ca2bb8670416271d2', 'trace_address': [1], 'input': '0x23b872dd00000000000000000000000036a2ffb33c1b427c46c3d30adac3ca4e8ed36179000000000000000000000000e1ebdf64f7f3a31723e767a561345f958233bb7d00000000000000000000000000000000000000000000002bc5a7a7a906f793a4', 'output': '0x0000000000000000000000000000000000000000000000000000000000000001', 'gas_in': 9223372036854742678, 'gas_cost': 9079256848778887365, 'fromBalance': '0x58d15e17628000', 'toBalance': '0x81ad7663141316'}, {'call_type': 'CALL', 'from': '0x7a250d5630b4cf539739df2c5dacb4c659f2488d', 'to': '0xe1ebdf64f7f3a31723e767a561345f958233bb7d', 'gas': 9079256848778838475, 'gas_used': 64980, 'address': '0xe1ebdf64f7f3a31723e767a561345f958233bb7d', 'subtraces': 3, 'trace_address': [2], 'input': '0x022c0d9f0000000000000000000000000000000000000000000000000000000000000000000000000000000000000000000000000000000000000000058d15e1762800000000000000000000000000007a250d5630b4cf539739df2c5dacb4c659f2488d00000000000000000000000000000000000000000000000000000000000000800000000000000000000000000000000000000000000000000000000000000000', 'gas_in': 9223372036854693153, 'gas_cost': 9079256848778838575, 'fromBalance': '0x58d15e17628000'}, {'call_type': 'CALL', 'from': '0xe1ebdf64f7f3a31723e767a561345f958233bb7d', 'to': '0xc02aaa39b223fe8d0a0e5c4f27ead9083c756cc2', 'gas': 8937393460516655928, 'gas_used': 29962, 'address': '0xc02aaa39b223fe8d0a0e5c4f27ead9083c756cc2', 'trace_address': [2, 0], 'input': '0xa9059cbb0000000000000000000000007a250d5630b4cf539739df2c5dacb4c659f2488d000000000000000000000000000000000000000000000000058d15e176280000', 'output': '0x0000000000000000000000000000000000000000000000000000000000000001', 'gas_in': 9079256848778827669, 'gas_cost': 8937393460516658528, 'toBalance': '0x0282e9153a17e78a62d08c'}, {'call_type': 'STATICCALL', 'from': '0xe1ebdf64f7f3a31723e767a561345f958233bb7d', 'to': '0xb0699d63aef20df3f1cffa9ca2bb8670416271d2', 'gas': 8937393460516625832, 'gas_used': 661, 'address': '0xb0699d63aef20df3f1cffa9ca2bb8670416271d2', 'trace_address': [2, 1], 'input': '0x70a08231000000000000000000000000e1ebdf64f7f3a31723e767a561345f958233bb7d', 'output': '0x0000000000000000000000000000000000000000000007b3b1c5f1337ba48e31', 'gas_in': 9079256848778794596, 'gas_cost': 8937393460516625932, 'toBalance': '0x81ad7663141316'}, {'call_type': 'STATICCALL', 'from': '0xe1ebdf64f7f3a31723e767a561345f958233bb7d', 'to': '0xc02aaa39b223fe8d0a0e5c4f27ead9083c756cc2', 'gas': 8937393460516624776, 'gas_used': 534, 'address': '0xc02aaa39b223fe8d0a0e5c4f27ead9083c756cc2', 'trace_address': [2, 2], 'input': '0x70a08231000000000000000000000000e1ebdf64f7f3a31723e767a561345f958233bb7d', 'output': '0x000000000000000000000000000000000000000000000000f53b6b7c5522a4d6', 'gas_in': 9079256848778793523, 'gas_cost': 8937393460516624876, 'toBalance': '0x0282e9153a17e78a62d08c'}, {'call_type': 'CALL', 'from': '0x7a250d5630b4cf539739df2c5dacb4c659f2488d', 'to': '0xc02aaa39b223fe8d0a0e5c4f27ead9083c756cc2', 'gas': 9079256848778774003, 'gas_used': 9223, 'address': '0xc02aaa39b223fe8d0a0e5c4f27ead9083c756cc2', 'subtraces': 1, 'trace_address': [3], 'input': '0x2e1a7d4d000000000000000000000000000000000000000000000000058d15e176280000', 'gas_in': 9223372036854627658, 'gas_cost': 9079256848778774103, 'fromBalance': '0x58d15e17628000', 'toBalance': '0x0282e9153a17e78a62d08c'}, {'call_type': 'CALL', 'from': '0xc02aaa39b223fe8d0a0e5c4f27ead9083c756cc2', 'to': '0x7a250d5630b4cf539739df2c5dacb4c659f2488d', 'gas': 2300, 'gas_used': 83, 'value': '0x058d15e176280000', 'address': '0x7a250d5630b4cf539739df2c5dacb4c659f2488d', 'trace_address': [3, 0], 'gas_in': 9079256848778773152, 'gas_cost': 9100, 'fromBalance': '0x0282e9153a17e78a62d08c', 'toBalance': '0x58d15e17628000'}, {'call_type': 'CALL', 'from': '0x7a250d5630b4cf539739df2c5dacb4c659f2488d', 'to': '0x36a2ffb33c1b427c46c3d30adac3ca4e8ed36179', 'gas': 9079256848778757867, 'value': '0x058d15e176280000', 'address': '0x36a2ffb33c1b427c46c3d30adac3ca4e8ed36179', 'trace_address': [4], 'gas_in': 9223372036854617929, 'gas_cost': 9079256848778764667, 'fromBalance': '0x05e5e73f8d8a8000', 'toBalance': '0x32979a7761e4cbdc'}]}, 'simulation': {'id': '28cbd26b-8fe6-4fb8-be51-240db17d3653', 'project_id': '85458be4-b610-457c-a5a5-51dbe1a1fe5c', 'owner_id': '60c6d750-7e6d-47ce-b6f0-be64f0df2aa4', 'network_id': '1', 'block_number': 19412019, 'transaction_index': 0, 'from': '0x36a2ffb33c1b427c46c3d30adac3ca4e8ed36179', 'to': '0x7a250d5630b4cf539739df2c5dacb4c659f2488d', 'input': '0x4a25d94a000000000000000000000000000000000000000000000000058d15e17628000000000000000000000000000000000000000000000000002f461b77a211c3b3ee00000000000000000000000000000000000000000000000000000000000000a000000000000000000000000036a2ffb33c1b427c46c3d30adac3ca4e8ed361790000000000000000000000000000000000000000000000000000000065ef077b0000000000000000000000000000000000000000000000000000000000000002000000000000000000000000b0699d63aef20df3f1cffa9ca2bb8670416271d2000000000000000000000000c02aaa39b223fe8d0a0e5c4f27ead9083c756cc2', 'gas': 0, 'gas_price': '0', 'gas_used': 142396, 'value': '0', 'status': True, 'access_list': None, 'queue_origin': '', 'block_header': {'number': '0x1283433', 'hash': '0x0000000000000000000000000000000000000000000000000000000000000000', 'stateRoot': '0x8bdbe68af67862c60a0809cbd83aeba6f3e3d077cd56b16522d62bc77e31897a', 'parentHash': '0x0891ac4c4c43f987a5cf6074f8b943e19beb0c723874e4c8fbdfdc47591d2153', 'sha3Uncles': '0x1dcc4de8dec75d7aab85b567b6ccd41ad312451b948a7413f0a142fd40d49347', 'transactionsRoot': '0xfab76ea29d34b8a47a43d6d7cc0d5d63338eea33a56db19406432ed2aa08f9ee', 'receiptsRoot': '0xa75c31eedbe7588351f00ef60b74df6bc6e24681a16d40876d7ae654fd263214', 'logsBloom': '0x497b9152589840a63a6a8a009000121b93c140122bfe80006d9de0142f0a4eea2474c58d103403308aa313883e9a1f9a93a0a6709e92f9f023097189086a2944da4af1dee223281b6c22e018820244e6992829871cd23e403924c6c8c3242005621c8a0d0f438501044dd2b2ae607c89e212022e41024d8b96aa4534a91f433023114bb84286a70844e13143b300062409193aa9e9dd408a613be2f3c09e70a813dcc9795cd1ea132e7114cf8e9bafa88b69e106a83207802f55049a4004ccf0b37850d222c8ca674768618b0009a3e6e4b0a1e31a08691c1a93914e8930e1489078f0298d31238b279443a122c0180552abd4a2cb084c651235302d18c3580d', 'timestamp': '0x65ef008b', 'difficulty': '0x0', 'gasLimit': '0x1c9c380', 'gasUsed': '0xae2e39', 'miner': '0x95222290dd7278aa3ddd389cc1e1d165cc4bafe5', 'extraData': '0x6265617665726275696c642e6f7267', 'mixHash': '0x4474ef7979aac444805796ec97eaa333714935de5ee0a56626a51a30b0ffebc1', 'nonce': '0x0000000000000000', 'baseFeePerGas': '0x11c71f6253', 'size': '0x0', 'totalDifficulty': '0x0', 'uncles': None, 'transactions': None}, 'deposit_tx': False, 'system_tx': False, 'nonce': 1799, 'addresses': None, 'contract_ids': None, 'shared': False, 'created_at': '2024-03-29T16:29:31.414738261Z'}, 'contracts': [], 'generated_access_list': []}\n",
      "{'token_info': {'standard': 'ERC20', 'contract_address': '0xb0699d63aef20df3f1cffa9ca2bb8670416271d2'}, 'type': 'Transfer', 'from': '0x36a2ffb33c1b427c46c3d30adac3ca4e8ed36179', 'to': '0xe1ebdf64f7f3a31723e767a561345f958233bb7d', 'amount': None, 'raw_amount': '807452531860501402532', 'dollar_value': None}\n",
      "{'token_info': {'standard': 'ERC20', 'type': 'Fungible', 'contract_address': '0xc02aaa39b223fe8d0a0e5c4f27ead9083c756cc2', 'symbol': 'weth', 'name': 'WETH', 'logo': 'https://assets.coingecko.com/coins/images/2518/large/weth.png?1696503332', 'decimals': 18, 'dollar_value': '3500.030029296875'}, 'type': 'Transfer', 'from': '0xe1ebdf64f7f3a31723e767a561345f958233bb7d', 'to': '0x7a250d5630b4cf539739df2c5dacb4c659f2488d', 'amount': '0.4', 'raw_amount': '400000000000000000', 'dollar_value': '1400.0120117187500001'}\n",
      "{'token_info': {'standard': 'ERC20', 'type': 'Fungible', 'contract_address': '0xc02aaa39b223fe8d0a0e5c4f27ead9083c756cc2', 'symbol': 'weth', 'name': 'WETH', 'logo': 'https://assets.coingecko.com/coins/images/2518/large/weth.png?1696503332', 'decimals': 18, 'dollar_value': '3500.030029296875'}, 'type': 'Burn', 'from': '0x7a250d5630b4cf539739df2c5dacb4c659f2488d', 'amount': '0.4', 'raw_amount': '400000000000000000', 'dollar_value': '1400.0120117187500001'}\n",
      "{'token_info': {'standard': 'NativeCurrency', 'type': 'Native', 'symbol': 'eth', 'name': 'Ethereum', 'logo': 'https://assets.coingecko.com/coins/images/279/large/ethereum.png?1696501628', 'decimals': 18, 'dollar_value': '3500.530029296875'}, 'type': 'Transfer', 'from': '0xc02aaa39b223fe8d0a0e5c4f27ead9083c756cc2', 'to': '0x7a250d5630b4cf539739df2c5dacb4c659f2488d', 'amount': '0.4', 'raw_amount': '400000000000000000', 'dollar_value': '1400.21201171875'}\n",
      "{'token_info': {'standard': 'NativeCurrency', 'type': 'Native', 'symbol': 'eth', 'name': 'Ethereum', 'logo': 'https://assets.coingecko.com/coins/images/279/large/ethereum.png?1696501628', 'decimals': 18, 'dollar_value': '3500.530029296875'}, 'type': 'Transfer', 'from': '0x7a250d5630b4cf539739df2c5dacb4c659f2488d', 'to': '0x36a2ffb33c1b427c46c3d30adac3ca4e8ed36179', 'amount': '0.4', 'raw_amount': '400000000000000000', 'dollar_value': '1400.21201171875'}\n",
      "2\n",
      "{'transaction': {'hash': '0x06ec0d6e88358f2cb7ef6082ea25b8521fab055d13d6ccd8b29f3b92360a2bb6', 'block_hash': '', 'block_number': 19412019, 'from': '0x36a2ffb33c1b427c46c3d30adac3ca4e8ed36179', 'gas': 9223372036854775807, 'gas_price': 0, 'gas_fee_cap': 0, 'gas_tip_cap': 0, 'cumulative_gas_used': 0, 'gas_used': 131980, 'effective_gas_price': 0, 'input': '0x4a25d94a000000000000000000000000000000000000000000000000058d15e17628000000000000000000000000000000000000000000000000002f461b77a211c3b3ee00000000000000000000000000000000000000000000000000000000000000a000000000000000000000000036a2ffb33c1b427c46c3d30adac3ca4e8ed361790000000000000000000000000000000000000000000000000000000065ef077b0000000000000000000000000000000000000000000000000000000000000002000000000000000000000000b0699d63aef20df3f1cffa9ca2bb8670416271d2000000000000000000000000c02aaa39b223fe8d0a0e5c4f27ead9083c756cc2', 'nonce': 1799, 'to': '0x7a250d5630b4cf539739df2c5dacb4c659f2488d', 'index': 2, 'value': '0x', 'access_list': None, 'status': True, 'addresses': None, 'contract_ids': None, 'network_id': '1', 'timestamp': '2024-03-11T13:00:59Z', 'function_selector': '', 'l1_block_number': 0, 'l1_timestamp': 0, 'deposit_tx': False, 'system_tx': False, 'sig': {'v': '0x0', 'r': '0x0', 's': '0x0'}, 'transaction_info': {'contract_id': 'eth:1:0x7a250d5630b4cf539739df2c5dacb4c659f2488d', 'block_number': 19412019, 'transaction_id': '0x06ec0d6e88358f2cb7ef6082ea25b8521fab055d13d6ccd8b29f3b92360a2bb6', 'contract_address': '0x7a250d5630b4cf539739df2c5dacb4c659f2488d', 'method': None, 'parameters': None, 'intrinsic_gas': 23060, 'refund_gas': 22700, 'call_trace': {'hash': '0x06ec0d6e88358f2cb7ef6082ea25b8521fab055d13d6ccd8b29f3b92360a2bb6', 'contract_name': '', 'function_pc': 0, 'function_op': 'CALL', 'absolute_position': 0, 'caller_pc': 0, 'caller_op': 'CALL', 'call_type': 'CALL', 'address': '0x36a2ffb33c1b427c46c3d30adac3ca4e8ed36179', 'from': '0x36a2ffb33c1b427c46c3d30adac3ca4e8ed36179', 'from_balance': '3645552260913875932', 'to': '0x7a250d5630b4cf539739df2c5dacb4c659f2488d', 'to_balance': '25000000000000000', 'value': '0', 'block_timestamp': '0001-01-01T00:00:00Z', 'gas': 9223372036854752747, 'gas_used': 131620, 'intrinsic_gas': 23060, 'refund_gas': 22700, 'storage_address': '0x36a2ffb33c1b427c46c3d30adac3ca4e8ed36179', 'input': '0x4a25d94a000000000000000000000000000000000000000000000000058d15e17628000000000000000000000000000000000000000000000000002f461b77a211c3b3ee00000000000000000000000000000000000000000000000000000000000000a000000000000000000000000036a2ffb33c1b427c46c3d30adac3ca4e8ed361790000000000000000000000000000000000000000000000000000000065ef077b0000000000000000000000000000000000000000000000000000000000000002000000000000000000000000b0699d63aef20df3f1cffa9ca2bb8670416271d2000000000000000000000000c02aaa39b223fe8d0a0e5c4f27ead9083c756cc2', 'balance_diff': [{'address': '0x36A2fFB33C1B427C46C3D30Adac3cA4e8ED36179', 'original': '3645552260913875932', 'dirty': '4045552260913875932', 'is_miner': False}, {'address': '0xC02aaA39b223FE8D0A0e5C4F27eAD9083C756Cc2', 'original': '3036059102932793225040012', 'dirty': '3036058702932793225040012', 'is_miner': False}], 'nonce_diff': [{'address': '0x36A2fFB33C1B427C46C3D30Adac3cA4e8ED36179', 'original': '1799', 'dirty': '1800'}], 'state_diff': [{'address': '0xb0699d63aef20df3f1cffa9ca2bb8670416271d2', 'soltype': None, 'original': None, 'dirty': None, 'raw': [{'address': '0xb0699d63aef20df3f1cffa9ca2bb8670416271d2', 'key': '0x7f960f58c9fb0b00d2cd1656b80b1f457ac170ce71656a6bee55b2264adee3a7', 'original': '0x0000000000000000000000000000000000000000000007b8b890d2fd85cb6e55', 'dirty': '0x0000000000000000000000000000000000000000000007e6c1be2936976cbb89'}]}, {'address': '0xb0699d63aef20df3f1cffa9ca2bb8670416271d2', 'soltype': None, 'original': None, 'dirty': None, 'raw': [{'address': '0xb0699d63aef20df3f1cffa9ca2bb8670416271d2', 'key': '0xa29da9b5ee05f70de61357e9565a31007dd5c952a649606eaae73c85825d5c75', 'original': '0x000000000000000000000000000000000000000000000055e6564f84cac5a74b', 'dirty': '0x000000000000000000000000000000000000000000000027dd28f94bb9245a17'}]}, {'address': '0xb0699d63aef20df3f1cffa9ca2bb8670416271d2', 'soltype': None, 'original': None, 'dirty': None, 'raw': [{'address': '0xb0699d63aef20df3f1cffa9ca2bb8670416271d2', 'key': '0xf3531f5f72028242795dc772c2fd7fb3ba054d0319ca470709dafc0ec7b7f8e9', 'original': '0xffffffffffffffffffffffffffffffffffffffffffffffc12c234c5034f0257d', 'dirty': '0xffffffffffffffffffffffffffffffffffffffffffffff9322f5f617234ed849'}]}, {'address': '0xc02aaa39b223fe8d0a0e5c4f27ead9083c756cc2', 'soltype': None, 'original': None, 'dirty': None, 'raw': [{'address': '0xc02aaa39b223fe8d0a0e5c4f27ead9083c756cc2', 'key': '0x7be9da7ff8a0f39c9dfd3ede1a9bccfcb6f6bc4c830639f9b621772917b1e9df', 'original': '0x000000000000000000000000000000000000000000000000f4a04dcd535ea4d6', 'dirty': '0x000000000000000000000000000000000000000000000000ef1337ebdd36a4d6'}]}, {'address': '0xe1ebdf64f7f3a31723e767a561345f958233bb7d', 'soltype': None, 'original': None, 'dirty': None, 'raw': [{'address': '0xe1ebdf64f7f3a31723e767a561345f958233bb7d', 'key': '0x0000000000000000000000000000000000000000000000000000000000000008', 'original': '0x65ef008b000000000000f4a04dcd535ea4d60000000007b8b890d2fd85cb6e55', 'dirty': '0x65ef008b000000000000ef1337ebdd36a4d60000000007e6c1be2936976cbb89'}]}], 'logs': [{'name': '', 'anonymous': False, 'inputs': None, 'raw': {'address': '0xb0699d63aef20df3f1cffa9ca2bb8670416271d2', 'topics': ['0xddf252ad1be2c89b69c2b068fc378daa952ba7f163c4a11628f55a4df523b3ef', '0x00000000000000000000000036a2ffb33c1b427c46c3d30adac3ca4e8ed36179', '0x000000000000000000000000e1ebdf64f7f3a31723e767a561345f958233bb7d'], 'data': '0x00000000000000000000000000000000000000000000002e092d563911a14d34'}, 'trace_index': None}, {'name': '', 'anonymous': False, 'inputs': None, 'raw': {'address': '0xb0699d63aef20df3f1cffa9ca2bb8670416271d2', 'topics': ['0x8c5be1e5ebec7d5bd14f71427d1e84f3dd0314c0f7b2291e5b200ac8c7c3b925', '0x00000000000000000000000036a2ffb33c1b427c46c3d30adac3ca4e8ed36179', '0x0000000000000000000000007a250d5630b4cf539739df2c5dacb4c659f2488d'], 'data': '0xffffffffffffffffffffffffffffffffffffffffffffff9322f5f617234ed849'}, 'trace_index': None}, {'name': '', 'anonymous': False, 'inputs': None, 'raw': {'address': '0xc02aaa39b223fe8d0a0e5c4f27ead9083c756cc2', 'topics': ['0xddf252ad1be2c89b69c2b068fc378daa952ba7f163c4a11628f55a4df523b3ef', '0x000000000000000000000000e1ebdf64f7f3a31723e767a561345f958233bb7d', '0x0000000000000000000000007a250d5630b4cf539739df2c5dacb4c659f2488d'], 'data': '0x000000000000000000000000000000000000000000000000058d15e176280000'}, 'trace_index': None}, {'name': '', 'anonymous': False, 'inputs': None, 'raw': {'address': '0xe1ebdf64f7f3a31723e767a561345f958233bb7d', 'topics': ['0x1c411e9a96e071241c2f21f7726b17ae89e3cab4c78be50e062b03a9fffbbad1'], 'data': '0x0000000000000000000000000000000000000000000007e6c1be2936976cbb89000000000000000000000000000000000000000000000000ef1337ebdd36a4d6'}, 'trace_index': None}, {'name': '', 'anonymous': False, 'inputs': None, 'raw': {'address': '0xe1ebdf64f7f3a31723e767a561345f958233bb7d', 'topics': ['0xd78ad95fa46c994b6551d0da85fc275fe613ce37657fb8d5e3d130840159d822', '0x0000000000000000000000007a250d5630b4cf539739df2c5dacb4c659f2488d', '0x0000000000000000000000007a250d5630b4cf539739df2c5dacb4c659f2488d'], 'data': '0x00000000000000000000000000000000000000000000002e092d563911a14d3400000000000000000000000000000000000000000000000000000000000000000000000000000000000000000000000000000000000000000000000000000000000000000000000000000000000000000000000000000000058d15e176280000'}, 'trace_index': None}, {'name': '', 'anonymous': False, 'inputs': None, 'raw': {'address': '0xc02aaa39b223fe8d0a0e5c4f27ead9083c756cc2', 'topics': ['0x7fcf532c15f0a6db0bd6d0e038bea71d30d808c7d98cb3bf7268a95bf5081b65', '0x0000000000000000000000007a250d5630b4cf539739df2c5dacb4c659f2488d'], 'data': '0x000000000000000000000000000000000000000000000000058d15e176280000'}, 'trace_index': None}], 'output': '0x0000000000000000000000000000000000000000000000000000000000000020000000000000000000000000000000000000000000000000000000000000000200000000000000000000000000000000000000000000002e092d563911a14d34000000000000000000000000000000000000000000000000058d15e176280000', 'decoded_output': None, 'network_id': '1', 'calls': [{'hash': '', 'function_pc': 0, 'function_op': 'STOP', 'absolute_position': 719, 'caller_pc': 21331, 'caller_op': 'STATICCALL', 'call_type': 'STATICCALL', 'address': '0x7a250d5630b4cf539739df2c5dacb4c659f2488d', 'from': '0x7a250d5630b4cf539739df2c5dacb4c659f2488d', 'from_balance': '25000000000000000', 'to': '0xe1ebdf64f7f3a31723e767a561345f958233bb7d', 'to_balance': '0', 'value': None, 'block_timestamp': '0001-01-01T00:00:00Z', 'gas': 9079256848778892500, 'gas_used': 2504, 'refund_gas': 144115188075855436, 'storage_address': '0x7a250d5630b4cf539739df2c5dacb4c659f2488d', 'input': '0x0902f1ac', 'output': '0x0000000000000000000000000000000000000000000007b8b890d2fd85cb6e55000000000000000000000000000000000000000000000000f4a04dcd535ea4d60000000000000000000000000000000000000000000000000000000065ef008b', 'decoded_output': None, 'network_id': '', 'calls': None}, {'hash': '', 'function_pc': 0, 'function_op': 'STOP', 'absolute_position': 2802, 'caller_pc': 17090, 'caller_op': 'CALL', 'call_type': 'CALL', 'address': '0x7a250d5630b4cf539739df2c5dacb4c659f2488d', 'from': '0x7a250d5630b4cf539739df2c5dacb4c659f2488d', 'from_balance': '25000000000000000', 'to': '0xb0699d63aef20df3f1cffa9ca2bb8670416271d2', 'to_balance': '36500995975680790', 'value': '0', 'block_timestamp': '0001-01-01T00:00:00Z', 'gas': 9079256848778884765, 'gas_used': 44797, 'refund_gas': 144115188075855313, 'storage_address': '0x7a250d5630b4cf539739df2c5dacb4c659f2488d', 'input': '0x23b872dd00000000000000000000000036a2ffb33c1b427c46c3d30adac3ca4e8ed36179000000000000000000000000e1ebdf64f7f3a31723e767a561345f958233bb7d00000000000000000000000000000000000000000000002e092d563911a14d34', 'output': '0x0000000000000000000000000000000000000000000000000000000000000001', 'decoded_output': None, 'network_id': '', 'calls': None}, {'hash': '', 'function_pc': 0, 'function_op': 'STOP', 'absolute_position': 5171, 'caller_pc': 17882, 'caller_op': 'CALL', 'call_type': 'CALL', 'address': '0x7a250d5630b4cf539739df2c5dacb4c659f2488d', 'from': '0x7a250d5630b4cf539739df2c5dacb4c659f2488d', 'from_balance': '25000000000000000', 'to': '0xe1ebdf64f7f3a31723e767a561345f958233bb7d', 'to_balance': '0', 'value': '0', 'block_timestamp': '0001-01-01T00:00:00Z', 'gas': 9079256848778838475, 'gas_used': 54564, 'refund_gas': 144115188075854578, 'storage_address': '0x7a250d5630b4cf539739df2c5dacb4c659f2488d', 'input': '0x022c0d9f0000000000000000000000000000000000000000000000000000000000000000000000000000000000000000000000000000000000000000058d15e1762800000000000000000000000000007a250d5630b4cf539739df2c5dacb4c659f2488d00000000000000000000000000000000000000000000000000000000000000800000000000000000000000000000000000000000000000000000000000000000', 'output': '0x', 'decoded_output': None, 'network_id': '', 'calls': [{'hash': '', 'function_pc': 0, 'function_op': 'STOP', 'absolute_position': 4118, 'caller_pc': 8468, 'caller_op': 'CALL', 'call_type': 'CALL', 'address': '0xe1ebdf64f7f3a31723e767a561345f958233bb7d', 'from': '0xe1ebdf64f7f3a31723e767a561345f958233bb7d', 'from_balance': '0', 'to': '0xc02aaa39b223fe8d0a0e5c4f27ead9083c756cc2', 'to_balance': '3036059102932793225040012', 'value': '0', 'block_timestamp': '0001-01-01T00:00:00Z', 'gas': 8937393460516655928, 'gas_used': 29962, 'refund_gas': 141863388262169141, 'storage_address': '0xe1ebdf64f7f3a31723e767a561345f958233bb7d', 'input': '0xa9059cbb0000000000000000000000007a250d5630b4cf539739df2c5dacb4c659f2488d000000000000000000000000000000000000000000000000058d15e176280000', 'output': '0x0000000000000000000000000000000000000000000000000000000000000001', 'decoded_output': None, 'network_id': '', 'calls': None}, {'hash': '', 'function_pc': 0, 'function_op': 'STOP', 'absolute_position': 4392, 'caller_pc': 2610, 'caller_op': 'STATICCALL', 'call_type': 'STATICCALL', 'address': '0xe1ebdf64f7f3a31723e767a561345f958233bb7d', 'from': '0xe1ebdf64f7f3a31723e767a561345f958233bb7d', 'from_balance': '0', 'to': '0xb0699d63aef20df3f1cffa9ca2bb8670416271d2', 'to_balance': '36500995975680790', 'value': None, 'block_timestamp': '0001-01-01T00:00:00Z', 'gas': 8937393460516625832, 'gas_used': 661, 'refund_gas': 141863388262168664, 'storage_address': '0xe1ebdf64f7f3a31723e767a561345f958233bb7d', 'input': '0x70a08231000000000000000000000000e1ebdf64f7f3a31723e767a561345f958233bb7d', 'output': '0x0000000000000000000000000000000000000000000007e6c1be2936976cbb89', 'decoded_output': None, 'network_id': '', 'calls': None}, {'hash': '', 'function_pc': 0, 'function_op': 'STOP', 'absolute_position': 4573, 'caller_pc': 2766, 'caller_op': 'STATICCALL', 'call_type': 'STATICCALL', 'address': '0xe1ebdf64f7f3a31723e767a561345f958233bb7d', 'from': '0xe1ebdf64f7f3a31723e767a561345f958233bb7d', 'from_balance': '0', 'to': '0xc02aaa39b223fe8d0a0e5c4f27ead9083c756cc2', 'to_balance': '3036059102932793225040012', 'value': None, 'block_timestamp': '0001-01-01T00:00:00Z', 'gas': 8937393460516624776, 'gas_used': 534, 'refund_gas': 141863388262168647, 'storage_address': '0xe1ebdf64f7f3a31723e767a561345f958233bb7d', 'input': '0x70a08231000000000000000000000000e1ebdf64f7f3a31723e767a561345f958233bb7d', 'output': '0x000000000000000000000000000000000000000000000000ef1337ebdd36a4d6', 'decoded_output': None, 'network_id': '', 'calls': None}]}, {'hash': '', 'function_pc': 0, 'function_op': 'STOP', 'absolute_position': 5476, 'caller_pc': 4899, 'caller_op': 'CALL', 'call_type': 'CALL', 'address': '0x7a250d5630b4cf539739df2c5dacb4c659f2488d', 'from': '0x7a250d5630b4cf539739df2c5dacb4c659f2488d', 'from_balance': '25000000000000000', 'to': '0xc02aaa39b223fe8d0a0e5c4f27ead9083c756cc2', 'to_balance': '3036059102932793225040012', 'value': '0', 'block_timestamp': '0001-01-01T00:00:00Z', 'gas': 9079256848778784256, 'gas_used': 9223, 'refund_gas': 144115188075853718, 'storage_address': '0x7a250d5630b4cf539739df2c5dacb4c659f2488d', 'input': '0x2e1a7d4d000000000000000000000000000000000000000000000000058d15e176280000', 'output': '0x', 'decoded_output': None, 'network_id': '', 'calls': [{'hash': '', 'function_pc': 0, 'function_op': 'STOP', 'absolute_position': 5439, 'caller_pc': 2724, 'caller_op': 'CALL', 'call_type': 'CALL', 'address': '0xc02aaa39b223fe8d0a0e5c4f27ead9083c756cc2', 'from': '0xc02aaa39b223fe8d0a0e5c4f27ead9083c756cc2', 'from_balance': '3036059102932793225040012', 'to': '0x7a250d5630b4cf539739df2c5dacb4c659f2488d', 'to_balance': '25000000000000000', 'value': '400000000000000000', 'block_timestamp': '0001-01-01T00:00:00Z', 'gas': 2300, 'gas_used': 83, 'refund_gas': 9079256848778774305, 'storage_address': '0xc02aaa39b223fe8d0a0e5c4f27ead9083c756cc2', 'input': '0x', 'output': '0x', 'decoded_output': None, 'network_id': '', 'calls': None}]}, {'hash': '', 'function_pc': 0, 'function_op': 'STOP', 'absolute_position': 5592, 'caller_pc': 15784, 'caller_op': 'CALL', 'call_type': 'CALL', 'address': '0x7a250d5630b4cf539739df2c5dacb4c659f2488d', 'from': '0x7a250d5630b4cf539739df2c5dacb4c659f2488d', 'from_balance': '425000000000000000', 'to': '0x36a2ffb33c1b427c46c3d30adac3ca4e8ed36179', 'to_balance': '3645552260913875932', 'value': '400000000000000000', 'block_timestamp': '0001-01-01T00:00:00Z', 'gas': 9223372036854628345, 'gas_used': 0, 'refund_gas': 144115188075853425, 'storage_address': '0x7a250d5630b4cf539739df2c5dacb4c659f2488d', 'input': '0x', 'output': '0x', 'decoded_output': None, 'network_id': '', 'calls': None}], 'asset_changes': [{'token_info': {'standard': 'ERC20', 'contract_address': '0xb0699d63aef20df3f1cffa9ca2bb8670416271d2'}, 'type': 'Transfer', 'from': '0x36a2ffb33c1b427c46c3d30adac3ca4e8ed36179', 'to': '0xe1ebdf64f7f3a31723e767a561345f958233bb7d', 'amount': None, 'raw_amount': '849211506914041613620', 'dollar_value': None}, {'token_info': {'standard': 'ERC20', 'type': 'Fungible', 'contract_address': '0xc02aaa39b223fe8d0a0e5c4f27ead9083c756cc2', 'symbol': 'weth', 'name': 'WETH', 'logo': 'https://assets.coingecko.com/coins/images/2518/large/weth.png?1696503332', 'decimals': 18, 'dollar_value': '3500.030029296875'}, 'type': 'Transfer', 'from': '0xe1ebdf64f7f3a31723e767a561345f958233bb7d', 'to': '0x7a250d5630b4cf539739df2c5dacb4c659f2488d', 'amount': '0.4', 'raw_amount': '400000000000000000', 'dollar_value': '1400.0120117187500001'}, {'token_info': {'standard': 'ERC20', 'type': 'Fungible', 'contract_address': '0xc02aaa39b223fe8d0a0e5c4f27ead9083c756cc2', 'symbol': 'weth', 'name': 'WETH', 'logo': 'https://assets.coingecko.com/coins/images/2518/large/weth.png?1696503332', 'decimals': 18, 'dollar_value': '3500.030029296875'}, 'type': 'Burn', 'from': '0x7a250d5630b4cf539739df2c5dacb4c659f2488d', 'amount': '0.4', 'raw_amount': '400000000000000000', 'dollar_value': '1400.0120117187500001'}, {'token_info': {'standard': 'NativeCurrency', 'type': 'Native', 'symbol': 'eth', 'name': 'Ethereum', 'logo': 'https://assets.coingecko.com/coins/images/279/large/ethereum.png?1696501628', 'decimals': 18, 'dollar_value': '3500.530029296875'}, 'type': 'Transfer', 'from': '0xc02aaa39b223fe8d0a0e5c4f27ead9083c756cc2', 'to': '0x7a250d5630b4cf539739df2c5dacb4c659f2488d', 'amount': '0.4', 'raw_amount': '400000000000000000', 'dollar_value': '1400.21201171875'}, {'token_info': {'standard': 'NativeCurrency', 'type': 'Native', 'symbol': 'eth', 'name': 'Ethereum', 'logo': 'https://assets.coingecko.com/coins/images/279/large/ethereum.png?1696501628', 'decimals': 18, 'dollar_value': '3500.530029296875'}, 'type': 'Transfer', 'from': '0x7a250d5630b4cf539739df2c5dacb4c659f2488d', 'to': '0x36a2ffb33c1b427c46c3d30adac3ca4e8ed36179', 'amount': '0.4', 'raw_amount': '400000000000000000', 'dollar_value': '1400.21201171875'}], 'balance_changes': [{'address': '0x36a2ffb33c1b427c46c3d30adac3ca4e8ed36179', 'dollar_value': '1400.21201171875', 'transfers': [0, 4]}, {'address': '0x7a250d5630b4cf539739df2c5dacb4c659f2488d', 'dollar_value': '0', 'transfers': [1, 2, 3, 4]}, {'address': '0xc02aaa39b223fe8d0a0e5c4f27ead9083c756cc2', 'dollar_value': '-1400.21201171875', 'transfers': [3]}, {'address': '0xe1ebdf64f7f3a31723e767a561345f958233bb7d', 'dollar_value': '-1400.0120117187500001', 'transfers': [0, 1]}]}, 'stack_trace': None, 'logs': [{'name': '', 'anonymous': False, 'inputs': None, 'raw': {'address': '0xb0699d63aef20df3f1cffa9ca2bb8670416271d2', 'topics': ['0xddf252ad1be2c89b69c2b068fc378daa952ba7f163c4a11628f55a4df523b3ef', '0x00000000000000000000000036a2ffb33c1b427c46c3d30adac3ca4e8ed36179', '0x000000000000000000000000e1ebdf64f7f3a31723e767a561345f958233bb7d'], 'data': '0x00000000000000000000000000000000000000000000002e092d563911a14d34'}, 'trace_index': None}, {'name': '', 'anonymous': False, 'inputs': None, 'raw': {'address': '0xb0699d63aef20df3f1cffa9ca2bb8670416271d2', 'topics': ['0x8c5be1e5ebec7d5bd14f71427d1e84f3dd0314c0f7b2291e5b200ac8c7c3b925', '0x00000000000000000000000036a2ffb33c1b427c46c3d30adac3ca4e8ed36179', '0x0000000000000000000000007a250d5630b4cf539739df2c5dacb4c659f2488d'], 'data': '0xffffffffffffffffffffffffffffffffffffffffffffff9322f5f617234ed849'}, 'trace_index': None}, {'name': '', 'anonymous': False, 'inputs': None, 'raw': {'address': '0xc02aaa39b223fe8d0a0e5c4f27ead9083c756cc2', 'topics': ['0xddf252ad1be2c89b69c2b068fc378daa952ba7f163c4a11628f55a4df523b3ef', '0x000000000000000000000000e1ebdf64f7f3a31723e767a561345f958233bb7d', '0x0000000000000000000000007a250d5630b4cf539739df2c5dacb4c659f2488d'], 'data': '0x000000000000000000000000000000000000000000000000058d15e176280000'}, 'trace_index': None}, {'name': '', 'anonymous': False, 'inputs': None, 'raw': {'address': '0xe1ebdf64f7f3a31723e767a561345f958233bb7d', 'topics': ['0x1c411e9a96e071241c2f21f7726b17ae89e3cab4c78be50e062b03a9fffbbad1'], 'data': '0x0000000000000000000000000000000000000000000007e6c1be2936976cbb89000000000000000000000000000000000000000000000000ef1337ebdd36a4d6'}, 'trace_index': None}, {'name': '', 'anonymous': False, 'inputs': None, 'raw': {'address': '0xe1ebdf64f7f3a31723e767a561345f958233bb7d', 'topics': ['0xd78ad95fa46c994b6551d0da85fc275fe613ce37657fb8d5e3d130840159d822', '0x0000000000000000000000007a250d5630b4cf539739df2c5dacb4c659f2488d', '0x0000000000000000000000007a250d5630b4cf539739df2c5dacb4c659f2488d'], 'data': '0x00000000000000000000000000000000000000000000002e092d563911a14d3400000000000000000000000000000000000000000000000000000000000000000000000000000000000000000000000000000000000000000000000000000000000000000000000000000000000000000000000000000000058d15e176280000'}, 'trace_index': None}, {'name': '', 'anonymous': False, 'inputs': None, 'raw': {'address': '0xc02aaa39b223fe8d0a0e5c4f27ead9083c756cc2', 'topics': ['0x7fcf532c15f0a6db0bd6d0e038bea71d30d808c7d98cb3bf7268a95bf5081b65', '0x0000000000000000000000007a250d5630b4cf539739df2c5dacb4c659f2488d'], 'data': '0x000000000000000000000000000000000000000000000000058d15e176280000'}, 'trace_index': None}], 'balance_diff': [{'address': '0x36A2fFB33C1B427C46C3D30Adac3cA4e8ED36179', 'original': '3645552260913875932', 'dirty': '4045552260913875932', 'is_miner': False}, {'address': '0xC02aaA39b223FE8D0A0e5C4F27eAD9083C756Cc2', 'original': '3036059102932793225040012', 'dirty': '3036058702932793225040012', 'is_miner': False}], 'nonce_diff': [{'address': '0x36A2fFB33C1B427C46C3D30Adac3cA4e8ED36179', 'original': '1799', 'dirty': '1800'}], 'state_diff': [{'address': '0xb0699d63aef20df3f1cffa9ca2bb8670416271d2', 'soltype': None, 'original': None, 'dirty': None, 'raw': [{'address': '0xb0699d63aef20df3f1cffa9ca2bb8670416271d2', 'key': '0x7f960f58c9fb0b00d2cd1656b80b1f457ac170ce71656a6bee55b2264adee3a7', 'original': '0x0000000000000000000000000000000000000000000007b8b890d2fd85cb6e55', 'dirty': '0x0000000000000000000000000000000000000000000007e6c1be2936976cbb89'}]}, {'address': '0xb0699d63aef20df3f1cffa9ca2bb8670416271d2', 'soltype': None, 'original': None, 'dirty': None, 'raw': [{'address': '0xb0699d63aef20df3f1cffa9ca2bb8670416271d2', 'key': '0xa29da9b5ee05f70de61357e9565a31007dd5c952a649606eaae73c85825d5c75', 'original': '0x000000000000000000000000000000000000000000000055e6564f84cac5a74b', 'dirty': '0x000000000000000000000000000000000000000000000027dd28f94bb9245a17'}]}, {'address': '0xb0699d63aef20df3f1cffa9ca2bb8670416271d2', 'soltype': None, 'original': None, 'dirty': None, 'raw': [{'address': '0xb0699d63aef20df3f1cffa9ca2bb8670416271d2', 'key': '0xf3531f5f72028242795dc772c2fd7fb3ba054d0319ca470709dafc0ec7b7f8e9', 'original': '0xffffffffffffffffffffffffffffffffffffffffffffffc12c234c5034f0257d', 'dirty': '0xffffffffffffffffffffffffffffffffffffffffffffff9322f5f617234ed849'}]}, {'address': '0xc02aaa39b223fe8d0a0e5c4f27ead9083c756cc2', 'soltype': None, 'original': None, 'dirty': None, 'raw': [{'address': '0xc02aaa39b223fe8d0a0e5c4f27ead9083c756cc2', 'key': '0x7be9da7ff8a0f39c9dfd3ede1a9bccfcb6f6bc4c830639f9b621772917b1e9df', 'original': '0x000000000000000000000000000000000000000000000000f4a04dcd535ea4d6', 'dirty': '0x000000000000000000000000000000000000000000000000ef1337ebdd36a4d6'}]}, {'address': '0xe1ebdf64f7f3a31723e767a561345f958233bb7d', 'soltype': None, 'original': None, 'dirty': None, 'raw': [{'address': '0xe1ebdf64f7f3a31723e767a561345f958233bb7d', 'key': '0x0000000000000000000000000000000000000000000000000000000000000008', 'original': '0x65ef008b000000000000f4a04dcd535ea4d60000000007b8b890d2fd85cb6e55', 'dirty': '0x65ef008b000000000000ef1337ebdd36a4d60000000007e6c1be2936976cbb89'}]}], 'raw_state_diff': None, 'console_logs': None, 'asset_changes': [{'token_info': {'standard': 'ERC20', 'contract_address': '0xb0699d63aef20df3f1cffa9ca2bb8670416271d2'}, 'type': 'Transfer', 'from': '0x36a2ffb33c1b427c46c3d30adac3ca4e8ed36179', 'to': '0xe1ebdf64f7f3a31723e767a561345f958233bb7d', 'amount': None, 'raw_amount': '849211506914041613620', 'dollar_value': None}, {'token_info': {'standard': 'ERC20', 'type': 'Fungible', 'contract_address': '0xc02aaa39b223fe8d0a0e5c4f27ead9083c756cc2', 'symbol': 'weth', 'name': 'WETH', 'logo': 'https://assets.coingecko.com/coins/images/2518/large/weth.png?1696503332', 'decimals': 18, 'dollar_value': '3500.030029296875'}, 'type': 'Transfer', 'from': '0xe1ebdf64f7f3a31723e767a561345f958233bb7d', 'to': '0x7a250d5630b4cf539739df2c5dacb4c659f2488d', 'amount': '0.4', 'raw_amount': '400000000000000000', 'dollar_value': '1400.0120117187500001'}, {'token_info': {'standard': 'ERC20', 'type': 'Fungible', 'contract_address': '0xc02aaa39b223fe8d0a0e5c4f27ead9083c756cc2', 'symbol': 'weth', 'name': 'WETH', 'logo': 'https://assets.coingecko.com/coins/images/2518/large/weth.png?1696503332', 'decimals': 18, 'dollar_value': '3500.030029296875'}, 'type': 'Burn', 'from': '0x7a250d5630b4cf539739df2c5dacb4c659f2488d', 'amount': '0.4', 'raw_amount': '400000000000000000', 'dollar_value': '1400.0120117187500001'}, {'token_info': {'standard': 'NativeCurrency', 'type': 'Native', 'symbol': 'eth', 'name': 'Ethereum', 'logo': 'https://assets.coingecko.com/coins/images/279/large/ethereum.png?1696501628', 'decimals': 18, 'dollar_value': '3500.530029296875'}, 'type': 'Transfer', 'from': '0xc02aaa39b223fe8d0a0e5c4f27ead9083c756cc2', 'to': '0x7a250d5630b4cf539739df2c5dacb4c659f2488d', 'amount': '0.4', 'raw_amount': '400000000000000000', 'dollar_value': '1400.21201171875'}, {'token_info': {'standard': 'NativeCurrency', 'type': 'Native', 'symbol': 'eth', 'name': 'Ethereum', 'logo': 'https://assets.coingecko.com/coins/images/279/large/ethereum.png?1696501628', 'decimals': 18, 'dollar_value': '3500.530029296875'}, 'type': 'Transfer', 'from': '0x7a250d5630b4cf539739df2c5dacb4c659f2488d', 'to': '0x36a2ffb33c1b427c46c3d30adac3ca4e8ed36179', 'amount': '0.4', 'raw_amount': '400000000000000000', 'dollar_value': '1400.21201171875'}], 'balance_changes': [{'address': '0x36a2ffb33c1b427c46c3d30adac3ca4e8ed36179', 'dollar_value': '1400.21201171875', 'transfers': [0, 4]}, {'address': '0x7a250d5630b4cf539739df2c5dacb4c659f2488d', 'dollar_value': '0', 'transfers': [1, 2, 3, 4]}, {'address': '0xc02aaa39b223fe8d0a0e5c4f27ead9083c756cc2', 'dollar_value': '-1400.21201171875', 'transfers': [3]}, {'address': '0xe1ebdf64f7f3a31723e767a561345f958233bb7d', 'dollar_value': '-1400.0120117187500001', 'transfers': [0, 1]}], 'created_at': '2024-03-11T13:00:59Z'}, 'method': '', 'decoded_input': None, 'call_trace': [{'call_type': 'CALL', 'from': '0x36a2ffb33c1b427c46c3d30adac3ca4e8ed36179', 'to': '0x7a250d5630b4cf539739df2c5dacb4c659f2488d', 'gas': 9223372036854752747, 'gas_used': 131620, 'address': '0x7a250d5630b4cf539739df2c5dacb4c659f2488d', 'subtraces': 5, 'input': '0x4a25d94a000000000000000000000000000000000000000000000000058d15e17628000000000000000000000000000000000000000000000000002f461b77a211c3b3ee00000000000000000000000000000000000000000000000000000000000000a000000000000000000000000036a2ffb33c1b427c46c3d30adac3ca4e8ed361790000000000000000000000000000000000000000000000000000000065ef077b0000000000000000000000000000000000000000000000000000000000000002000000000000000000000000b0699d63aef20df3f1cffa9ca2bb8670416271d2000000000000000000000000c02aaa39b223fe8d0a0e5c4f27ead9083c756cc2', 'output': '0x0000000000000000000000000000000000000000000000000000000000000020000000000000000000000000000000000000000000000000000000000000000200000000000000000000000000000000000000000000002e092d563911a14d34000000000000000000000000000000000000000000000000058d15e176280000', 'fromBalance': '0x32979a7761e4cbdc', 'toBalance': '0x58d15e17628000'}, {'call_type': 'STATICCALL', 'from': '0x7a250d5630b4cf539739df2c5dacb4c659f2488d', 'to': '0xe1ebdf64f7f3a31723e767a561345f958233bb7d', 'gas': 9079256848778892500, 'gas_used': 2504, 'address': '0xe1ebdf64f7f3a31723e767a561345f958233bb7d', 'trace_address': [0], 'input': '0x0902f1ac', 'output': '0x0000000000000000000000000000000000000000000007b8b890d2fd85cb6e55000000000000000000000000000000000000000000000000f4a04dcd535ea4d60000000000000000000000000000000000000000000000000000000065ef008b', 'gas_in': 9223372036854748042, 'gas_cost': 9079256848778892606, 'fromBalance': '0x58d15e17628000'}, {'call_type': 'CALL', 'from': '0x7a250d5630b4cf539739df2c5dacb4c659f2488d', 'to': '0xb0699d63aef20df3f1cffa9ca2bb8670416271d2', 'gas': 9079256848778884765, 'gas_used': 44797, 'address': '0xb0699d63aef20df3f1cffa9ca2bb8670416271d2', 'trace_address': [1], 'input': '0x23b872dd00000000000000000000000036a2ffb33c1b427c46c3d30adac3ca4e8ed36179000000000000000000000000e1ebdf64f7f3a31723e767a561345f958233bb7d00000000000000000000000000000000000000000000002e092d563911a14d34', 'output': '0x0000000000000000000000000000000000000000000000000000000000000001', 'gas_in': 9223372036854742678, 'gas_cost': 9079256848778887365, 'fromBalance': '0x58d15e17628000', 'toBalance': '0x81ad7663141316'}, {'call_type': 'CALL', 'from': '0x7a250d5630b4cf539739df2c5dacb4c659f2488d', 'to': '0xe1ebdf64f7f3a31723e767a561345f958233bb7d', 'gas': 9079256848778838475, 'gas_used': 54564, 'address': '0xe1ebdf64f7f3a31723e767a561345f958233bb7d', 'subtraces': 3, 'trace_address': [2], 'input': '0x022c0d9f0000000000000000000000000000000000000000000000000000000000000000000000000000000000000000000000000000000000000000058d15e1762800000000000000000000000000007a250d5630b4cf539739df2c5dacb4c659f2488d00000000000000000000000000000000000000000000000000000000000000800000000000000000000000000000000000000000000000000000000000000000', 'gas_in': 9223372036854693153, 'gas_cost': 9079256848778838575, 'fromBalance': '0x58d15e17628000'}, {'call_type': 'CALL', 'from': '0xe1ebdf64f7f3a31723e767a561345f958233bb7d', 'to': '0xc02aaa39b223fe8d0a0e5c4f27ead9083c756cc2', 'gas': 8937393460516655928, 'gas_used': 29962, 'address': '0xc02aaa39b223fe8d0a0e5c4f27ead9083c756cc2', 'trace_address': [2, 0], 'input': '0xa9059cbb0000000000000000000000007a250d5630b4cf539739df2c5dacb4c659f2488d000000000000000000000000000000000000000000000000058d15e176280000', 'output': '0x0000000000000000000000000000000000000000000000000000000000000001', 'gas_in': 9079256848778827669, 'gas_cost': 8937393460516658528, 'toBalance': '0x0282e91800a2d84576d08c'}, {'call_type': 'STATICCALL', 'from': '0xe1ebdf64f7f3a31723e767a561345f958233bb7d', 'to': '0xb0699d63aef20df3f1cffa9ca2bb8670416271d2', 'gas': 8937393460516625832, 'gas_used': 661, 'address': '0xb0699d63aef20df3f1cffa9ca2bb8670416271d2', 'trace_address': [2, 1], 'input': '0x70a08231000000000000000000000000e1ebdf64f7f3a31723e767a561345f958233bb7d', 'output': '0x0000000000000000000000000000000000000000000007e6c1be2936976cbb89', 'gas_in': 9079256848778794596, 'gas_cost': 8937393460516625932, 'toBalance': '0x81ad7663141316'}, {'call_type': 'STATICCALL', 'from': '0xe1ebdf64f7f3a31723e767a561345f958233bb7d', 'to': '0xc02aaa39b223fe8d0a0e5c4f27ead9083c756cc2', 'gas': 8937393460516624776, 'gas_used': 534, 'address': '0xc02aaa39b223fe8d0a0e5c4f27ead9083c756cc2', 'trace_address': [2, 2], 'input': '0x70a08231000000000000000000000000e1ebdf64f7f3a31723e767a561345f958233bb7d', 'output': '0x000000000000000000000000000000000000000000000000ef1337ebdd36a4d6', 'gas_in': 9079256848778793523, 'gas_cost': 8937393460516624876, 'toBalance': '0x0282e91800a2d84576d08c'}, {'call_type': 'CALL', 'from': '0x7a250d5630b4cf539739df2c5dacb4c659f2488d', 'to': '0xc02aaa39b223fe8d0a0e5c4f27ead9083c756cc2', 'gas': 9079256848778784256, 'gas_used': 9223, 'address': '0xc02aaa39b223fe8d0a0e5c4f27ead9083c756cc2', 'subtraces': 1, 'trace_address': [3], 'input': '0x2e1a7d4d000000000000000000000000000000000000000000000000058d15e176280000', 'gas_in': 9223372036854638074, 'gas_cost': 9079256848778784356, 'fromBalance': '0x58d15e17628000', 'toBalance': '0x0282e91800a2d84576d08c'}, {'call_type': 'CALL', 'from': '0xc02aaa39b223fe8d0a0e5c4f27ead9083c756cc2', 'to': '0x7a250d5630b4cf539739df2c5dacb4c659f2488d', 'gas': 2300, 'gas_used': 83, 'value': '0x058d15e176280000', 'address': '0x7a250d5630b4cf539739df2c5dacb4c659f2488d', 'trace_address': [3, 0], 'gas_in': 9079256848778783405, 'gas_cost': 9100, 'fromBalance': '0x0282e91800a2d84576d08c', 'toBalance': '0x58d15e17628000'}, {'call_type': 'CALL', 'from': '0x7a250d5630b4cf539739df2c5dacb4c659f2488d', 'to': '0x36a2ffb33c1b427c46c3d30adac3ca4e8ed36179', 'gas': 9079256848778768120, 'value': '0x058d15e176280000', 'address': '0x36a2ffb33c1b427c46c3d30adac3ca4e8ed36179', 'trace_address': [4], 'gas_in': 9223372036854628345, 'gas_cost': 9079256848778774920, 'fromBalance': '0x05e5e73f8d8a8000', 'toBalance': '0x32979a7761e4cbdc'}]}, 'simulation': {'id': 'fd7f392e-68ae-45f8-8cd2-a8913b362257', 'project_id': '85458be4-b610-457c-a5a5-51dbe1a1fe5c', 'owner_id': '60c6d750-7e6d-47ce-b6f0-be64f0df2aa4', 'network_id': '1', 'block_number': 19412019, 'transaction_index': 2, 'from': '0x36a2ffb33c1b427c46c3d30adac3ca4e8ed36179', 'to': '0x7a250d5630b4cf539739df2c5dacb4c659f2488d', 'input': '0x4a25d94a000000000000000000000000000000000000000000000000058d15e17628000000000000000000000000000000000000000000000000002f461b77a211c3b3ee00000000000000000000000000000000000000000000000000000000000000a000000000000000000000000036a2ffb33c1b427c46c3d30adac3ca4e8ed361790000000000000000000000000000000000000000000000000000000065ef077b0000000000000000000000000000000000000000000000000000000000000002000000000000000000000000b0699d63aef20df3f1cffa9ca2bb8670416271d2000000000000000000000000c02aaa39b223fe8d0a0e5c4f27ead9083c756cc2', 'gas': 0, 'gas_price': '0', 'gas_used': 131980, 'value': '0', 'status': True, 'access_list': None, 'queue_origin': '', 'block_header': {'number': '0x1283433', 'hash': '0x0000000000000000000000000000000000000000000000000000000000000000', 'stateRoot': '0x8bdbe68af67862c60a0809cbd83aeba6f3e3d077cd56b16522d62bc77e31897a', 'parentHash': '0x0891ac4c4c43f987a5cf6074f8b943e19beb0c723874e4c8fbdfdc47591d2153', 'sha3Uncles': '0x1dcc4de8dec75d7aab85b567b6ccd41ad312451b948a7413f0a142fd40d49347', 'transactionsRoot': '0xfab76ea29d34b8a47a43d6d7cc0d5d63338eea33a56db19406432ed2aa08f9ee', 'receiptsRoot': '0xa75c31eedbe7588351f00ef60b74df6bc6e24681a16d40876d7ae654fd263214', 'logsBloom': '0x497b9152589840a63a6a8a009000121b93c140122bfe80006d9de0142f0a4eea2474c58d103403308aa313883e9a1f9a93a0a6709e92f9f023097189086a2944da4af1dee223281b6c22e018820244e6992829871cd23e403924c6c8c3242005621c8a0d0f438501044dd2b2ae607c89e212022e41024d8b96aa4534a91f433023114bb84286a70844e13143b300062409193aa9e9dd408a613be2f3c09e70a813dcc9795cd1ea132e7114cf8e9bafa88b69e106a83207802f55049a4004ccf0b37850d222c8ca674768618b0009a3e6e4b0a1e31a08691c1a93914e8930e1489078f0298d31238b279443a122c0180552abd4a2cb084c651235302d18c3580d', 'timestamp': '0x65ef008b', 'difficulty': '0x0', 'gasLimit': '0x1c9c380', 'gasUsed': '0xae2e39', 'miner': '0x95222290dd7278aa3ddd389cc1e1d165cc4bafe5', 'extraData': '0x6265617665726275696c642e6f7267', 'mixHash': '0x4474ef7979aac444805796ec97eaa333714935de5ee0a56626a51a30b0ffebc1', 'nonce': '0x0000000000000000', 'baseFeePerGas': '0x11c71f6253', 'size': '0x0', 'totalDifficulty': '0x0', 'uncles': None, 'transactions': None}, 'deposit_tx': False, 'system_tx': False, 'nonce': 1799, 'addresses': None, 'contract_ids': None, 'shared': False, 'created_at': '2024-03-29T16:29:31.659466693Z'}, 'contracts': [], 'generated_access_list': []}\n",
      "{'token_info': {'standard': 'ERC20', 'contract_address': '0xb0699d63aef20df3f1cffa9ca2bb8670416271d2'}, 'type': 'Transfer', 'from': '0x36a2ffb33c1b427c46c3d30adac3ca4e8ed36179', 'to': '0xe1ebdf64f7f3a31723e767a561345f958233bb7d', 'amount': None, 'raw_amount': '849211506914041613620', 'dollar_value': None}\n",
      "{'token_info': {'standard': 'ERC20', 'type': 'Fungible', 'contract_address': '0xc02aaa39b223fe8d0a0e5c4f27ead9083c756cc2', 'symbol': 'weth', 'name': 'WETH', 'logo': 'https://assets.coingecko.com/coins/images/2518/large/weth.png?1696503332', 'decimals': 18, 'dollar_value': '3500.030029296875'}, 'type': 'Transfer', 'from': '0xe1ebdf64f7f3a31723e767a561345f958233bb7d', 'to': '0x7a250d5630b4cf539739df2c5dacb4c659f2488d', 'amount': '0.4', 'raw_amount': '400000000000000000', 'dollar_value': '1400.0120117187500001'}\n",
      "{'token_info': {'standard': 'ERC20', 'type': 'Fungible', 'contract_address': '0xc02aaa39b223fe8d0a0e5c4f27ead9083c756cc2', 'symbol': 'weth', 'name': 'WETH', 'logo': 'https://assets.coingecko.com/coins/images/2518/large/weth.png?1696503332', 'decimals': 18, 'dollar_value': '3500.030029296875'}, 'type': 'Burn', 'from': '0x7a250d5630b4cf539739df2c5dacb4c659f2488d', 'amount': '0.4', 'raw_amount': '400000000000000000', 'dollar_value': '1400.0120117187500001'}\n",
      "{'token_info': {'standard': 'NativeCurrency', 'type': 'Native', 'symbol': 'eth', 'name': 'Ethereum', 'logo': 'https://assets.coingecko.com/coins/images/279/large/ethereum.png?1696501628', 'decimals': 18, 'dollar_value': '3500.530029296875'}, 'type': 'Transfer', 'from': '0xc02aaa39b223fe8d0a0e5c4f27ead9083c756cc2', 'to': '0x7a250d5630b4cf539739df2c5dacb4c659f2488d', 'amount': '0.4', 'raw_amount': '400000000000000000', 'dollar_value': '1400.21201171875'}\n",
      "{'token_info': {'standard': 'NativeCurrency', 'type': 'Native', 'symbol': 'eth', 'name': 'Ethereum', 'logo': 'https://assets.coingecko.com/coins/images/279/large/ethereum.png?1696501628', 'decimals': 18, 'dollar_value': '3500.530029296875'}, 'type': 'Transfer', 'from': '0x7a250d5630b4cf539739df2c5dacb4c659f2488d', 'to': '0x36a2ffb33c1b427c46c3d30adac3ca4e8ed36179', 'amount': '0.4', 'raw_amount': '400000000000000000', 'dollar_value': '1400.21201171875'}\n",
      "[0, 1]\n",
      "0\n",
      "{'transaction': {'hash': '0xa247f76862dac29014f9979c749646c1758a613b5c7fad6158814f58e9cb91b3', 'block_hash': '', 'block_number': 19412030, 'from': '0x4ffb89a61a6db0586aff308efcfce39207aed2b2', 'gas': 9223372036854775807, 'gas_price': 0, 'gas_fee_cap': 0, 'gas_tip_cap': 0, 'cumulative_gas_used': 0, 'gas_used': 157135, 'effective_gas_price': 0, 'input': '0x24856bc30000000000000000000000000000000000000000000000000000000000000040000000000000000000000000000000000000000000000000000000000000008000000000000000000000000000000000000000000000000000000000000000020a090000000000000000000000000000000000000000000000000000000000000000000000000000000000000000000000000000000000000000000000000002000000000000000000000000000000000000000000000000000000000000004000000000000000000000000000000000000000000000000000000000000001c0000000000000000000000000000000000000000000000000000000000000016000000000000000000000000089b69f2d1adffa9a253d40840b6baa7fc903d697000000000000000000000000ffffffffffffffffffffffffffffffffffffffff000000000000000000000000000000000000000000000000000000006617d16f00000000000000000000000000000000000000000000000000000000000000000000000000000000000000003fc91a3afd70395cd496c647d5a6cc9d4b2b7fad0000000000000000000000000000000000000000000000000000000065ef080700000000000000000000000000000000000000000000000000000000000000e0000000000000000000000000000000000000000000000000000000000000004157ab186cb52243b493171f60e89e3668aee140b6554646976e76009bae21e81a7be04a38ed167982343a1876c1e281692027183b5664592f5a0520d39d4fbd801b0000000000000000000000000000000000000000000000000000000000000000000000000000000000000000000000000000000000000000000000000001200000000000000000000000004ffb89a61a6db0586aff308efcfce39207aed2b200000000000000000000000000000000000000000000000000000000ee6b2800000000000000000000000000000000000000000000000000000216574e3b226d00000000000000000000000000000000000000000000000000000000000000a00000000000000000000000000000000000000000000000000000000000000001000000000000000000000000000000000000000000000000000000000000000300000000000000000000000089b69f2d1adffa9a253d40840b6baa7fc903d697000000000000000000000000c02aaa39b223fe8d0a0e5c4f27ead9083c756cc2000000000000000000000000dac17f958d2ee523a2206206994597c13d831ec7', 'nonce': 1168, 'to': '0x3fc91a3afd70395cd496c647d5a6cc9d4b2b7fad', 'index': 0, 'value': '0x', 'access_list': None, 'status': False, 'addresses': None, 'contract_ids': None, 'network_id': '1', 'timestamp': '2024-03-11T13:03:11Z', 'function_selector': '', 'l1_block_number': 0, 'l1_timestamp': 0, 'deposit_tx': False, 'system_tx': False, 'sig': {'v': '0x0', 'r': '0x0', 's': '0x0'}, 'transaction_info': {'contract_id': 'eth:1:0x89b69f2d1adffa9a253d40840b6baa7fc903d697', 'block_number': 19412030, 'transaction_id': '0xa247f76862dac29014f9979c749646c1758a613b5c7fad6158814f58e9cb91b3', 'contract_address': '0x89b69f2d1adffa9a253d40840b6baa7fc903d697', 'method': None, 'parameters': None, 'intrinsic_gas': 27656, 'refund_gas': 0, 'call_trace': {'hash': '0xa247f76862dac29014f9979c749646c1758a613b5c7fad6158814f58e9cb91b3', 'contract_name': '', 'function_pc': 0, 'function_op': 'CALL', 'absolute_position': 0, 'caller_pc': 0, 'caller_op': 'CALL', 'call_type': 'CALL', 'address': '0x4ffb89a61a6db0586aff308efcfce39207aed2b2', 'from': '0x4ffb89a61a6db0586aff308efcfce39207aed2b2', 'from_balance': '76427735822750178', 'to': '0x3fc91a3afd70395cd496c647d5a6cc9d4b2b7fad', 'to_balance': '0', 'value': '0', 'block_timestamp': '0001-01-01T00:00:00Z', 'gas': 9223372036854748151, 'gas_used': 129479, 'intrinsic_gas': 27656, 'storage_address': '0x4ffb89a61a6db0586aff308efcfce39207aed2b2', 'input': '0x24856bc30000000000000000000000000000000000000000000000000000000000000040000000000000000000000000000000000000000000000000000000000000008000000000000000000000000000000000000000000000000000000000000000020a090000000000000000000000000000000000000000000000000000000000000000000000000000000000000000000000000000000000000000000000000002000000000000000000000000000000000000000000000000000000000000004000000000000000000000000000000000000000000000000000000000000001c0000000000000000000000000000000000000000000000000000000000000016000000000000000000000000089b69f2d1adffa9a253d40840b6baa7fc903d697000000000000000000000000ffffffffffffffffffffffffffffffffffffffff000000000000000000000000000000000000000000000000000000006617d16f00000000000000000000000000000000000000000000000000000000000000000000000000000000000000003fc91a3afd70395cd496c647d5a6cc9d4b2b7fad0000000000000000000000000000000000000000000000000000000065ef080700000000000000000000000000000000000000000000000000000000000000e0000000000000000000000000000000000000000000000000000000000000004157ab186cb52243b493171f60e89e3668aee140b6554646976e76009bae21e81a7be04a38ed167982343a1876c1e281692027183b5664592f5a0520d39d4fbd801b0000000000000000000000000000000000000000000000000000000000000000000000000000000000000000000000000000000000000000000000000001200000000000000000000000004ffb89a61a6db0586aff308efcfce39207aed2b200000000000000000000000000000000000000000000000000000000ee6b2800000000000000000000000000000000000000000000000000000216574e3b226d00000000000000000000000000000000000000000000000000000000000000a00000000000000000000000000000000000000000000000000000000000000001000000000000000000000000000000000000000000000000000000000000000300000000000000000000000089b69f2d1adffa9a253d40840b6baa7fc903d697000000000000000000000000c02aaa39b223fe8d0a0e5c4f27ead9083c756cc2000000000000000000000000dac17f958d2ee523a2206206994597c13d831ec7', 'nonce_diff': [{'address': '0x4FfB89a61A6dB0586AFF308EFcfCe39207AEd2B2', 'original': '1168', 'dirty': '1169'}], 'output': '0x', 'decoded_output': None, 'error_absolute_position': 6207, 'error': 'execution reverted', 'error_op': 'REVERT', 'error_reason': 'TRANSFER_FROM_FAILED', 'error_hex_data': '0x08c379a0000000000000000000000000000000000000000000000000000000000000002000000000000000000000000000000000000000000000000000000000000000145452414e534645525f46524f4d5f4641494c4544000000000000000000000000', 'network_id': '1', 'calls': [{'hash': '', 'function_pc': 0, 'function_op': 'STOP', 'absolute_position': 1348, 'caller_pc': 8378, 'caller_op': 'CALL', 'call_type': 'CALL', 'address': '0x3fc91a3afd70395cd496c647d5a6cc9d4b2b7fad', 'from': '0x3fc91a3afd70395cd496c647d5a6cc9d4b2b7fad', 'from_balance': '0', 'to': '0x000000000022d473030f116ddee9f6b43ac78ba3', 'to_balance': '0', 'value': '0', 'block_timestamp': '0001-01-01T00:00:00Z', 'gas': 9079256848778882908, 'gas_used': 30786, 'refund_gas': 144115188075855284, 'storage_address': '0x3fc91a3afd70395cd496c647d5a6cc9d4b2b7fad', 'input': '0x2b67b5700000000000000000000000004ffb89a61a6db0586aff308efcfce39207aed2b200000000000000000000000089b69f2d1adffa9a253d40840b6baa7fc903d697000000000000000000000000ffffffffffffffffffffffffffffffffffffffff000000000000000000000000000000000000000000000000000000006617d16f00000000000000000000000000000000000000000000000000000000000000000000000000000000000000003fc91a3afd70395cd496c647d5a6cc9d4b2b7fad0000000000000000000000000000000000000000000000000000000065ef08070000000000000000000000000000000000000000000000000000000000000100000000000000000000000000000000000000000000000000000000000000004157ab186cb52243b493171f60e89e3668aee140b6554646976e76009bae21e81a7be04a38ed167982343a1876c1e281692027183b5664592f5a0520d39d4fbd801b00000000000000000000000000000000000000000000000000000000000000', 'output': '0x', 'decoded_output': None, 'network_id': '', 'calls': None}, {'hash': '', 'function_pc': 0, 'function_op': 'STOP', 'absolute_position': 2175, 'caller_pc': 7604, 'caller_op': 'STATICCALL', 'call_type': 'STATICCALL', 'address': '0x3fc91a3afd70395cd496c647d5a6cc9d4b2b7fad', 'from': '0x3fc91a3afd70395cd496c647d5a6cc9d4b2b7fad', 'from_balance': '0', 'to': '0x0d4a11d5eeaac28ec3f61d100daf4d40471f1852', 'to_balance': '0', 'value': None, 'block_timestamp': '0001-01-01T00:00:00Z', 'gas': 9079256848778847419, 'gas_used': 2504, 'refund_gas': 144115188075854720, 'storage_address': '0x3fc91a3afd70395cd496c647d5a6cc9d4b2b7fad', 'input': '0x0902f1ac', 'output': '0x0000000000000000000000000000000000000000000003734e0b11010a458c6800000000000000000000000000000000000000000000000000003c0ef41ecb0f0000000000000000000000000000000000000000000000000000000065ef00f7', 'decoded_output': None, 'network_id': '', 'calls': None}, {'hash': '', 'function_pc': 0, 'function_op': 'STOP', 'absolute_position': 2784, 'caller_pc': 7604, 'caller_op': 'STATICCALL', 'call_type': 'STATICCALL', 'address': '0x3fc91a3afd70395cd496c647d5a6cc9d4b2b7fad', 'from': '0x3fc91a3afd70395cd496c647d5a6cc9d4b2b7fad', 'from_balance': '0', 'to': '0xeedff72a683058f8ff531e8c98575f920430fdc5', 'to_balance': '0', 'value': None, 'block_timestamp': '0001-01-01T00:00:00Z', 'gas': 9079256848778840559, 'gas_used': 2504, 'refund_gas': 144115188075854612, 'storage_address': '0x3fc91a3afd70395cd496c647d5a6cc9d4b2b7fad', 'input': '0x0902f1ac', 'output': '0x0000000000000000000000000000000000000000000000000392425c609af6a9000000000000000000000000000000000000000000000018770e1645e86d88070000000000000000000000000000000000000000000000000000000065ef00a3', 'decoded_output': None, 'network_id': '', 'calls': None}, {'hash': '', 'function_pc': 0, 'function_op': 'STOP', 'absolute_position': 6194, 'caller_pc': 14947, 'caller_op': 'CALL', 'call_type': 'CALL', 'address': '0x3fc91a3afd70395cd496c647d5a6cc9d4b2b7fad', 'from': '0x3fc91a3afd70395cd496c647d5a6cc9d4b2b7fad', 'from_balance': '0', 'to': '0x000000000022d473030f116ddee9f6b43ac78ba3', 'to_balance': '0', 'value': '0', 'block_timestamp': '0001-01-01T00:00:00Z', 'gas': 9079256848778836537, 'gas_used': 72359, 'refund_gas': 144115188075854548, 'storage_address': '0x3fc91a3afd70395cd496c647d5a6cc9d4b2b7fad', 'input': '0x36c785160000000000000000000000004ffb89a61a6db0586aff308efcfce39207aed2b2000000000000000000000000eedff72a683058f8ff531e8c98575f920430fdc50000000000000000000000000000000000000000000000000002041e6efd042300000000000000000000000089b69f2d1adffa9a253d40840b6baa7fc903d697', 'output': '0x', 'decoded_output': None, 'error_absolute_position': 6193, 'error': 'execution reverted', 'error_op': 'REVERT', 'error_reason': 'TRANSFER_FROM_FAILED', 'network_id': '', 'calls': [{'hash': '', 'function_pc': 0, 'function_op': 'STOP', 'absolute_position': 6156, 'caller_pc': 6392, 'caller_op': 'CALL', 'call_type': 'CALL', 'address': '0x000000000022d473030f116ddee9f6b43ac78ba3', 'from': '0x000000000022d473030f116ddee9f6b43ac78ba3', 'from_balance': '0', 'to': '0x89b69f2d1adffa9a253d40840b6baa7fc903d697', 'to_balance': '0', 'value': '0', 'block_timestamp': '0001-01-01T00:00:00Z', 'gas': 8937393460516663637, 'gas_used': 68609, 'refund_gas': 141863388262169264, 'storage_address': '0x000000000022d473030f116ddee9f6b43ac78ba3', 'input': '0x23b872dd0000000000000000000000004ffb89a61a6db0586aff308efcfce39207aed2b2000000000000000000000000eedff72a683058f8ff531e8c98575f920430fdc50000000000000000000000000000000000000000000000000002041e6efd0423', 'output': '0x', 'decoded_output': None, 'error_absolute_position': 6155, 'error': 'execution reverted', 'error_op': 'REVERT', 'error_reason': 'ERC20: transfer amount exceeds allowance', 'network_id': '', 'calls': [{'hash': '', 'function_pc': 0, 'function_op': '', 'absolute_position': 6155, 'caller_pc': 0, 'caller_op': '', 'address': '0x89b69f2d1adffa9a253d40840b6baa7fc903d697', 'from': '0x89b69f2d1adffa9a253d40840b6baa7fc903d697', 'from_balance': None, 'to': '0x89b69f2d1adffa9a253d40840b6baa7fc903d697', 'to_balance': None, 'value': None, 'block_timestamp': '0001-01-01T00:00:00Z', 'gas': 0, 'gas_used': 0, 'input': '0x', 'output': '0x', 'decoded_output': None, 'error': 'execution reverted', 'error_op': 'REVERT', 'network_id': '', 'calls': None}]}]}]}, 'stack_trace': [{'file_index': None, 'contract': '0x89b69f2d1adffa9a253d40840b6baa7fc903d697', 'name': None, 'line': None, 'error': 'execution reverted', 'error_reason': 'ERC20: transfer amount exceeds allowance', 'code': None, 'op': 'REVERT', 'length': None}, {'file_index': None, 'contract': '0x000000000022d473030f116ddee9f6b43ac78ba3', 'name': None, 'line': None, 'error': None, 'code': None, 'op': 'CALL', 'length': None}, {'file_index': None, 'contract': '0x3fc91a3afd70395cd496c647d5a6cc9d4b2b7fad', 'name': None, 'line': None, 'error': None, 'code': None, 'op': 'CALL', 'length': None}, {'file_index': None, 'contract': '0x3fc91a3afd70395cd496c647d5a6cc9d4b2b7fad', 'name': '', 'line': None, 'error': None, 'code': None, 'op': 'CALL', 'length': None}], 'logs': None, 'balance_diff': None, 'nonce_diff': [{'address': '0x4FfB89a61A6dB0586AFF308EFcfCe39207AEd2B2', 'original': '1168', 'dirty': '1169'}], 'state_diff': None, 'raw_state_diff': None, 'console_logs': None, 'asset_changes': None, 'balance_changes': None, 'created_at': '2024-03-11T13:03:11Z'}, 'error_message': 'ERC20: transfer amount exceeds allowance', 'error_info': {'error_message': 'ERC20: transfer amount exceeds allowance', 'address': '0x89b69f2d1adffa9a253d40840b6baa7fc903d697'}, 'method': '', 'decoded_input': None, 'call_trace': [{'call_type': 'CALL', 'from': '0x4ffb89a61a6db0586aff308efcfce39207aed2b2', 'to': '0x3fc91a3afd70395cd496c647d5a6cc9d4b2b7fad', 'gas': 9223372036854748151, 'gas_used': 129479, 'address': '0x3fc91a3afd70395cd496c647d5a6cc9d4b2b7fad', 'error': 'value:\"execution reverted\"', 'subtraces': 4, 'input': '0x24856bc30000000000000000000000000000000000000000000000000000000000000040000000000000000000000000000000000000000000000000000000000000008000000000000000000000000000000000000000000000000000000000000000020a090000000000000000000000000000000000000000000000000000000000000000000000000000000000000000000000000000000000000000000000000002000000000000000000000000000000000000000000000000000000000000004000000000000000000000000000000000000000000000000000000000000001c0000000000000000000000000000000000000000000000000000000000000016000000000000000000000000089b69f2d1adffa9a253d40840b6baa7fc903d697000000000000000000000000ffffffffffffffffffffffffffffffffffffffff000000000000000000000000000000000000000000000000000000006617d16f00000000000000000000000000000000000000000000000000000000000000000000000000000000000000003fc91a3afd70395cd496c647d5a6cc9d4b2b7fad0000000000000000000000000000000000000000000000000000000065ef080700000000000000000000000000000000000000000000000000000000000000e0000000000000000000000000000000000000000000000000000000000000004157ab186cb52243b493171f60e89e3668aee140b6554646976e76009bae21e81a7be04a38ed167982343a1876c1e281692027183b5664592f5a0520d39d4fbd801b0000000000000000000000000000000000000000000000000000000000000000000000000000000000000000000000000000000000000000000000000001200000000000000000000000004ffb89a61a6db0586aff308efcfce39207aed2b200000000000000000000000000000000000000000000000000000000ee6b2800000000000000000000000000000000000000000000000000000216574e3b226d00000000000000000000000000000000000000000000000000000000000000a00000000000000000000000000000000000000000000000000000000000000001000000000000000000000000000000000000000000000000000000000000000300000000000000000000000089b69f2d1adffa9a253d40840b6baa7fc903d697000000000000000000000000c02aaa39b223fe8d0a0e5c4f27ead9083c756cc2000000000000000000000000dac17f958d2ee523a2206206994597c13d831ec7', 'output': '0x08c379a0000000000000000000000000000000000000000000000000000000000000002000000000000000000000000000000000000000000000000000000000000000145452414e534645525f46524f4d5f4641494c4544000000000000000000000000', 'errorMessage': 'value:\"TRANSFER_FROM_FAILED\"', 'fromBalance': '0x010f869eecb3d1e2'}, {'call_type': 'CALL', 'from': '0x3fc91a3afd70395cd496c647d5a6cc9d4b2b7fad', 'to': '0x000000000022d473030f116ddee9f6b43ac78ba3', 'gas': 9079256848778882908, 'gas_used': 30786, 'address': '0x000000000022d473030f116ddee9f6b43ac78ba3', 'trace_address': [0], 'input': '0x2b67b5700000000000000000000000004ffb89a61a6db0586aff308efcfce39207aed2b200000000000000000000000089b69f2d1adffa9a253d40840b6baa7fc903d697000000000000000000000000ffffffffffffffffffffffffffffffffffffffff000000000000000000000000000000000000000000000000000000006617d16f00000000000000000000000000000000000000000000000000000000000000000000000000000000000000003fc91a3afd70395cd496c647d5a6cc9d4b2b7fad0000000000000000000000000000000000000000000000000000000065ef08070000000000000000000000000000000000000000000000000000000000000100000000000000000000000000000000000000000000000000000000000000004157ab186cb52243b493171f60e89e3668aee140b6554646976e76009bae21e81a7be04a38ed167982343a1876c1e281692027183b5664592f5a0520d39d4fbd801b00000000000000000000000000000000000000000000000000000000000000', 'gas_in': 9223372036854738292, 'gas_cost': 9079256848778883008}, {'call_type': 'STATICCALL', 'from': '0x3fc91a3afd70395cd496c647d5a6cc9d4b2b7fad', 'to': '0x0d4a11d5eeaac28ec3f61d100daf4d40471f1852', 'gas': 9079256848778847419, 'gas_used': 2504, 'address': '0x0d4a11d5eeaac28ec3f61d100daf4d40471f1852', 'trace_address': [1], 'input': '0x0902f1ac', 'output': '0x0000000000000000000000000000000000000000000003734e0b11010a458c6800000000000000000000000000000000000000000000000000003c0ef41ecb0f0000000000000000000000000000000000000000000000000000000065ef00f7', 'gas_in': 9223372036854704742, 'gas_cost': 9079256848778850022}, {'call_type': 'STATICCALL', 'from': '0x3fc91a3afd70395cd496c647d5a6cc9d4b2b7fad', 'to': '0xeedff72a683058f8ff531e8c98575f920430fdc5', 'gas': 9079256848778840559, 'gas_used': 2504, 'address': '0xeedff72a683058f8ff531e8c98575f920430fdc5', 'trace_address': [2], 'input': '0x0902f1ac', 'output': '0x0000000000000000000000000000000000000000000000000392425c609af6a9000000000000000000000000000000000000000000000018770e1645e86d88070000000000000000000000000000000000000000000000000000000065ef00a3', 'gas_in': 9223372036854697777, 'gas_cost': 9079256848778843165}, {'call_type': 'CALL', 'from': '0x3fc91a3afd70395cd496c647d5a6cc9d4b2b7fad', 'to': '0x000000000022d473030f116ddee9f6b43ac78ba3', 'gas': 9079256848778836537, 'gas_used': 72359, 'address': '0x000000000022d473030f116ddee9f6b43ac78ba3', 'error': 'value:\"execution reverted\"', 'subtraces': 1, 'trace_address': [3], 'input': '0x36c785160000000000000000000000004ffb89a61a6db0586aff308efcfce39207aed2b2000000000000000000000000eedff72a683058f8ff531e8c98575f920430fdc50000000000000000000000000000000000000000000000000002041e6efd042300000000000000000000000089b69f2d1adffa9a253d40840b6baa7fc903d697', 'output': '0x08c379a0000000000000000000000000000000000000000000000000000000000000002000000000000000000000000000000000000000000000000000000000000000145452414e534645525f46524f4d5f4641494c4544000000000000000000000000', 'gas_in': 9223372036854691185, 'gas_cost': 9079256848778836637, 'errorMessage': 'value:\"TRANSFER_FROM_FAILED\"'}, {'call_type': 'CALL', 'from': '0x000000000022d473030f116ddee9f6b43ac78ba3', 'to': '0x89b69f2d1adffa9a253d40840b6baa7fc903d697', 'gas': 8937393460516663637, 'gas_used': 68609, 'address': '0x89b69f2d1adffa9a253d40840b6baa7fc903d697', 'error': 'value:\"execution reverted\"', 'trace_address': [3, 0], 'input': '0x23b872dd0000000000000000000000004ffb89a61a6db0586aff308efcfce39207aed2b2000000000000000000000000eedff72a683058f8ff531e8c98575f920430fdc50000000000000000000000000000000000000000000000000002041e6efd0423', 'output': '0x08c379a00000000000000000000000000000000000000000000000000000000000000020000000000000000000000000000000000000000000000000000000000000002845524332303a207472616e7366657220616d6f756e74206578636565647320616c6c6f77616e6365000000000000000000000000000000000000000000000000', 'gas_in': 9079256848778835501, 'gas_cost': 8937393460516666237, 'errorMessage': 'value:\"ERC20: transfer amount exceeds allowance\"'}]}, 'simulation': {'id': 'a236b747-5de1-4000-ba78-9a723045b6f2', 'project_id': '85458be4-b610-457c-a5a5-51dbe1a1fe5c', 'owner_id': '60c6d750-7e6d-47ce-b6f0-be64f0df2aa4', 'network_id': '1', 'block_number': 19412030, 'transaction_index': 0, 'from': '0x4ffb89a61a6db0586aff308efcfce39207aed2b2', 'to': '0x3fc91a3afd70395cd496c647d5a6cc9d4b2b7fad', 'input': '0x24856bc30000000000000000000000000000000000000000000000000000000000000040000000000000000000000000000000000000000000000000000000000000008000000000000000000000000000000000000000000000000000000000000000020a090000000000000000000000000000000000000000000000000000000000000000000000000000000000000000000000000000000000000000000000000002000000000000000000000000000000000000000000000000000000000000004000000000000000000000000000000000000000000000000000000000000001c0000000000000000000000000000000000000000000000000000000000000016000000000000000000000000089b69f2d1adffa9a253d40840b6baa7fc903d697000000000000000000000000ffffffffffffffffffffffffffffffffffffffff000000000000000000000000000000000000000000000000000000006617d16f00000000000000000000000000000000000000000000000000000000000000000000000000000000000000003fc91a3afd70395cd496c647d5a6cc9d4b2b7fad0000000000000000000000000000000000000000000000000000000065ef080700000000000000000000000000000000000000000000000000000000000000e0000000000000000000000000000000000000000000000000000000000000004157ab186cb52243b493171f60e89e3668aee140b6554646976e76009bae21e81a7be04a38ed167982343a1876c1e281692027183b5664592f5a0520d39d4fbd801b0000000000000000000000000000000000000000000000000000000000000000000000000000000000000000000000000000000000000000000000000001200000000000000000000000004ffb89a61a6db0586aff308efcfce39207aed2b200000000000000000000000000000000000000000000000000000000ee6b2800000000000000000000000000000000000000000000000000000216574e3b226d00000000000000000000000000000000000000000000000000000000000000a00000000000000000000000000000000000000000000000000000000000000001000000000000000000000000000000000000000000000000000000000000000300000000000000000000000089b69f2d1adffa9a253d40840b6baa7fc903d697000000000000000000000000c02aaa39b223fe8d0a0e5c4f27ead9083c756cc2000000000000000000000000dac17f958d2ee523a2206206994597c13d831ec7', 'gas': 0, 'gas_price': '0', 'gas_used': 157135, 'value': '0', 'status': False, 'access_list': None, 'queue_origin': '', 'block_header': {'number': '0x128343e', 'hash': '0x0000000000000000000000000000000000000000000000000000000000000000', 'stateRoot': '0x4418665d879f16394acd78bdbea59e436aa722a53d5b5986e3150c2f35f37528', 'parentHash': '0x89061c663459ada3b97c5b8e3ddf4d5c7f4db6c65791c5d2c1e5fd02bf21f853', 'sha3Uncles': '0x1dcc4de8dec75d7aab85b567b6ccd41ad312451b948a7413f0a142fd40d49347', 'transactionsRoot': '0x47becc6842a490b0b59049fa304ac4253ee91c266b8bbe9ad38f5face79f7389', 'receiptsRoot': '0xba32fe319177b7a6dab7950d1314c081b8613507c2c64ed9d6d7042856652591', 'logsBloom': '0x11f34dc2b11003e5377b02e4b298304b307306355849890197cf260264ba00c03099a5a1b408d8e84376994b0a42b1692631923a8fa6e86c8e95e289142ae1cf70660ad9541bbea98a4b5eabc954ccf18114c52985f03ba027279d48c87cf8a91146810cea760e6e901ed4e028622f5d60aa1279b88404a8c6fbaf99556a5b210818aa745918573d516f742bb50a6224e05fb399d7c0a38d452b5168dab8a4a686548098119e6046c279d4e1c8538ee995e7cac0ac28d58884473f730091c2b058404093e07422273ec13f944577558826bb29a656783a7d3cd47003c2d8aee4a67d3c71c52585e2b40644e3e2f02c8202f896714b142b52a09c38daa411748f', 'timestamp': '0x65ef010f', 'difficulty': '0x0', 'gasLimit': '0x1c9c380', 'gasUsed': '0xd31134', 'miner': '0x95222290dd7278aa3ddd389cc1e1d165cc4bafe5', 'extraData': '0x6265617665726275696c642e6f7267', 'mixHash': '0x85d63000719ce9cad67199ec1fc42b3ba06d4cb69a825b50f8836c5452499a8a', 'nonce': '0x0000000000000000', 'baseFeePerGas': '0x11cf59c813', 'size': '0x0', 'totalDifficulty': '0x0', 'uncles': None, 'transactions': None}, 'deposit_tx': False, 'system_tx': False, 'error_message': 'ERC20: transfer amount exceeds allowance', 'nonce': 1168, 'addresses': None, 'contract_ids': None, 'shared': False, 'created_at': '2024-03-29T16:29:31.860895405Z'}, 'contracts': [], 'generated_access_list': []}\n"
     ]
    },
    {
     "ename": "TypeError",
     "evalue": "'NoneType' object is not iterable",
     "output_type": "error",
     "traceback": [
      "\u001b[0;31m---------------------------------------------------------------------------\u001b[0m",
      "\u001b[0;31mTypeError\u001b[0m                                 Traceback (most recent call last)",
      "Cell \u001b[0;32mIn[278], line 26\u001b[0m\n\u001b[1;32m     19\u001b[0m response \u001b[38;5;241m=\u001b[39m requests\u001b[38;5;241m.\u001b[39mpost(\n\u001b[1;32m     20\u001b[0m \u001b[38;5;124m'\u001b[39m\u001b[38;5;124mhttps://api.tenderly.co/api/v1/account/aurelie/project/cowswap/simulate\u001b[39m\u001b[38;5;124m'\u001b[39m,\n\u001b[1;32m     21\u001b[0m headers\u001b[38;5;241m=\u001b[39mheaders,\n\u001b[1;32m     22\u001b[0m json\u001b[38;5;241m=\u001b[39mjson_data,\n\u001b[1;32m     23\u001b[0m )\n\u001b[1;32m     24\u001b[0m \u001b[38;5;28mprint\u001b[39m(response\u001b[38;5;241m.\u001b[39mjson())\n\u001b[0;32m---> 26\u001b[0m \u001b[43m\u001b[49m\u001b[38;5;28;43;01mfor\u001b[39;49;00m\u001b[43m \u001b[49m\u001b[43mdata\u001b[49m\u001b[43m \u001b[49m\u001b[38;5;129;43;01min\u001b[39;49;00m\u001b[43m \u001b[49m\u001b[43mresponse\u001b[49m\u001b[38;5;241;43m.\u001b[39;49m\u001b[43mjson\u001b[49m\u001b[43m(\u001b[49m\u001b[43m)\u001b[49m\u001b[43m[\u001b[49m\u001b[38;5;124;43m'\u001b[39;49m\u001b[38;5;124;43mtransaction\u001b[39;49m\u001b[38;5;124;43m'\u001b[39;49m\u001b[43m]\u001b[49m\u001b[43m[\u001b[49m\u001b[38;5;124;43m'\u001b[39;49m\u001b[38;5;124;43mtransaction_info\u001b[39;49m\u001b[38;5;124;43m'\u001b[39;49m\u001b[43m]\u001b[49m\u001b[43m[\u001b[49m\u001b[38;5;124;43m'\u001b[39;49m\u001b[38;5;124;43masset_changes\u001b[39;49m\u001b[38;5;124;43m'\u001b[39;49m\u001b[43m]\u001b[49m\u001b[43m:\u001b[49m\n\u001b[1;32m     27\u001b[0m \u001b[43m    \u001b[49m\u001b[38;5;28;43mprint\u001b[39;49m\u001b[43m(\u001b[49m\u001b[43mdata\u001b[49m\u001b[43m)\u001b[49m\n\u001b[1;32m     28\u001b[0m \u001b[43m    \u001b[49m\u001b[43mtx_type\u001b[49m\u001b[43m \u001b[49m\u001b[38;5;241;43m=\u001b[39;49m\u001b[43m \u001b[49m\u001b[43mdata\u001b[49m\u001b[43m[\u001b[49m\u001b[38;5;124;43m'\u001b[39;49m\u001b[38;5;124;43mtype\u001b[39;49m\u001b[38;5;124;43m'\u001b[39;49m\u001b[43m]\u001b[49m\n",
      "\u001b[0;31mTypeError\u001b[0m: 'NoneType' object is not iterable"
     ]
    }
   ],
   "source": [
    "columns = ['tx_hash', 'index', 'type', 'raw_amount', 'dollar_value', 'token_contract_address', 'token_name', 'token_dollar_value']\n",
    "df_results = pd.DataFrame(columns = columns)\n",
    "\n",
    "for index, row in df_main.iterrows():\n",
    "    tx_index_list = [0]\n",
    "    tx_index_list.append(int(row['transactionIndex'], 0))\n",
    "    print(tx_index_list)\n",
    "    for tx_index in tx_index_list:\n",
    "        print(tx_index)\n",
    "        json_data = {\n",
    "        'network_id': int(row['chainId'], 0),\n",
    "        'from': row['from'],\n",
    "        'to': row['to'],\n",
    "        'input': row['input'],\n",
    "        'block_number': row['block_number'],\n",
    "        'transaction_index': tx_index,\n",
    "        'simulation_type': 'quick'\n",
    "    }\n",
    "        response = requests.post(\n",
    "        'https://api.tenderly.co/api/v1/account/aurelie/project/cowswap/simulate',\n",
    "        headers=headers,\n",
    "        json=json_data,\n",
    "        )\n",
    "        print(response.json())\n",
    "\n",
    "        try:\n",
    "            for data in response.json()['transaction']['transaction_info']['asset_changes']:\n",
    "                print(data)\n",
    "                tx_type = data['type']\n",
    "                tx_raw_amount = data['raw_amount']\n",
    "                tx_dollar_value = data['dollar_value']\n",
    "\n",
    "                try:\n",
    "                    contract_address = data['token_info']['contract_address']\n",
    "                except:\n",
    "                    contract_address = 'None'\n",
    "\n",
    "                try:\n",
    "                    token_name = data['token_info']['name']\n",
    "                except:\n",
    "                    token_name = 'None'\n",
    "                try:\n",
    "                    token_dollar_value = data['token_info']['dollar_value']\n",
    "                except:\n",
    "                    token_dollar_value = 'None'\n",
    "\n",
    "                new_row = {\n",
    "                    'tx_hash' : row['hash'],\n",
    "                    'index' : tx_index, \n",
    "                    'type': tx_type, \n",
    "                    'raw_amount': tx_raw_amount, \n",
    "                    'dollar_value' : tx_dollar_value, \n",
    "                    'token_contract_address': contract_address, \n",
    "                    'token_name': token_name, \n",
    "                    'token_dollar_value': token_dollar_value\n",
    "                    }\n",
    "                df_results = pd.concat([df_results, pd.DataFrame([new_row])], ignore_index=True)\n",
    "        except:\n",
    "            df_main[df_main['input'] == '']['hash']\n",
    "            \n"
   ]
  },
  {
   "cell_type": "code",
   "execution_count": 280,
   "metadata": {},
   "outputs": [
    {
     "data": {
      "text/plain": [
       "1    0x354e8386267ca643793de913739df3f9680895776f3a...\n",
       "Name: hash, dtype: object"
      ]
     },
     "execution_count": 280,
     "metadata": {},
     "output_type": "execute_result"
    }
   ],
   "source": [
    "df_main[df_main['input'] == '']['hash']"
   ]
  },
  {
   "cell_type": "code",
   "execution_count": null,
   "metadata": {},
   "outputs": [],
   "source": []
  },
  {
   "cell_type": "code",
   "execution_count": 279,
   "metadata": {},
   "outputs": [
    {
     "data": {
      "text/plain": [
       "{'contract_id': 'eth:1:0x89b69f2d1adffa9a253d40840b6baa7fc903d697',\n",
       " 'block_number': 19412030,\n",
       " 'transaction_id': '0xa247f76862dac29014f9979c749646c1758a613b5c7fad6158814f58e9cb91b3',\n",
       " 'contract_address': '0x89b69f2d1adffa9a253d40840b6baa7fc903d697',\n",
       " 'method': None,\n",
       " 'parameters': None,\n",
       " 'intrinsic_gas': 27656,\n",
       " 'refund_gas': 0,\n",
       " 'call_trace': {'hash': '0xa247f76862dac29014f9979c749646c1758a613b5c7fad6158814f58e9cb91b3',\n",
       "  'contract_name': '',\n",
       "  'function_pc': 0,\n",
       "  'function_op': 'CALL',\n",
       "  'absolute_position': 0,\n",
       "  'caller_pc': 0,\n",
       "  'caller_op': 'CALL',\n",
       "  'call_type': 'CALL',\n",
       "  'address': '0x4ffb89a61a6db0586aff308efcfce39207aed2b2',\n",
       "  'from': '0x4ffb89a61a6db0586aff308efcfce39207aed2b2',\n",
       "  'from_balance': '76427735822750178',\n",
       "  'to': '0x3fc91a3afd70395cd496c647d5a6cc9d4b2b7fad',\n",
       "  'to_balance': '0',\n",
       "  'value': '0',\n",
       "  'block_timestamp': '0001-01-01T00:00:00Z',\n",
       "  'gas': 9223372036854748151,\n",
       "  'gas_used': 129479,\n",
       "  'intrinsic_gas': 27656,\n",
       "  'storage_address': '0x4ffb89a61a6db0586aff308efcfce39207aed2b2',\n",
       "  'input': '0x24856bc30000000000000000000000000000000000000000000000000000000000000040000000000000000000000000000000000000000000000000000000000000008000000000000000000000000000000000000000000000000000000000000000020a090000000000000000000000000000000000000000000000000000000000000000000000000000000000000000000000000000000000000000000000000002000000000000000000000000000000000000000000000000000000000000004000000000000000000000000000000000000000000000000000000000000001c0000000000000000000000000000000000000000000000000000000000000016000000000000000000000000089b69f2d1adffa9a253d40840b6baa7fc903d697000000000000000000000000ffffffffffffffffffffffffffffffffffffffff000000000000000000000000000000000000000000000000000000006617d16f00000000000000000000000000000000000000000000000000000000000000000000000000000000000000003fc91a3afd70395cd496c647d5a6cc9d4b2b7fad0000000000000000000000000000000000000000000000000000000065ef080700000000000000000000000000000000000000000000000000000000000000e0000000000000000000000000000000000000000000000000000000000000004157ab186cb52243b493171f60e89e3668aee140b6554646976e76009bae21e81a7be04a38ed167982343a1876c1e281692027183b5664592f5a0520d39d4fbd801b0000000000000000000000000000000000000000000000000000000000000000000000000000000000000000000000000000000000000000000000000001200000000000000000000000004ffb89a61a6db0586aff308efcfce39207aed2b200000000000000000000000000000000000000000000000000000000ee6b2800000000000000000000000000000000000000000000000000000216574e3b226d00000000000000000000000000000000000000000000000000000000000000a00000000000000000000000000000000000000000000000000000000000000001000000000000000000000000000000000000000000000000000000000000000300000000000000000000000089b69f2d1adffa9a253d40840b6baa7fc903d697000000000000000000000000c02aaa39b223fe8d0a0e5c4f27ead9083c756cc2000000000000000000000000dac17f958d2ee523a2206206994597c13d831ec7',\n",
       "  'nonce_diff': [{'address': '0x4FfB89a61A6dB0586AFF308EFcfCe39207AEd2B2',\n",
       "    'original': '1168',\n",
       "    'dirty': '1169'}],\n",
       "  'output': '0x',\n",
       "  'decoded_output': None,\n",
       "  'error_absolute_position': 6207,\n",
       "  'error': 'execution reverted',\n",
       "  'error_op': 'REVERT',\n",
       "  'error_reason': 'TRANSFER_FROM_FAILED',\n",
       "  'error_hex_data': '0x08c379a0000000000000000000000000000000000000000000000000000000000000002000000000000000000000000000000000000000000000000000000000000000145452414e534645525f46524f4d5f4641494c4544000000000000000000000000',\n",
       "  'network_id': '1',\n",
       "  'calls': [{'hash': '',\n",
       "    'function_pc': 0,\n",
       "    'function_op': 'STOP',\n",
       "    'absolute_position': 1348,\n",
       "    'caller_pc': 8378,\n",
       "    'caller_op': 'CALL',\n",
       "    'call_type': 'CALL',\n",
       "    'address': '0x3fc91a3afd70395cd496c647d5a6cc9d4b2b7fad',\n",
       "    'from': '0x3fc91a3afd70395cd496c647d5a6cc9d4b2b7fad',\n",
       "    'from_balance': '0',\n",
       "    'to': '0x000000000022d473030f116ddee9f6b43ac78ba3',\n",
       "    'to_balance': '0',\n",
       "    'value': '0',\n",
       "    'block_timestamp': '0001-01-01T00:00:00Z',\n",
       "    'gas': 9079256848778882908,\n",
       "    'gas_used': 30786,\n",
       "    'refund_gas': 144115188075855284,\n",
       "    'storage_address': '0x3fc91a3afd70395cd496c647d5a6cc9d4b2b7fad',\n",
       "    'input': '0x2b67b5700000000000000000000000004ffb89a61a6db0586aff308efcfce39207aed2b200000000000000000000000089b69f2d1adffa9a253d40840b6baa7fc903d697000000000000000000000000ffffffffffffffffffffffffffffffffffffffff000000000000000000000000000000000000000000000000000000006617d16f00000000000000000000000000000000000000000000000000000000000000000000000000000000000000003fc91a3afd70395cd496c647d5a6cc9d4b2b7fad0000000000000000000000000000000000000000000000000000000065ef08070000000000000000000000000000000000000000000000000000000000000100000000000000000000000000000000000000000000000000000000000000004157ab186cb52243b493171f60e89e3668aee140b6554646976e76009bae21e81a7be04a38ed167982343a1876c1e281692027183b5664592f5a0520d39d4fbd801b00000000000000000000000000000000000000000000000000000000000000',\n",
       "    'output': '0x',\n",
       "    'decoded_output': None,\n",
       "    'network_id': '',\n",
       "    'calls': None},\n",
       "   {'hash': '',\n",
       "    'function_pc': 0,\n",
       "    'function_op': 'STOP',\n",
       "    'absolute_position': 2175,\n",
       "    'caller_pc': 7604,\n",
       "    'caller_op': 'STATICCALL',\n",
       "    'call_type': 'STATICCALL',\n",
       "    'address': '0x3fc91a3afd70395cd496c647d5a6cc9d4b2b7fad',\n",
       "    'from': '0x3fc91a3afd70395cd496c647d5a6cc9d4b2b7fad',\n",
       "    'from_balance': '0',\n",
       "    'to': '0x0d4a11d5eeaac28ec3f61d100daf4d40471f1852',\n",
       "    'to_balance': '0',\n",
       "    'value': None,\n",
       "    'block_timestamp': '0001-01-01T00:00:00Z',\n",
       "    'gas': 9079256848778847419,\n",
       "    'gas_used': 2504,\n",
       "    'refund_gas': 144115188075854720,\n",
       "    'storage_address': '0x3fc91a3afd70395cd496c647d5a6cc9d4b2b7fad',\n",
       "    'input': '0x0902f1ac',\n",
       "    'output': '0x0000000000000000000000000000000000000000000003734e0b11010a458c6800000000000000000000000000000000000000000000000000003c0ef41ecb0f0000000000000000000000000000000000000000000000000000000065ef00f7',\n",
       "    'decoded_output': None,\n",
       "    'network_id': '',\n",
       "    'calls': None},\n",
       "   {'hash': '',\n",
       "    'function_pc': 0,\n",
       "    'function_op': 'STOP',\n",
       "    'absolute_position': 2784,\n",
       "    'caller_pc': 7604,\n",
       "    'caller_op': 'STATICCALL',\n",
       "    'call_type': 'STATICCALL',\n",
       "    'address': '0x3fc91a3afd70395cd496c647d5a6cc9d4b2b7fad',\n",
       "    'from': '0x3fc91a3afd70395cd496c647d5a6cc9d4b2b7fad',\n",
       "    'from_balance': '0',\n",
       "    'to': '0xeedff72a683058f8ff531e8c98575f920430fdc5',\n",
       "    'to_balance': '0',\n",
       "    'value': None,\n",
       "    'block_timestamp': '0001-01-01T00:00:00Z',\n",
       "    'gas': 9079256848778840559,\n",
       "    'gas_used': 2504,\n",
       "    'refund_gas': 144115188075854612,\n",
       "    'storage_address': '0x3fc91a3afd70395cd496c647d5a6cc9d4b2b7fad',\n",
       "    'input': '0x0902f1ac',\n",
       "    'output': '0x0000000000000000000000000000000000000000000000000392425c609af6a9000000000000000000000000000000000000000000000018770e1645e86d88070000000000000000000000000000000000000000000000000000000065ef00a3',\n",
       "    'decoded_output': None,\n",
       "    'network_id': '',\n",
       "    'calls': None},\n",
       "   {'hash': '',\n",
       "    'function_pc': 0,\n",
       "    'function_op': 'STOP',\n",
       "    'absolute_position': 6194,\n",
       "    'caller_pc': 14947,\n",
       "    'caller_op': 'CALL',\n",
       "    'call_type': 'CALL',\n",
       "    'address': '0x3fc91a3afd70395cd496c647d5a6cc9d4b2b7fad',\n",
       "    'from': '0x3fc91a3afd70395cd496c647d5a6cc9d4b2b7fad',\n",
       "    'from_balance': '0',\n",
       "    'to': '0x000000000022d473030f116ddee9f6b43ac78ba3',\n",
       "    'to_balance': '0',\n",
       "    'value': '0',\n",
       "    'block_timestamp': '0001-01-01T00:00:00Z',\n",
       "    'gas': 9079256848778836537,\n",
       "    'gas_used': 72359,\n",
       "    'refund_gas': 144115188075854548,\n",
       "    'storage_address': '0x3fc91a3afd70395cd496c647d5a6cc9d4b2b7fad',\n",
       "    'input': '0x36c785160000000000000000000000004ffb89a61a6db0586aff308efcfce39207aed2b2000000000000000000000000eedff72a683058f8ff531e8c98575f920430fdc50000000000000000000000000000000000000000000000000002041e6efd042300000000000000000000000089b69f2d1adffa9a253d40840b6baa7fc903d697',\n",
       "    'output': '0x',\n",
       "    'decoded_output': None,\n",
       "    'error_absolute_position': 6193,\n",
       "    'error': 'execution reverted',\n",
       "    'error_op': 'REVERT',\n",
       "    'error_reason': 'TRANSFER_FROM_FAILED',\n",
       "    'network_id': '',\n",
       "    'calls': [{'hash': '',\n",
       "      'function_pc': 0,\n",
       "      'function_op': 'STOP',\n",
       "      'absolute_position': 6156,\n",
       "      'caller_pc': 6392,\n",
       "      'caller_op': 'CALL',\n",
       "      'call_type': 'CALL',\n",
       "      'address': '0x000000000022d473030f116ddee9f6b43ac78ba3',\n",
       "      'from': '0x000000000022d473030f116ddee9f6b43ac78ba3',\n",
       "      'from_balance': '0',\n",
       "      'to': '0x89b69f2d1adffa9a253d40840b6baa7fc903d697',\n",
       "      'to_balance': '0',\n",
       "      'value': '0',\n",
       "      'block_timestamp': '0001-01-01T00:00:00Z',\n",
       "      'gas': 8937393460516663637,\n",
       "      'gas_used': 68609,\n",
       "      'refund_gas': 141863388262169264,\n",
       "      'storage_address': '0x000000000022d473030f116ddee9f6b43ac78ba3',\n",
       "      'input': '0x23b872dd0000000000000000000000004ffb89a61a6db0586aff308efcfce39207aed2b2000000000000000000000000eedff72a683058f8ff531e8c98575f920430fdc50000000000000000000000000000000000000000000000000002041e6efd0423',\n",
       "      'output': '0x',\n",
       "      'decoded_output': None,\n",
       "      'error_absolute_position': 6155,\n",
       "      'error': 'execution reverted',\n",
       "      'error_op': 'REVERT',\n",
       "      'error_reason': 'ERC20: transfer amount exceeds allowance',\n",
       "      'network_id': '',\n",
       "      'calls': [{'hash': '',\n",
       "        'function_pc': 0,\n",
       "        'function_op': '',\n",
       "        'absolute_position': 6155,\n",
       "        'caller_pc': 0,\n",
       "        'caller_op': '',\n",
       "        'address': '0x89b69f2d1adffa9a253d40840b6baa7fc903d697',\n",
       "        'from': '0x89b69f2d1adffa9a253d40840b6baa7fc903d697',\n",
       "        'from_balance': None,\n",
       "        'to': '0x89b69f2d1adffa9a253d40840b6baa7fc903d697',\n",
       "        'to_balance': None,\n",
       "        'value': None,\n",
       "        'block_timestamp': '0001-01-01T00:00:00Z',\n",
       "        'gas': 0,\n",
       "        'gas_used': 0,\n",
       "        'input': '0x',\n",
       "        'output': '0x',\n",
       "        'decoded_output': None,\n",
       "        'error': 'execution reverted',\n",
       "        'error_op': 'REVERT',\n",
       "        'network_id': '',\n",
       "        'calls': None}]}]}]},\n",
       " 'stack_trace': [{'file_index': None,\n",
       "   'contract': '0x89b69f2d1adffa9a253d40840b6baa7fc903d697',\n",
       "   'name': None,\n",
       "   'line': None,\n",
       "   'error': 'execution reverted',\n",
       "   'error_reason': 'ERC20: transfer amount exceeds allowance',\n",
       "   'code': None,\n",
       "   'op': 'REVERT',\n",
       "   'length': None},\n",
       "  {'file_index': None,\n",
       "   'contract': '0x000000000022d473030f116ddee9f6b43ac78ba3',\n",
       "   'name': None,\n",
       "   'line': None,\n",
       "   'error': None,\n",
       "   'code': None,\n",
       "   'op': 'CALL',\n",
       "   'length': None},\n",
       "  {'file_index': None,\n",
       "   'contract': '0x3fc91a3afd70395cd496c647d5a6cc9d4b2b7fad',\n",
       "   'name': None,\n",
       "   'line': None,\n",
       "   'error': None,\n",
       "   'code': None,\n",
       "   'op': 'CALL',\n",
       "   'length': None},\n",
       "  {'file_index': None,\n",
       "   'contract': '0x3fc91a3afd70395cd496c647d5a6cc9d4b2b7fad',\n",
       "   'name': '',\n",
       "   'line': None,\n",
       "   'error': None,\n",
       "   'code': None,\n",
       "   'op': 'CALL',\n",
       "   'length': None}],\n",
       " 'logs': None,\n",
       " 'balance_diff': None,\n",
       " 'nonce_diff': [{'address': '0x4FfB89a61A6dB0586AFF308EFcfCe39207AEd2B2',\n",
       "   'original': '1168',\n",
       "   'dirty': '1169'}],\n",
       " 'state_diff': None,\n",
       " 'raw_state_diff': None,\n",
       " 'console_logs': None,\n",
       " 'asset_changes': None,\n",
       " 'balance_changes': None,\n",
       " 'created_at': '2024-03-11T13:03:11Z'}"
      ]
     },
     "execution_count": 279,
     "metadata": {},
     "output_type": "execute_result"
    }
   ],
   "source": [
    "response.json()['transaction']['transaction_info']#['asset_changes']"
   ]
  },
  {
   "cell_type": "code",
   "execution_count": null,
   "metadata": {},
   "outputs": [],
   "source": []
  }
 ],
 "metadata": {
  "kernelspec": {
   "display_name": "data_eng",
   "language": "python",
   "name": "python3"
  },
  "language_info": {
   "codemirror_mode": {
    "name": "ipython",
    "version": 3
   },
   "file_extension": ".py",
   "mimetype": "text/x-python",
   "name": "python",
   "nbconvert_exporter": "python",
   "pygments_lexer": "ipython3",
   "version": "3.11.4"
  }
 },
 "nbformat": 4,
 "nbformat_minor": 2
}
