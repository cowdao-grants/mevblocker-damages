{
 "cells": [
  {
   "cell_type": "code",
   "execution_count": 3,
   "metadata": {},
   "outputs": [],
   "source": [
    "import pandas as pd\n",
    "import json\n",
    "import requests \n",
    "from python_secrets import *"
   ]
  },
  {
   "cell_type": "code",
   "execution_count": 4,
   "metadata": {},
   "outputs": [],
   "source": [
    "df_main = pd.read_csv('incident2.csv')"
   ]
  },
  {
   "cell_type": "code",
   "execution_count": 5,
   "metadata": {},
   "outputs": [],
   "source": [
    "tx_hash_list = [x for x in df_main[' user_tx'].to_list() if pd.notnull(x)]"
   ]
  },
  {
   "cell_type": "markdown",
   "metadata": {},
   "source": [
    "# Infuria"
   ]
  },
  {
   "cell_type": "code",
   "execution_count": 6,
   "metadata": {},
   "outputs": [],
   "source": [
    "url = f\"https://mainnet.infura.io/v3/{infura_api_key}\"\n",
    "\n",
    "payload = json.dumps({\n",
    "  \"jsonrpc\": \"2.0\",\n",
    "  \"method\": \"eth_getTransactionByHash\",\n",
    "  \"params\": [tx_hash_list[0]],\n",
    "  \"id\": 1\n",
    "})\n",
    "headers = {\n",
    "  'Content-Type': 'application/json'\n",
    "}\n",
    "\n",
    "response = requests.request(\"POST\", url, headers=headers, data=payload)\n",
    "dct = response.json()['result']\n",
    "dct = {k: None if not v else v for k, v in dct.items()} # making sure none of the values are empty\n",
    "df_infuria = pd.DataFrame(dct, index=[0])\n",
    "\n",
    "for tx_hash in tx_hash_list[1:]:\n",
    "  payload = json.dumps({\n",
    "    \"jsonrpc\": \"2.0\",\n",
    "    \"method\": \"eth_getTransactionByHash\",\n",
    "    \"params\": [tx_hash],\n",
    "    \"id\": 1\n",
    "  })\n",
    "  headers = {\n",
    "    'Content-Type': 'application/json'\n",
    "  }\n",
    "\n",
    "  response = requests.request(\"POST\", url, headers=headers, data=payload)\n",
    "\n",
    "  if response.ok:\n",
    "    dct = response.json()['result']\n",
    "    dct = {k: None if not v else v for k, v in dct.items()} # making sure none of the values are empty\n",
    "    df_temp = pd.DataFrame(dct, index=[0])\n",
    "    df_infuria = pd.concat([df_infuria, df_temp])\n",
    "    \n",
    "  else: \n",
    "    print(f\"error code {response.status_code} for transaction {tx_hash}\")\n"
   ]
  },
  {
   "cell_type": "code",
   "execution_count": 7,
   "metadata": {},
   "outputs": [],
   "source": [
    "#merge infuria to main\n",
    "df_main = df_main.merge(df_infuria, left_on = ' user_tx', right_on = 'hash', how ='outer')"
   ]
  },
  {
   "cell_type": "code",
   "execution_count": 8,
   "metadata": {},
   "outputs": [
    {
     "data": {
      "text/plain": [
       "Index(['block_number', ' user_tx', ' fees', 'accessList', 'blockHash',\n",
       "       'blockNumber', 'chainId', 'from', 'gas', 'gasPrice', 'hash', 'input',\n",
       "       'maxFeePerGas', 'maxPriorityFeePerGas', 'nonce', 'r', 's', 'to',\n",
       "       'transactionIndex', 'type', 'v', 'value', 'yParity'],\n",
       "      dtype='object')"
      ]
     },
     "execution_count": 8,
     "metadata": {},
     "output_type": "execute_result"
    }
   ],
   "source": [
    "df_main.columns"
   ]
  },
  {
   "cell_type": "markdown",
   "metadata": {},
   "source": [
    "# Etherscan "
   ]
  },
  {
   "cell_type": "markdown",
   "metadata": {},
   "source": [
    "If we always have the dollar values from the tenderly api, we actually don't need to call ethersacan for the time stamps"
   ]
  },
  {
   "cell_type": "code",
   "execution_count": 356,
   "metadata": {},
   "outputs": [],
   "source": [
    "block_number_list = list(set([x for x in df_main['block_number'].to_list() if pd.notnull(x)]))"
   ]
  },
  {
   "cell_type": "code",
   "execution_count": 357,
   "metadata": {},
   "outputs": [
    {
     "ename": "KeyboardInterrupt",
     "evalue": "",
     "output_type": "error",
     "traceback": [
      "\u001b[0;31m---------------------------------------------------------------------------\u001b[0m",
      "\u001b[0;31mKeyboardInterrupt\u001b[0m                         Traceback (most recent call last)",
      "Cell \u001b[0;32mIn[357], line 11\u001b[0m\n\u001b[1;32m      9\u001b[0m \u001b[38;5;28;01mfor\u001b[39;00m block \u001b[38;5;129;01min\u001b[39;00m block_number_list[\u001b[38;5;241m1\u001b[39m:]:\n\u001b[1;32m     10\u001b[0m   url_temp \u001b[38;5;241m=\u001b[39m \u001b[38;5;124mf\u001b[39m\u001b[38;5;124m\"\u001b[39m\u001b[38;5;124mhttps://api.etherscan.io/api?module=block&action=getblockreward&blockno=\u001b[39m\u001b[38;5;132;01m{\u001b[39;00mblock\u001b[38;5;132;01m}\u001b[39;00m\u001b[38;5;124m&apikey=\u001b[39m\u001b[38;5;132;01m{\u001b[39;00meth_scan_api_key\u001b[38;5;132;01m}\u001b[39;00m\u001b[38;5;124m\"\u001b[39m\n\u001b[0;32m---> 11\u001b[0m   response_temp \u001b[38;5;241m=\u001b[39m \u001b[43mrequests\u001b[49m\u001b[38;5;241;43m.\u001b[39;49m\u001b[43mrequest\u001b[49m\u001b[43m(\u001b[49m\u001b[38;5;124;43m\"\u001b[39;49m\u001b[38;5;124;43mPOST\u001b[39;49m\u001b[38;5;124;43m\"\u001b[39;49m\u001b[43m,\u001b[49m\u001b[43m \u001b[49m\u001b[43murl_temp\u001b[49m\u001b[43m)\u001b[49m\n\u001b[1;32m     13\u001b[0m   \u001b[38;5;28;01mif\u001b[39;00m response_temp\u001b[38;5;241m.\u001b[39mok:\n\u001b[1;32m     14\u001b[0m     dct_temp \u001b[38;5;241m=\u001b[39m response_temp\u001b[38;5;241m.\u001b[39mjson()[\u001b[38;5;124m'\u001b[39m\u001b[38;5;124mresult\u001b[39m\u001b[38;5;124m'\u001b[39m]\n",
      "File \u001b[0;32m~/personal/cowswap/.venv/data_eng/lib/python3.11/site-packages/requests/api.py:59\u001b[0m, in \u001b[0;36mrequest\u001b[0;34m(method, url, **kwargs)\u001b[0m\n\u001b[1;32m     55\u001b[0m \u001b[38;5;66;03m# By using the 'with' statement we are sure the session is closed, thus we\u001b[39;00m\n\u001b[1;32m     56\u001b[0m \u001b[38;5;66;03m# avoid leaving sockets open which can trigger a ResourceWarning in some\u001b[39;00m\n\u001b[1;32m     57\u001b[0m \u001b[38;5;66;03m# cases, and look like a memory leak in others.\u001b[39;00m\n\u001b[1;32m     58\u001b[0m \u001b[38;5;28;01mwith\u001b[39;00m sessions\u001b[38;5;241m.\u001b[39mSession() \u001b[38;5;28;01mas\u001b[39;00m session:\n\u001b[0;32m---> 59\u001b[0m     \u001b[38;5;28;01mreturn\u001b[39;00m \u001b[43msession\u001b[49m\u001b[38;5;241;43m.\u001b[39;49m\u001b[43mrequest\u001b[49m\u001b[43m(\u001b[49m\u001b[43mmethod\u001b[49m\u001b[38;5;241;43m=\u001b[39;49m\u001b[43mmethod\u001b[49m\u001b[43m,\u001b[49m\u001b[43m \u001b[49m\u001b[43murl\u001b[49m\u001b[38;5;241;43m=\u001b[39;49m\u001b[43murl\u001b[49m\u001b[43m,\u001b[49m\u001b[43m \u001b[49m\u001b[38;5;241;43m*\u001b[39;49m\u001b[38;5;241;43m*\u001b[39;49m\u001b[43mkwargs\u001b[49m\u001b[43m)\u001b[49m\n",
      "File \u001b[0;32m~/personal/cowswap/.venv/data_eng/lib/python3.11/site-packages/requests/sessions.py:589\u001b[0m, in \u001b[0;36mSession.request\u001b[0;34m(self, method, url, params, data, headers, cookies, files, auth, timeout, allow_redirects, proxies, hooks, stream, verify, cert, json)\u001b[0m\n\u001b[1;32m    584\u001b[0m send_kwargs \u001b[38;5;241m=\u001b[39m {\n\u001b[1;32m    585\u001b[0m     \u001b[38;5;124m\"\u001b[39m\u001b[38;5;124mtimeout\u001b[39m\u001b[38;5;124m\"\u001b[39m: timeout,\n\u001b[1;32m    586\u001b[0m     \u001b[38;5;124m\"\u001b[39m\u001b[38;5;124mallow_redirects\u001b[39m\u001b[38;5;124m\"\u001b[39m: allow_redirects,\n\u001b[1;32m    587\u001b[0m }\n\u001b[1;32m    588\u001b[0m send_kwargs\u001b[38;5;241m.\u001b[39mupdate(settings)\n\u001b[0;32m--> 589\u001b[0m resp \u001b[38;5;241m=\u001b[39m \u001b[38;5;28;43mself\u001b[39;49m\u001b[38;5;241;43m.\u001b[39;49m\u001b[43msend\u001b[49m\u001b[43m(\u001b[49m\u001b[43mprep\u001b[49m\u001b[43m,\u001b[49m\u001b[43m \u001b[49m\u001b[38;5;241;43m*\u001b[39;49m\u001b[38;5;241;43m*\u001b[39;49m\u001b[43msend_kwargs\u001b[49m\u001b[43m)\u001b[49m\n\u001b[1;32m    591\u001b[0m \u001b[38;5;28;01mreturn\u001b[39;00m resp\n",
      "File \u001b[0;32m~/personal/cowswap/.venv/data_eng/lib/python3.11/site-packages/requests/sessions.py:703\u001b[0m, in \u001b[0;36mSession.send\u001b[0;34m(self, request, **kwargs)\u001b[0m\n\u001b[1;32m    700\u001b[0m start \u001b[38;5;241m=\u001b[39m preferred_clock()\n\u001b[1;32m    702\u001b[0m \u001b[38;5;66;03m# Send the request\u001b[39;00m\n\u001b[0;32m--> 703\u001b[0m r \u001b[38;5;241m=\u001b[39m \u001b[43madapter\u001b[49m\u001b[38;5;241;43m.\u001b[39;49m\u001b[43msend\u001b[49m\u001b[43m(\u001b[49m\u001b[43mrequest\u001b[49m\u001b[43m,\u001b[49m\u001b[43m \u001b[49m\u001b[38;5;241;43m*\u001b[39;49m\u001b[38;5;241;43m*\u001b[39;49m\u001b[43mkwargs\u001b[49m\u001b[43m)\u001b[49m\n\u001b[1;32m    705\u001b[0m \u001b[38;5;66;03m# Total elapsed time of the request (approximately)\u001b[39;00m\n\u001b[1;32m    706\u001b[0m elapsed \u001b[38;5;241m=\u001b[39m preferred_clock() \u001b[38;5;241m-\u001b[39m start\n",
      "File \u001b[0;32m~/personal/cowswap/.venv/data_eng/lib/python3.11/site-packages/requests/adapters.py:486\u001b[0m, in \u001b[0;36mHTTPAdapter.send\u001b[0;34m(self, request, stream, timeout, verify, cert, proxies)\u001b[0m\n\u001b[1;32m    483\u001b[0m     timeout \u001b[38;5;241m=\u001b[39m TimeoutSauce(connect\u001b[38;5;241m=\u001b[39mtimeout, read\u001b[38;5;241m=\u001b[39mtimeout)\n\u001b[1;32m    485\u001b[0m \u001b[38;5;28;01mtry\u001b[39;00m:\n\u001b[0;32m--> 486\u001b[0m     resp \u001b[38;5;241m=\u001b[39m \u001b[43mconn\u001b[49m\u001b[38;5;241;43m.\u001b[39;49m\u001b[43murlopen\u001b[49m\u001b[43m(\u001b[49m\n\u001b[1;32m    487\u001b[0m \u001b[43m        \u001b[49m\u001b[43mmethod\u001b[49m\u001b[38;5;241;43m=\u001b[39;49m\u001b[43mrequest\u001b[49m\u001b[38;5;241;43m.\u001b[39;49m\u001b[43mmethod\u001b[49m\u001b[43m,\u001b[49m\n\u001b[1;32m    488\u001b[0m \u001b[43m        \u001b[49m\u001b[43murl\u001b[49m\u001b[38;5;241;43m=\u001b[39;49m\u001b[43murl\u001b[49m\u001b[43m,\u001b[49m\n\u001b[1;32m    489\u001b[0m \u001b[43m        \u001b[49m\u001b[43mbody\u001b[49m\u001b[38;5;241;43m=\u001b[39;49m\u001b[43mrequest\u001b[49m\u001b[38;5;241;43m.\u001b[39;49m\u001b[43mbody\u001b[49m\u001b[43m,\u001b[49m\n\u001b[1;32m    490\u001b[0m \u001b[43m        \u001b[49m\u001b[43mheaders\u001b[49m\u001b[38;5;241;43m=\u001b[39;49m\u001b[43mrequest\u001b[49m\u001b[38;5;241;43m.\u001b[39;49m\u001b[43mheaders\u001b[49m\u001b[43m,\u001b[49m\n\u001b[1;32m    491\u001b[0m \u001b[43m        \u001b[49m\u001b[43mredirect\u001b[49m\u001b[38;5;241;43m=\u001b[39;49m\u001b[38;5;28;43;01mFalse\u001b[39;49;00m\u001b[43m,\u001b[49m\n\u001b[1;32m    492\u001b[0m \u001b[43m        \u001b[49m\u001b[43massert_same_host\u001b[49m\u001b[38;5;241;43m=\u001b[39;49m\u001b[38;5;28;43;01mFalse\u001b[39;49;00m\u001b[43m,\u001b[49m\n\u001b[1;32m    493\u001b[0m \u001b[43m        \u001b[49m\u001b[43mpreload_content\u001b[49m\u001b[38;5;241;43m=\u001b[39;49m\u001b[38;5;28;43;01mFalse\u001b[39;49;00m\u001b[43m,\u001b[49m\n\u001b[1;32m    494\u001b[0m \u001b[43m        \u001b[49m\u001b[43mdecode_content\u001b[49m\u001b[38;5;241;43m=\u001b[39;49m\u001b[38;5;28;43;01mFalse\u001b[39;49;00m\u001b[43m,\u001b[49m\n\u001b[1;32m    495\u001b[0m \u001b[43m        \u001b[49m\u001b[43mretries\u001b[49m\u001b[38;5;241;43m=\u001b[39;49m\u001b[38;5;28;43mself\u001b[39;49m\u001b[38;5;241;43m.\u001b[39;49m\u001b[43mmax_retries\u001b[49m\u001b[43m,\u001b[49m\n\u001b[1;32m    496\u001b[0m \u001b[43m        \u001b[49m\u001b[43mtimeout\u001b[49m\u001b[38;5;241;43m=\u001b[39;49m\u001b[43mtimeout\u001b[49m\u001b[43m,\u001b[49m\n\u001b[1;32m    497\u001b[0m \u001b[43m        \u001b[49m\u001b[43mchunked\u001b[49m\u001b[38;5;241;43m=\u001b[39;49m\u001b[43mchunked\u001b[49m\u001b[43m,\u001b[49m\n\u001b[1;32m    498\u001b[0m \u001b[43m    \u001b[49m\u001b[43m)\u001b[49m\n\u001b[1;32m    500\u001b[0m \u001b[38;5;28;01mexcept\u001b[39;00m (ProtocolError, \u001b[38;5;167;01mOSError\u001b[39;00m) \u001b[38;5;28;01mas\u001b[39;00m err:\n\u001b[1;32m    501\u001b[0m     \u001b[38;5;28;01mraise\u001b[39;00m \u001b[38;5;167;01mConnectionError\u001b[39;00m(err, request\u001b[38;5;241m=\u001b[39mrequest)\n",
      "File \u001b[0;32m~/personal/cowswap/.venv/data_eng/lib/python3.11/site-packages/urllib3/connectionpool.py:793\u001b[0m, in \u001b[0;36mHTTPConnectionPool.urlopen\u001b[0;34m(self, method, url, body, headers, retries, redirect, assert_same_host, timeout, pool_timeout, release_conn, chunked, body_pos, preload_content, decode_content, **response_kw)\u001b[0m\n\u001b[1;32m    790\u001b[0m response_conn \u001b[38;5;241m=\u001b[39m conn \u001b[38;5;28;01mif\u001b[39;00m \u001b[38;5;129;01mnot\u001b[39;00m release_conn \u001b[38;5;28;01melse\u001b[39;00m \u001b[38;5;28;01mNone\u001b[39;00m\n\u001b[1;32m    792\u001b[0m \u001b[38;5;66;03m# Make the request on the HTTPConnection object\u001b[39;00m\n\u001b[0;32m--> 793\u001b[0m response \u001b[38;5;241m=\u001b[39m \u001b[38;5;28;43mself\u001b[39;49m\u001b[38;5;241;43m.\u001b[39;49m\u001b[43m_make_request\u001b[49m\u001b[43m(\u001b[49m\n\u001b[1;32m    794\u001b[0m \u001b[43m    \u001b[49m\u001b[43mconn\u001b[49m\u001b[43m,\u001b[49m\n\u001b[1;32m    795\u001b[0m \u001b[43m    \u001b[49m\u001b[43mmethod\u001b[49m\u001b[43m,\u001b[49m\n\u001b[1;32m    796\u001b[0m \u001b[43m    \u001b[49m\u001b[43murl\u001b[49m\u001b[43m,\u001b[49m\n\u001b[1;32m    797\u001b[0m \u001b[43m    \u001b[49m\u001b[43mtimeout\u001b[49m\u001b[38;5;241;43m=\u001b[39;49m\u001b[43mtimeout_obj\u001b[49m\u001b[43m,\u001b[49m\n\u001b[1;32m    798\u001b[0m \u001b[43m    \u001b[49m\u001b[43mbody\u001b[49m\u001b[38;5;241;43m=\u001b[39;49m\u001b[43mbody\u001b[49m\u001b[43m,\u001b[49m\n\u001b[1;32m    799\u001b[0m \u001b[43m    \u001b[49m\u001b[43mheaders\u001b[49m\u001b[38;5;241;43m=\u001b[39;49m\u001b[43mheaders\u001b[49m\u001b[43m,\u001b[49m\n\u001b[1;32m    800\u001b[0m \u001b[43m    \u001b[49m\u001b[43mchunked\u001b[49m\u001b[38;5;241;43m=\u001b[39;49m\u001b[43mchunked\u001b[49m\u001b[43m,\u001b[49m\n\u001b[1;32m    801\u001b[0m \u001b[43m    \u001b[49m\u001b[43mretries\u001b[49m\u001b[38;5;241;43m=\u001b[39;49m\u001b[43mretries\u001b[49m\u001b[43m,\u001b[49m\n\u001b[1;32m    802\u001b[0m \u001b[43m    \u001b[49m\u001b[43mresponse_conn\u001b[49m\u001b[38;5;241;43m=\u001b[39;49m\u001b[43mresponse_conn\u001b[49m\u001b[43m,\u001b[49m\n\u001b[1;32m    803\u001b[0m \u001b[43m    \u001b[49m\u001b[43mpreload_content\u001b[49m\u001b[38;5;241;43m=\u001b[39;49m\u001b[43mpreload_content\u001b[49m\u001b[43m,\u001b[49m\n\u001b[1;32m    804\u001b[0m \u001b[43m    \u001b[49m\u001b[43mdecode_content\u001b[49m\u001b[38;5;241;43m=\u001b[39;49m\u001b[43mdecode_content\u001b[49m\u001b[43m,\u001b[49m\n\u001b[1;32m    805\u001b[0m \u001b[43m    \u001b[49m\u001b[38;5;241;43m*\u001b[39;49m\u001b[38;5;241;43m*\u001b[39;49m\u001b[43mresponse_kw\u001b[49m\u001b[43m,\u001b[49m\n\u001b[1;32m    806\u001b[0m \u001b[43m\u001b[49m\u001b[43m)\u001b[49m\n\u001b[1;32m    808\u001b[0m \u001b[38;5;66;03m# Everything went great!\u001b[39;00m\n\u001b[1;32m    809\u001b[0m clean_exit \u001b[38;5;241m=\u001b[39m \u001b[38;5;28;01mTrue\u001b[39;00m\n",
      "File \u001b[0;32m~/personal/cowswap/.venv/data_eng/lib/python3.11/site-packages/urllib3/connectionpool.py:537\u001b[0m, in \u001b[0;36mHTTPConnectionPool._make_request\u001b[0;34m(self, conn, method, url, body, headers, retries, timeout, chunked, response_conn, preload_content, decode_content, enforce_content_length)\u001b[0m\n\u001b[1;32m    535\u001b[0m \u001b[38;5;66;03m# Receive the response from the server\u001b[39;00m\n\u001b[1;32m    536\u001b[0m \u001b[38;5;28;01mtry\u001b[39;00m:\n\u001b[0;32m--> 537\u001b[0m     response \u001b[38;5;241m=\u001b[39m \u001b[43mconn\u001b[49m\u001b[38;5;241;43m.\u001b[39;49m\u001b[43mgetresponse\u001b[49m\u001b[43m(\u001b[49m\u001b[43m)\u001b[49m\n\u001b[1;32m    538\u001b[0m \u001b[38;5;28;01mexcept\u001b[39;00m (BaseSSLError, \u001b[38;5;167;01mOSError\u001b[39;00m) \u001b[38;5;28;01mas\u001b[39;00m e:\n\u001b[1;32m    539\u001b[0m     \u001b[38;5;28mself\u001b[39m\u001b[38;5;241m.\u001b[39m_raise_timeout(err\u001b[38;5;241m=\u001b[39me, url\u001b[38;5;241m=\u001b[39murl, timeout_value\u001b[38;5;241m=\u001b[39mread_timeout)\n",
      "File \u001b[0;32m~/personal/cowswap/.venv/data_eng/lib/python3.11/site-packages/urllib3/connection.py:466\u001b[0m, in \u001b[0;36mHTTPConnection.getresponse\u001b[0;34m(self)\u001b[0m\n\u001b[1;32m    463\u001b[0m \u001b[38;5;28;01mfrom\u001b[39;00m \u001b[38;5;21;01m.\u001b[39;00m\u001b[38;5;21;01mresponse\u001b[39;00m \u001b[38;5;28;01mimport\u001b[39;00m HTTPResponse\n\u001b[1;32m    465\u001b[0m \u001b[38;5;66;03m# Get the response from http.client.HTTPConnection\u001b[39;00m\n\u001b[0;32m--> 466\u001b[0m httplib_response \u001b[38;5;241m=\u001b[39m \u001b[38;5;28;43msuper\u001b[39;49m\u001b[43m(\u001b[49m\u001b[43m)\u001b[49m\u001b[38;5;241;43m.\u001b[39;49m\u001b[43mgetresponse\u001b[49m\u001b[43m(\u001b[49m\u001b[43m)\u001b[49m\n\u001b[1;32m    468\u001b[0m \u001b[38;5;28;01mtry\u001b[39;00m:\n\u001b[1;32m    469\u001b[0m     assert_header_parsing(httplib_response\u001b[38;5;241m.\u001b[39mmsg)\n",
      "File \u001b[0;32m/opt/homebrew/Cellar/python@3.11/3.11.4_1/Frameworks/Python.framework/Versions/3.11/lib/python3.11/http/client.py:1378\u001b[0m, in \u001b[0;36mHTTPConnection.getresponse\u001b[0;34m(self)\u001b[0m\n\u001b[1;32m   1376\u001b[0m \u001b[38;5;28;01mtry\u001b[39;00m:\n\u001b[1;32m   1377\u001b[0m     \u001b[38;5;28;01mtry\u001b[39;00m:\n\u001b[0;32m-> 1378\u001b[0m         \u001b[43mresponse\u001b[49m\u001b[38;5;241;43m.\u001b[39;49m\u001b[43mbegin\u001b[49m\u001b[43m(\u001b[49m\u001b[43m)\u001b[49m\n\u001b[1;32m   1379\u001b[0m     \u001b[38;5;28;01mexcept\u001b[39;00m \u001b[38;5;167;01mConnectionError\u001b[39;00m:\n\u001b[1;32m   1380\u001b[0m         \u001b[38;5;28mself\u001b[39m\u001b[38;5;241m.\u001b[39mclose()\n",
      "File \u001b[0;32m/opt/homebrew/Cellar/python@3.11/3.11.4_1/Frameworks/Python.framework/Versions/3.11/lib/python3.11/http/client.py:318\u001b[0m, in \u001b[0;36mHTTPResponse.begin\u001b[0;34m(self)\u001b[0m\n\u001b[1;32m    316\u001b[0m \u001b[38;5;66;03m# read until we get a non-100 response\u001b[39;00m\n\u001b[1;32m    317\u001b[0m \u001b[38;5;28;01mwhile\u001b[39;00m \u001b[38;5;28;01mTrue\u001b[39;00m:\n\u001b[0;32m--> 318\u001b[0m     version, status, reason \u001b[38;5;241m=\u001b[39m \u001b[38;5;28;43mself\u001b[39;49m\u001b[38;5;241;43m.\u001b[39;49m\u001b[43m_read_status\u001b[49m\u001b[43m(\u001b[49m\u001b[43m)\u001b[49m\n\u001b[1;32m    319\u001b[0m     \u001b[38;5;28;01mif\u001b[39;00m status \u001b[38;5;241m!=\u001b[39m CONTINUE:\n\u001b[1;32m    320\u001b[0m         \u001b[38;5;28;01mbreak\u001b[39;00m\n",
      "File \u001b[0;32m/opt/homebrew/Cellar/python@3.11/3.11.4_1/Frameworks/Python.framework/Versions/3.11/lib/python3.11/http/client.py:279\u001b[0m, in \u001b[0;36mHTTPResponse._read_status\u001b[0;34m(self)\u001b[0m\n\u001b[1;32m    278\u001b[0m \u001b[38;5;28;01mdef\u001b[39;00m \u001b[38;5;21m_read_status\u001b[39m(\u001b[38;5;28mself\u001b[39m):\n\u001b[0;32m--> 279\u001b[0m     line \u001b[38;5;241m=\u001b[39m \u001b[38;5;28mstr\u001b[39m(\u001b[38;5;28mself\u001b[39m\u001b[38;5;241m.\u001b[39mfp\u001b[38;5;241m.\u001b[39mreadline(_MAXLINE \u001b[38;5;241m+\u001b[39m \u001b[38;5;241m1\u001b[39m), \u001b[38;5;124m\"\u001b[39m\u001b[38;5;124miso-8859-1\u001b[39m\u001b[38;5;124m\"\u001b[39m)\n\u001b[1;32m    280\u001b[0m     \u001b[38;5;28;01mif\u001b[39;00m \u001b[38;5;28mlen\u001b[39m(line) \u001b[38;5;241m>\u001b[39m _MAXLINE:\n\u001b[1;32m    281\u001b[0m         \u001b[38;5;28;01mraise\u001b[39;00m LineTooLong(\u001b[38;5;124m\"\u001b[39m\u001b[38;5;124mstatus line\u001b[39m\u001b[38;5;124m\"\u001b[39m)\n",
      "File \u001b[0;32m/opt/homebrew/Cellar/python@3.11/3.11.4_1/Frameworks/Python.framework/Versions/3.11/lib/python3.11/socket.py:706\u001b[0m, in \u001b[0;36mSocketIO.readinto\u001b[0;34m(self, b)\u001b[0m\n\u001b[1;32m    704\u001b[0m \u001b[38;5;28;01mwhile\u001b[39;00m \u001b[38;5;28;01mTrue\u001b[39;00m:\n\u001b[1;32m    705\u001b[0m     \u001b[38;5;28;01mtry\u001b[39;00m:\n\u001b[0;32m--> 706\u001b[0m         \u001b[38;5;28;01mreturn\u001b[39;00m \u001b[38;5;28;43mself\u001b[39;49m\u001b[38;5;241;43m.\u001b[39;49m\u001b[43m_sock\u001b[49m\u001b[38;5;241;43m.\u001b[39;49m\u001b[43mrecv_into\u001b[49m\u001b[43m(\u001b[49m\u001b[43mb\u001b[49m\u001b[43m)\u001b[49m\n\u001b[1;32m    707\u001b[0m     \u001b[38;5;28;01mexcept\u001b[39;00m timeout:\n\u001b[1;32m    708\u001b[0m         \u001b[38;5;28mself\u001b[39m\u001b[38;5;241m.\u001b[39m_timeout_occurred \u001b[38;5;241m=\u001b[39m \u001b[38;5;28;01mTrue\u001b[39;00m\n",
      "File \u001b[0;32m/opt/homebrew/Cellar/python@3.11/3.11.4_1/Frameworks/Python.framework/Versions/3.11/lib/python3.11/ssl.py:1278\u001b[0m, in \u001b[0;36mSSLSocket.recv_into\u001b[0;34m(self, buffer, nbytes, flags)\u001b[0m\n\u001b[1;32m   1274\u001b[0m     \u001b[38;5;28;01mif\u001b[39;00m flags \u001b[38;5;241m!=\u001b[39m \u001b[38;5;241m0\u001b[39m:\n\u001b[1;32m   1275\u001b[0m         \u001b[38;5;28;01mraise\u001b[39;00m \u001b[38;5;167;01mValueError\u001b[39;00m(\n\u001b[1;32m   1276\u001b[0m           \u001b[38;5;124m\"\u001b[39m\u001b[38;5;124mnon-zero flags not allowed in calls to recv_into() on \u001b[39m\u001b[38;5;132;01m%s\u001b[39;00m\u001b[38;5;124m\"\u001b[39m \u001b[38;5;241m%\u001b[39m\n\u001b[1;32m   1277\u001b[0m           \u001b[38;5;28mself\u001b[39m\u001b[38;5;241m.\u001b[39m\u001b[38;5;18m__class__\u001b[39m)\n\u001b[0;32m-> 1278\u001b[0m     \u001b[38;5;28;01mreturn\u001b[39;00m \u001b[38;5;28;43mself\u001b[39;49m\u001b[38;5;241;43m.\u001b[39;49m\u001b[43mread\u001b[49m\u001b[43m(\u001b[49m\u001b[43mnbytes\u001b[49m\u001b[43m,\u001b[49m\u001b[43m \u001b[49m\u001b[43mbuffer\u001b[49m\u001b[43m)\u001b[49m\n\u001b[1;32m   1279\u001b[0m \u001b[38;5;28;01melse\u001b[39;00m:\n\u001b[1;32m   1280\u001b[0m     \u001b[38;5;28;01mreturn\u001b[39;00m \u001b[38;5;28msuper\u001b[39m()\u001b[38;5;241m.\u001b[39mrecv_into(buffer, nbytes, flags)\n",
      "File \u001b[0;32m/opt/homebrew/Cellar/python@3.11/3.11.4_1/Frameworks/Python.framework/Versions/3.11/lib/python3.11/ssl.py:1134\u001b[0m, in \u001b[0;36mSSLSocket.read\u001b[0;34m(self, len, buffer)\u001b[0m\n\u001b[1;32m   1132\u001b[0m \u001b[38;5;28;01mtry\u001b[39;00m:\n\u001b[1;32m   1133\u001b[0m     \u001b[38;5;28;01mif\u001b[39;00m buffer \u001b[38;5;129;01mis\u001b[39;00m \u001b[38;5;129;01mnot\u001b[39;00m \u001b[38;5;28;01mNone\u001b[39;00m:\n\u001b[0;32m-> 1134\u001b[0m         \u001b[38;5;28;01mreturn\u001b[39;00m \u001b[38;5;28;43mself\u001b[39;49m\u001b[38;5;241;43m.\u001b[39;49m\u001b[43m_sslobj\u001b[49m\u001b[38;5;241;43m.\u001b[39;49m\u001b[43mread\u001b[49m\u001b[43m(\u001b[49m\u001b[38;5;28;43mlen\u001b[39;49m\u001b[43m,\u001b[49m\u001b[43m \u001b[49m\u001b[43mbuffer\u001b[49m\u001b[43m)\u001b[49m\n\u001b[1;32m   1135\u001b[0m     \u001b[38;5;28;01melse\u001b[39;00m:\n\u001b[1;32m   1136\u001b[0m         \u001b[38;5;28;01mreturn\u001b[39;00m \u001b[38;5;28mself\u001b[39m\u001b[38;5;241m.\u001b[39m_sslobj\u001b[38;5;241m.\u001b[39mread(\u001b[38;5;28mlen\u001b[39m)\n",
      "\u001b[0;31mKeyboardInterrupt\u001b[0m: "
     ]
    }
   ],
   "source": [
    "url_eth = f\"https://api.etherscan.io/api?module=block&action=getblockreward&blockno={block_number_list[0]}&apikey={eth_scan_api_key}\"\n",
    "\n",
    "response_eth = requests.request(\"POST\", url_eth)\n",
    "\n",
    "dct_eth = response_eth.json()['result']\n",
    "dct_eth = {k: None if not v else v for k, v in dct_eth.items()} # making sure none of the values are empty\n",
    "df_eth = pd.DataFrame(dct_eth, index=[0])\n",
    "\n",
    "for block in block_number_list[1:]:\n",
    "  url_temp = f\"https://api.etherscan.io/api?module=block&action=getblockreward&blockno={block}&apikey={eth_scan_api_key}\"\n",
    "  response_temp = requests.request(\"POST\", url_temp)\n",
    "\n",
    "  if response_temp.ok:\n",
    "    dct_temp = response_temp.json()['result']\n",
    "    dct_temp = {k: None if not v else v for k, v in dct_temp.items()} # making sure none of the values are empty\n",
    "    df_temp = pd.DataFrame(dct_temp, index=[0])\n",
    "    df_eth = pd.concat([df_eth, df_temp])\n",
    "    \n",
    "  else: \n",
    "    print(f\"error code {response_temp.status_code} for block {block}\")"
   ]
  },
  {
   "cell_type": "code",
   "execution_count": null,
   "metadata": {},
   "outputs": [],
   "source": [
    "df_eth['blockNumber'] = df_eth['blockNumber'].astype(int)"
   ]
  },
  {
   "cell_type": "code",
   "execution_count": null,
   "metadata": {},
   "outputs": [],
   "source": [
    "#merge eth to main\n",
    "df_main = df_main.merge(df_eth, left_on = 'block_number', right_on = 'blockNumber', how ='outer')"
   ]
  },
  {
   "cell_type": "markdown",
   "metadata": {},
   "source": [
    "# Tenderly"
   ]
  },
  {
   "cell_type": "code",
   "execution_count": 9,
   "metadata": {},
   "outputs": [],
   "source": [
    "headers = {\n",
    "    'X-Access-Key': f'{tenderly_access_token}',\n",
    "    'content-type': 'application/json',\n",
    "}\n",
    "\n",
    "columns = ['tx_hash', 'index', 'type', 'raw_amount', 'dollar_value', 'token_contract_address', 'token_name', 'token_dollar_value']\n",
    "df_results = pd.DataFrame(columns = columns)\n",
    "tx_hash_problem_list = []\n",
    "\n",
    "for index, row in df_main.iterrows():\n",
    "    tx_index_list = [0]\n",
    "    tx_index_list.append(int(row['transactionIndex'], 0))\n",
    "    for tx_index in tx_index_list:\n",
    "        json_data = {\n",
    "        'network_id': int(row['chainId'], 0),\n",
    "        'from': row['from'],\n",
    "        'to': row['to'],\n",
    "        'input': row['input'],\n",
    "        'block_number': row['block_number'],\n",
    "        'transaction_index': tx_index,\n",
    "        'simulation_type': 'quick',\n",
    "        'gas': int(row['gas'], 0),\n",
    "        'value': int(row['value'], 0),\n",
    "        'gas_price': int(row['gasPrice'], 0)\n",
    "   \n",
    "    }\n",
    "        response = requests.post(\n",
    "        'https://api.tenderly.co/api/v1/account/aurelie/project/cowswap/simulate',\n",
    "        headers=headers,\n",
    "        json=json_data,\n",
    "        )\n",
    "        \n",
    "        try:\n",
    "            for data in response.json()['transaction']['transaction_info']['asset_changes']:\n",
    "                tx_type = data['type']\n",
    "                tx_raw_amount = data['raw_amount']\n",
    "                tx_dollar_value = data['dollar_value']\n",
    "\n",
    "                try:\n",
    "                    contract_address = data['token_info']['contract_address']\n",
    "                except:\n",
    "                    contract_address = 'None'\n",
    "\n",
    "                try:\n",
    "                    token_name = data['token_info']['name']\n",
    "                except:\n",
    "                    token_name = 'None'\n",
    "                try:\n",
    "                    token_dollar_value = data['token_info']['dollar_value']\n",
    "                except:\n",
    "                    token_dollar_value = 'None'\n",
    "\n",
    "                new_row = {\n",
    "                    'tx_hash' : row['hash'],\n",
    "                    'index' : tx_index, \n",
    "                    'type': tx_type, \n",
    "                    'raw_amount': tx_raw_amount, \n",
    "                    'dollar_value' : tx_dollar_value, \n",
    "                    'token_contract_address': contract_address, \n",
    "                    'token_name': token_name, \n",
    "                    'token_dollar_value': token_dollar_value\n",
    "                    }\n",
    "                df_results = pd.concat([df_results, pd.DataFrame([new_row])], ignore_index=True)\n",
    "        except:\n",
    "            example = response.json()\n",
    "            tx_hash_problem = df_main[df_main['input'] == row['input']]['hash']\n",
    "            tx_hash_problem_list.append(tx_hash_problem)\n",
    "            \n"
   ]
  },
  {
   "cell_type": "code",
   "execution_count": 10,
   "metadata": {},
   "outputs": [],
   "source": [
    "with open(\"Output.json\", \"w\") as text_file:\n",
    "    text_file.write(str(example))\n"
   ]
  },
  {
   "cell_type": "code",
   "execution_count": 136,
   "metadata": {},
   "outputs": [],
   "source": [
    "grouped = df_results.groupby('tx_hash')\n",
    "df_results_good = grouped.filter(lambda x: x['index'].nunique() == 2)"
   ]
  },
  {
   "cell_type": "code",
   "execution_count": 137,
   "metadata": {},
   "outputs": [
    {
     "data": {
      "text/plain": [
       "28"
      ]
     },
     "execution_count": 137,
     "metadata": {},
     "output_type": "execute_result"
    }
   ],
   "source": [
    "# number of transactions for which this approach worked\n",
    "df_results_good.tx_hash.nunique()"
   ]
  },
  {
   "cell_type": "code",
   "execution_count": 138,
   "metadata": {},
   "outputs": [],
   "source": [
    "df_results_good = df_results_good.groupby(['tx_hash', 'index', 'token_contract_address'], as_index=False).first()\n",
    "df_results_good['dollar_value'] = df_results_good['dollar_value'].astype(float)\n",
    "df_results_good['asset_diff'] = df_results_good.groupby(['tx_hash', 'token_contract_address'])['dollar_value'].diff()"
   ]
  },
  {
   "cell_type": "code",
   "execution_count": 139,
   "metadata": {},
   "outputs": [
    {
     "data": {
      "text/plain": [
       "-5544.377747019963"
      ]
     },
     "execution_count": 139,
     "metadata": {},
     "output_type": "execute_result"
    }
   ],
   "source": [
    "#total potential loss in dollars\n",
    "df_results_good.asset_diff.sum()"
   ]
  },
  {
   "cell_type": "code",
   "execution_count": 140,
   "metadata": {},
   "outputs": [
    {
     "data": {
      "text/html": [
       "<div>\n",
       "<style scoped>\n",
       "    .dataframe tbody tr th:only-of-type {\n",
       "        vertical-align: middle;\n",
       "    }\n",
       "\n",
       "    .dataframe tbody tr th {\n",
       "        vertical-align: top;\n",
       "    }\n",
       "\n",
       "    .dataframe thead th {\n",
       "        text-align: right;\n",
       "    }\n",
       "</style>\n",
       "<table border=\"1\" class=\"dataframe\">\n",
       "  <thead>\n",
       "    <tr style=\"text-align: right;\">\n",
       "      <th></th>\n",
       "      <th>tx_hash</th>\n",
       "      <th>index</th>\n",
       "      <th>token_contract_address</th>\n",
       "      <th>type</th>\n",
       "      <th>raw_amount</th>\n",
       "      <th>dollar_value</th>\n",
       "      <th>token_name</th>\n",
       "      <th>token_dollar_value</th>\n",
       "      <th>asset_diff</th>\n",
       "    </tr>\n",
       "  </thead>\n",
       "  <tbody>\n",
       "    <tr>\n",
       "      <th>0</th>\n",
       "      <td>0x012778bb6330737bed53ca488e582500498d81e1db22...</td>\n",
       "      <td>0</td>\n",
       "      <td>0x4fe8d4775b7cb2546b9ee86182081cdf8f77b053</td>\n",
       "      <td>Transfer</td>\n",
       "      <td>16544534111992633092354532893</td>\n",
       "      <td>650.299432</td>\n",
       "      <td>KAIJUNO8</td>\n",
       "      <td>0.000000039305998456029556</td>\n",
       "      <td>NaN</td>\n",
       "    </tr>\n",
       "    <tr>\n",
       "      <th>1</th>\n",
       "      <td>0x012778bb6330737bed53ca488e582500498d81e1db22...</td>\n",
       "      <td>0</td>\n",
       "      <td>0xc02aaa39b223fe8d0a0e5c4f27ead9083c756cc2</td>\n",
       "      <td>Mint</td>\n",
       "      <td>200000000000000000</td>\n",
       "      <td>713.127979</td>\n",
       "      <td>WETH</td>\n",
       "      <td>3565.639892578125</td>\n",
       "      <td>NaN</td>\n",
       "    </tr>\n",
       "    <tr>\n",
       "      <th>2</th>\n",
       "      <td>0x012778bb6330737bed53ca488e582500498d81e1db22...</td>\n",
       "      <td>0</td>\n",
       "      <td>None</td>\n",
       "      <td>Transfer</td>\n",
       "      <td>200000000000000000</td>\n",
       "      <td>713.147998</td>\n",
       "      <td>Ethereum</td>\n",
       "      <td>3565.739990234375</td>\n",
       "      <td>NaN</td>\n",
       "    </tr>\n",
       "    <tr>\n",
       "      <th>3</th>\n",
       "      <td>0x012778bb6330737bed53ca488e582500498d81e1db22...</td>\n",
       "      <td>2</td>\n",
       "      <td>0x4fe8d4775b7cb2546b9ee86182081cdf8f77b053</td>\n",
       "      <td>Transfer</td>\n",
       "      <td>11103714626240328921002570571</td>\n",
       "      <td>436.442590</td>\n",
       "      <td>KAIJUNO8</td>\n",
       "      <td>0.000000039305998456029556</td>\n",
       "      <td>-213.856842</td>\n",
       "    </tr>\n",
       "    <tr>\n",
       "      <th>4</th>\n",
       "      <td>0x012778bb6330737bed53ca488e582500498d81e1db22...</td>\n",
       "      <td>2</td>\n",
       "      <td>0xc02aaa39b223fe8d0a0e5c4f27ead9083c756cc2</td>\n",
       "      <td>Mint</td>\n",
       "      <td>200000000000000000</td>\n",
       "      <td>713.127979</td>\n",
       "      <td>WETH</td>\n",
       "      <td>3565.639892578125</td>\n",
       "      <td>0.000000</td>\n",
       "    </tr>\n",
       "    <tr>\n",
       "      <th>...</th>\n",
       "      <td>...</td>\n",
       "      <td>...</td>\n",
       "      <td>...</td>\n",
       "      <td>...</td>\n",
       "      <td>...</td>\n",
       "      <td>...</td>\n",
       "      <td>...</td>\n",
       "      <td>...</td>\n",
       "      <td>...</td>\n",
       "    </tr>\n",
       "    <tr>\n",
       "      <th>161</th>\n",
       "      <td>0xf8196d4b1341fb7700603dd0abfebc5ee859b279eb9c...</td>\n",
       "      <td>0</td>\n",
       "      <td>0xc02aaa39b223fe8d0a0e5c4f27ead9083c756cc2</td>\n",
       "      <td>Mint</td>\n",
       "      <td>3000000000000000000</td>\n",
       "      <td>10696.710205</td>\n",
       "      <td>WETH</td>\n",
       "      <td>3565.570068359375</td>\n",
       "      <td>NaN</td>\n",
       "    </tr>\n",
       "    <tr>\n",
       "      <th>162</th>\n",
       "      <td>0xf8196d4b1341fb7700603dd0abfebc5ee859b279eb9c...</td>\n",
       "      <td>0</td>\n",
       "      <td>None</td>\n",
       "      <td>Transfer</td>\n",
       "      <td>3000000000000000000</td>\n",
       "      <td>10694.849854</td>\n",
       "      <td>Ethereum</td>\n",
       "      <td>3564.949951171875</td>\n",
       "      <td>NaN</td>\n",
       "    </tr>\n",
       "    <tr>\n",
       "      <th>163</th>\n",
       "      <td>0xf8196d4b1341fb7700603dd0abfebc5ee859b279eb9c...</td>\n",
       "      <td>4</td>\n",
       "      <td>0x21e5c85a5b1f38bddde68307af77e38f747cd530</td>\n",
       "      <td>Transfer</td>\n",
       "      <td>1547438874490587247647</td>\n",
       "      <td>2048.809102</td>\n",
       "      <td>Doggensnout Skeptic</td>\n",
       "      <td>0.0000000013240000207304092</td>\n",
       "      <td>-10.243635</td>\n",
       "    </tr>\n",
       "    <tr>\n",
       "      <th>164</th>\n",
       "      <td>0xf8196d4b1341fb7700603dd0abfebc5ee859b279eb9c...</td>\n",
       "      <td>4</td>\n",
       "      <td>0xc02aaa39b223fe8d0a0e5c4f27ead9083c756cc2</td>\n",
       "      <td>Mint</td>\n",
       "      <td>3000000000000000000</td>\n",
       "      <td>10696.710205</td>\n",
       "      <td>WETH</td>\n",
       "      <td>3565.570068359375</td>\n",
       "      <td>0.000000</td>\n",
       "    </tr>\n",
       "    <tr>\n",
       "      <th>165</th>\n",
       "      <td>0xf8196d4b1341fb7700603dd0abfebc5ee859b279eb9c...</td>\n",
       "      <td>4</td>\n",
       "      <td>None</td>\n",
       "      <td>Transfer</td>\n",
       "      <td>3000000000000000000</td>\n",
       "      <td>10694.849854</td>\n",
       "      <td>Ethereum</td>\n",
       "      <td>3564.949951171875</td>\n",
       "      <td>0.000000</td>\n",
       "    </tr>\n",
       "  </tbody>\n",
       "</table>\n",
       "<p>166 rows × 9 columns</p>\n",
       "</div>"
      ],
      "text/plain": [
       "                                               tx_hash index  \\\n",
       "0    0x012778bb6330737bed53ca488e582500498d81e1db22...     0   \n",
       "1    0x012778bb6330737bed53ca488e582500498d81e1db22...     0   \n",
       "2    0x012778bb6330737bed53ca488e582500498d81e1db22...     0   \n",
       "3    0x012778bb6330737bed53ca488e582500498d81e1db22...     2   \n",
       "4    0x012778bb6330737bed53ca488e582500498d81e1db22...     2   \n",
       "..                                                 ...   ...   \n",
       "161  0xf8196d4b1341fb7700603dd0abfebc5ee859b279eb9c...     0   \n",
       "162  0xf8196d4b1341fb7700603dd0abfebc5ee859b279eb9c...     0   \n",
       "163  0xf8196d4b1341fb7700603dd0abfebc5ee859b279eb9c...     4   \n",
       "164  0xf8196d4b1341fb7700603dd0abfebc5ee859b279eb9c...     4   \n",
       "165  0xf8196d4b1341fb7700603dd0abfebc5ee859b279eb9c...     4   \n",
       "\n",
       "                         token_contract_address      type  \\\n",
       "0    0x4fe8d4775b7cb2546b9ee86182081cdf8f77b053  Transfer   \n",
       "1    0xc02aaa39b223fe8d0a0e5c4f27ead9083c756cc2      Mint   \n",
       "2                                          None  Transfer   \n",
       "3    0x4fe8d4775b7cb2546b9ee86182081cdf8f77b053  Transfer   \n",
       "4    0xc02aaa39b223fe8d0a0e5c4f27ead9083c756cc2      Mint   \n",
       "..                                          ...       ...   \n",
       "161  0xc02aaa39b223fe8d0a0e5c4f27ead9083c756cc2      Mint   \n",
       "162                                        None  Transfer   \n",
       "163  0x21e5c85a5b1f38bddde68307af77e38f747cd530  Transfer   \n",
       "164  0xc02aaa39b223fe8d0a0e5c4f27ead9083c756cc2      Mint   \n",
       "165                                        None  Transfer   \n",
       "\n",
       "                        raw_amount  dollar_value           token_name  \\\n",
       "0    16544534111992633092354532893    650.299432             KAIJUNO8   \n",
       "1               200000000000000000    713.127979                 WETH   \n",
       "2               200000000000000000    713.147998             Ethereum   \n",
       "3    11103714626240328921002570571    436.442590             KAIJUNO8   \n",
       "4               200000000000000000    713.127979                 WETH   \n",
       "..                             ...           ...                  ...   \n",
       "161            3000000000000000000  10696.710205                 WETH   \n",
       "162            3000000000000000000  10694.849854             Ethereum   \n",
       "163         1547438874490587247647   2048.809102  Doggensnout Skeptic   \n",
       "164            3000000000000000000  10696.710205                 WETH   \n",
       "165            3000000000000000000  10694.849854             Ethereum   \n",
       "\n",
       "              token_dollar_value  asset_diff  \n",
       "0     0.000000039305998456029556         NaN  \n",
       "1              3565.639892578125         NaN  \n",
       "2              3565.739990234375         NaN  \n",
       "3     0.000000039305998456029556 -213.856842  \n",
       "4              3565.639892578125    0.000000  \n",
       "..                           ...         ...  \n",
       "161            3565.570068359375         NaN  \n",
       "162            3564.949951171875         NaN  \n",
       "163  0.0000000013240000207304092  -10.243635  \n",
       "164            3565.570068359375    0.000000  \n",
       "165            3564.949951171875    0.000000  \n",
       "\n",
       "[166 rows x 9 columns]"
      ]
     },
     "execution_count": 140,
     "metadata": {},
     "output_type": "execute_result"
    }
   ],
   "source": [
    "df_results_good"
   ]
  },
  {
   "cell_type": "code",
   "execution_count": 141,
   "metadata": {},
   "outputs": [],
   "source": [
    "#df_results_good = df_results_good.dropna(subset=['asset_diff'])[['tx_hash', 'asset_diff']]\n",
    "#df_results_good.to_csv('preliminary_results.csv')"
   ]
  },
  {
   "cell_type": "markdown",
   "metadata": {},
   "source": [
    "## Calculate the dollar value of the potential loss for the coins that don't have a dollar value\n",
    "The logic here is that there is WETH in all the transactions, so we will get the value of the unknown coin based on the WETH value"
   ]
  },
  {
   "cell_type": "code",
   "execution_count": 142,
   "metadata": {},
   "outputs": [],
   "source": [
    "#first if token name is WETH, then the raw_amount need tos be converted. Every transaction has WETH so I will base the analysis on that \n",
    "df_results_good['raw_amount'] = df_results_good['raw_amount'].astype(float)\n",
    "df_results_good.loc[df_results_good['token_name'] == 'WETH', 'raw_amount'] /= 1e+18"
   ]
  },
  {
   "cell_type": "code",
   "execution_count": 147,
   "metadata": {},
   "outputs": [],
   "source": [
    "def calculate_dollar_value(row, df):\n",
    "    if pd.isna(row['dollar_value']):\n",
    "        # Filter the DataFrame to get the subset with the same 'tx_hash' and 'index' values\n",
    "        subset = df[(df['tx_hash'] == row['tx_hash']) & (df['index'] == row['index'])]\n",
    "\n",
    "        if not subset.empty:\n",
    "            # Calculate dollar value based on 'WETH' value if the subset is not empty\n",
    "            weth_row = subset[subset['token_name'] == 'WETH']\n",
    "            if not weth_row.empty:\n",
    "                weth_raw_amount = float(weth_row['raw_amount'].values[0])\n",
    "                weth_dollar_value = weth_row['dollar_value'].values[0]\n",
    "                unknown_raw_amount = float(row['raw_amount'])\n",
    "                return (weth_raw_amount * weth_dollar_value) / unknown_raw_amount\n",
    "\n",
    "    # If token_name is not NaN or if the subset is empty, return the original dollar_value\n",
    "    return row['dollar_value']\n"
   ]
  },
  {
   "cell_type": "code",
   "execution_count": 148,
   "metadata": {},
   "outputs": [
    {
     "name": "stdout",
     "output_type": "stream",
     "text": [
      "0.4\n",
      "1426.25595703125\n",
      "8.492115069140417e+20\n",
      "0.4\n",
      "1426.25595703125\n",
      "8.074525318605014e+20\n",
      "0.2\n",
      "713.114013671875\n",
      "1.4506208337094267e+23\n",
      "0.2\n",
      "713.127978515625\n",
      "2.1032322466908208e+23\n",
      "0.46855135301681916\n",
      "1670.6526798060574\n",
      "218774635948809.0\n",
      "0.46855135301681916\n",
      "1670.6526798060574\n",
      "325968215648902.0\n",
      "4.45390495201369\n",
      "15880.71018421761\n",
      "1.25e+22\n",
      "4.607552580192021\n",
      "16428.87328708394\n",
      "1.25e+22\n",
      "0.9869972201079622\n",
      "3519.20774557086\n",
      "466225481228063.0\n",
      "0.9869942303024463\n",
      "3519.197085209802\n",
      "739617670956575.0\n",
      "0.6674706864737044\n",
      "2379.9135011979256\n",
      "1.4301263248671973e+23\n",
      "0.6674706864737044\n",
      "2379.9135011979256\n",
      "1.603558020058867e+23\n",
      "1.0\n",
      "3565.570068359375\n",
      "4.187961881938826e+21\n",
      "1.0\n",
      "3565.570068359375\n",
      "5.456180989865073e+21\n",
      "1.8256670581965693\n",
      "6509.543817495401\n",
      "1e+19\n",
      "1.8648905653276575\n",
      "6649.397980498089\n",
      "1e+19\n",
      "0.1\n",
      "356.5570068359375\n",
      "6.983662452066881e+22\n",
      "0.1\n",
      "356.5570068359375\n",
      "1.0126294179802136e+23\n"
     ]
    }
   ],
   "source": [
    "\n",
    "# Apply the function to each row\n",
    "# Iterate over each row in the DataFrame\n",
    "for index, row in df_results_good.iterrows():\n",
    "    # Call the calculate_dollar_value function and pass the current row and the DataFrame\n",
    "    calculated_value = calculate_dollar_value(row, df_results_good)\n",
    "    \n",
    "    # Update the 'dollar_value' column with the calculated value\n",
    "    df_results_good.at[index, 'dollar_value'] = calculated_value\n"
   ]
  },
  {
   "cell_type": "code",
   "execution_count": 149,
   "metadata": {},
   "outputs": [],
   "source": [
    "df_results_good = df_results_good.sort_values(by = ['tx_hash', 'index'], ascending = [True, False])"
   ]
  },
  {
   "cell_type": "code",
   "execution_count": 150,
   "metadata": {},
   "outputs": [],
   "source": [
    "# FYI if token_contract_address == 'None', then it's always Ethereum\n",
    "df_results_good['raw_amount'] = df_results_good['raw_amount'].astype(float)\n",
    "df_results_good['raw_amount_diff'] = df_results_good.groupby(['tx_hash', 'token_contract_address'])['raw_amount'].transform(lambda x: x[::-1].diff())\n"
   ]
  },
  {
   "cell_type": "code",
   "execution_count": 151,
   "metadata": {},
   "outputs": [],
   "source": [
    "df_results_good['final_diff'] = df_results_good['raw_amount_diff'] * df_results_good['dollar_value']"
   ]
  },
  {
   "cell_type": "code",
   "execution_count": 162,
   "metadata": {},
   "outputs": [
    {
     "data": {
      "text/plain": [
       "-9289.272417443923"
      ]
     },
     "execution_count": 162,
     "metadata": {},
     "output_type": "execute_result"
    }
   ],
   "source": [
    "#total potential loss in dollars.\n",
    "#prioritize the difference if it was returned by api, otherwise use our way of calculating\n",
    "df_results_good[df_results_good.asset_diff.isna()].final_diff.sum() + df_results_good.asset_diff.sum()"
   ]
  },
  {
   "cell_type": "code",
   "execution_count": 164,
   "metadata": {},
   "outputs": [],
   "source": [
    "df_results_good.to_csv('0204_preliminary_results.csv')"
   ]
  },
  {
   "cell_type": "code",
   "execution_count": null,
   "metadata": {},
   "outputs": [],
   "source": []
  }
 ],
 "metadata": {
  "kernelspec": {
   "display_name": "data_eng",
   "language": "python",
   "name": "python3"
  },
  "language_info": {
   "codemirror_mode": {
    "name": "ipython",
    "version": 3
   },
   "file_extension": ".py",
   "mimetype": "text/x-python",
   "name": "python",
   "nbconvert_exporter": "python",
   "pygments_lexer": "ipython3",
   "version": "3.11.4"
  }
 },
 "nbformat": 4,
 "nbformat_minor": 2
}
