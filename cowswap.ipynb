{
 "cells": [
  {
   "cell_type": "code",
   "execution_count": 1,
   "metadata": {},
   "outputs": [],
   "source": [
    "import pandas as pd\n",
    "import json\n",
    "import requests\n",
    "from python_secrets import *"
   ]
  },
  {
   "cell_type": "code",
   "execution_count": 115,
   "metadata": {},
   "outputs": [
    {
     "data": {
      "text/html": [
       "<div>\n",
       "<style scoped>\n",
       "    .dataframe tbody tr th:only-of-type {\n",
       "        vertical-align: middle;\n",
       "    }\n",
       "\n",
       "    .dataframe tbody tr th {\n",
       "        vertical-align: top;\n",
       "    }\n",
       "\n",
       "    .dataframe thead th {\n",
       "        text-align: right;\n",
       "    }\n",
       "</style>\n",
       "<table border=\"1\" class=\"dataframe\">\n",
       "  <thead>\n",
       "    <tr style=\"text-align: right;\">\n",
       "      <th></th>\n",
       "      <th>block_number</th>\n",
       "      <th>user_tx</th>\n",
       "      <th>fees</th>\n",
       "    </tr>\n",
       "  </thead>\n",
       "  <tbody>\n",
       "    <tr>\n",
       "      <th>0</th>\n",
       "      <td>19412019</td>\n",
       "      <td>0x1ee8d8e23e4a026ce8afbf2dc79c196c6b1d43d5e9f8...</td>\n",
       "      <td>1.861322e+16</td>\n",
       "    </tr>\n",
       "    <tr>\n",
       "      <th>1</th>\n",
       "      <td>19412030</td>\n",
       "      <td>0x354e8386267ca643793de913739df3f9680895776f3a...</td>\n",
       "      <td>4.694753e+16</td>\n",
       "    </tr>\n",
       "    <tr>\n",
       "      <th>2</th>\n",
       "      <td>19412041</td>\n",
       "      <td>0xee8fd2c76181afa14ca0da158e0a01bba2d3df8e62c5...</td>\n",
       "      <td>6.182506e+16</td>\n",
       "    </tr>\n",
       "    <tr>\n",
       "      <th>3</th>\n",
       "      <td>19412043</td>\n",
       "      <td>0x5f3954cc3cb4fbb88803a910d852aab6566af2866acf...</td>\n",
       "      <td>1.283444e+17</td>\n",
       "    </tr>\n",
       "    <tr>\n",
       "      <th>4</th>\n",
       "      <td>19412043</td>\n",
       "      <td>0xbd9c86df3327871d630a0921c65cb7bec9b0c199d80c...</td>\n",
       "      <td>3.640861e+16</td>\n",
       "    </tr>\n",
       "  </tbody>\n",
       "</table>\n",
       "</div>"
      ],
      "text/plain": [
       "  block_number                                            user_tx  \\\n",
       "0     19412019  0x1ee8d8e23e4a026ce8afbf2dc79c196c6b1d43d5e9f8...   \n",
       "1     19412030  0x354e8386267ca643793de913739df3f9680895776f3a...   \n",
       "2     19412041  0xee8fd2c76181afa14ca0da158e0a01bba2d3df8e62c5...   \n",
       "3     19412043  0x5f3954cc3cb4fbb88803a910d852aab6566af2866acf...   \n",
       "4     19412043  0xbd9c86df3327871d630a0921c65cb7bec9b0c199d80c...   \n",
       "\n",
       "           fees  \n",
       "0  1.861322e+16  \n",
       "1  4.694753e+16  \n",
       "2  6.182506e+16  \n",
       "3  1.283444e+17  \n",
       "4  3.640861e+16  "
      ]
     },
     "execution_count": 115,
     "metadata": {},
     "output_type": "execute_result"
    }
   ],
   "source": [
    "df = pd.read_csv('incident2.csv')\n",
    "df.head()"
   ]
  },
  {
   "cell_type": "code",
   "execution_count": 116,
   "metadata": {},
   "outputs": [],
   "source": [
    "tx_hash_list = [x for x in df[' user_tx'].to_list() if pd.notnull(x)]"
   ]
  },
  {
   "cell_type": "markdown",
   "metadata": {},
   "source": [
    "# Infuria"
   ]
  },
  {
   "cell_type": "code",
   "execution_count": 119,
   "metadata": {},
   "outputs": [],
   "source": [
    "url = f\"https://mainnet.infura.io/v3/{infura_api_key}\"\n",
    "\n",
    "payload = json.dumps({\n",
    "  \"jsonrpc\": \"2.0\",\n",
    "  \"method\": \"eth_getTransactionReceipt\",\n",
    "  \"params\": [\n",
    "    \"0x1ee8d8e23e4a026ce8afbf2dc79c196c6b1d43d5e9f8ebb80b968a367ed5e581\"\n",
    "  ],\n",
    "  \"id\": 1\n",
    "})\n",
    "headers = {\n",
    "  'Content-Type': 'application/json'\n",
    "}\n",
    "\n",
    "response = requests.request(\"POST\", url, headers=headers, data=payload)\n",
    "\n",
    "columns_no_duplicates = [e for e in response.json()['result'].keys() if e not in ('logs', 'logsBloom')]\n",
    "df_infuria = pd.DataFrame.from_dict(response.json()['result'])[columns_no_duplicates]\n",
    "df_infuria = df_infuria.drop_duplicates()\n",
    "df_infuria\n",
    "\n",
    "for tx_hash in tx_hash_list[1:]:\n",
    "    payload = json.dumps({\n",
    "      \"jsonrpc\": \"2.0\",\n",
    "      \"method\": \"eth_getTransactionReceipt\",\n",
    "      \"params\": [\n",
    "        tx_hash\n",
    "      ],\n",
    "      \"id\": 1\n",
    "    })\n",
    "    headers = {\n",
    "      'Content-Type': 'application/json'\n",
    "} \n",
    "\n",
    "    response = requests.request(\"POST\", url, headers=headers, data=payload)\n",
    "\n",
    "    if response.ok:\n",
    "      df_temp = pd.DataFrame.from_dict(response.json()['result'])[columns_no_duplicates]\n",
    "      df_temp = df_temp.drop_duplicates()\n",
    "      df_infuria = pd.concat([df_infuria, df_temp])\n",
    "    \n",
    "    else: \n",
    "       print(f\"error code {response.status_code} for transaction {tx_hash}\")\n"
   ]
  },
  {
   "cell_type": "markdown",
   "metadata": {},
   "source": [
    "# W3"
   ]
  },
  {
   "cell_type": "markdown",
   "metadata": {},
   "source": []
  }
 ],
 "metadata": {
  "kernelspec": {
   "display_name": "data_eng",
   "language": "python",
   "name": "python3"
  },
  "language_info": {
   "codemirror_mode": {
    "name": "ipython",
    "version": 3
   },
   "file_extension": ".py",
   "mimetype": "text/x-python",
   "name": "python",
   "nbconvert_exporter": "python",
   "pygments_lexer": "ipython3",
   "version": "3.11.4"
  }
 },
 "nbformat": 4,
 "nbformat_minor": 2
}
