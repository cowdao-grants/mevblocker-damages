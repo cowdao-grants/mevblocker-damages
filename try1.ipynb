{
 "cells": [
  {
   "cell_type": "code",
   "execution_count": 1,
   "metadata": {},
   "outputs": [],
   "source": [
    "import pandas as pd"
   ]
  },
  {
   "cell_type": "code",
   "execution_count": 2,
   "metadata": {},
   "outputs": [
    {
     "data": {
      "text/html": [
       "<div>\n",
       "<style scoped>\n",
       "    .dataframe tbody tr th:only-of-type {\n",
       "        vertical-align: middle;\n",
       "    }\n",
       "\n",
       "    .dataframe tbody tr th {\n",
       "        vertical-align: top;\n",
       "    }\n",
       "\n",
       "    .dataframe thead th {\n",
       "        text-align: right;\n",
       "    }\n",
       "</style>\n",
       "<table border=\"1\" class=\"dataframe\">\n",
       "  <thead>\n",
       "    <tr style=\"text-align: right;\">\n",
       "      <th></th>\n",
       "      <th>block_number</th>\n",
       "      <th>user_tx</th>\n",
       "      <th>fees</th>\n",
       "    </tr>\n",
       "  </thead>\n",
       "  <tbody>\n",
       "    <tr>\n",
       "      <th>0</th>\n",
       "      <td>19412019</td>\n",
       "      <td>0x1ee8d8e23e4a026ce8afbf2dc79c196c6b1d43d5e9f8...</td>\n",
       "      <td>1.861322e+16</td>\n",
       "    </tr>\n",
       "    <tr>\n",
       "      <th>1</th>\n",
       "      <td>19412030</td>\n",
       "      <td>0x354e8386267ca643793de913739df3f9680895776f3a...</td>\n",
       "      <td>4.694753e+16</td>\n",
       "    </tr>\n",
       "    <tr>\n",
       "      <th>2</th>\n",
       "      <td>19412041</td>\n",
       "      <td>0xee8fd2c76181afa14ca0da158e0a01bba2d3df8e62c5...</td>\n",
       "      <td>6.182506e+16</td>\n",
       "    </tr>\n",
       "    <tr>\n",
       "      <th>3</th>\n",
       "      <td>19412043</td>\n",
       "      <td>0x5f3954cc3cb4fbb88803a910d852aab6566af2866acf...</td>\n",
       "      <td>1.283444e+17</td>\n",
       "    </tr>\n",
       "    <tr>\n",
       "      <th>4</th>\n",
       "      <td>19412043</td>\n",
       "      <td>0xbd9c86df3327871d630a0921c65cb7bec9b0c199d80c...</td>\n",
       "      <td>3.640861e+16</td>\n",
       "    </tr>\n",
       "  </tbody>\n",
       "</table>\n",
       "</div>"
      ],
      "text/plain": [
       "  block_number                                            user_tx  \\\n",
       "0     19412019  0x1ee8d8e23e4a026ce8afbf2dc79c196c6b1d43d5e9f8...   \n",
       "1     19412030  0x354e8386267ca643793de913739df3f9680895776f3a...   \n",
       "2     19412041  0xee8fd2c76181afa14ca0da158e0a01bba2d3df8e62c5...   \n",
       "3     19412043  0x5f3954cc3cb4fbb88803a910d852aab6566af2866acf...   \n",
       "4     19412043  0xbd9c86df3327871d630a0921c65cb7bec9b0c199d80c...   \n",
       "\n",
       "           fees  \n",
       "0  1.861322e+16  \n",
       "1  4.694753e+16  \n",
       "2  6.182506e+16  \n",
       "3  1.283444e+17  \n",
       "4  3.640861e+16  "
      ]
     },
     "execution_count": 2,
     "metadata": {},
     "output_type": "execute_result"
    }
   ],
   "source": [
    "df = pd.read_csv('incident2.csv')\n",
    "df.head()"
   ]
  },
  {
   "cell_type": "markdown",
   "metadata": {},
   "source": [
    "# use this api to find the position in block from transaction hash\n",
    "# https://docs.infura.io/api/networks/ethereum/json-rpc-methods/eth_gettransactionreceipt\n"
   ]
  },
  {
   "cell_type": "markdown",
   "metadata": {},
   "source": [
    "example: for the first transaction from the file we have, it has the transaction hash: 0x1ee8d8e23e4a026ce8afbf2dc79c196c6b1d43d5e9f8ebb80b968a367ed5e581"
   ]
  },
  {
   "cell_type": "markdown",
   "metadata": {},
   "source": [
    "By looking at etherscan: \n",
    "- the user swapped  849 BRETT for 0.4 ETH on Uniswap v2\n",
    "- from block 19412019\n",
    "\n",
    "By looking at zeromev:\n",
    "- the transaction was on position 2 (3d transaction)"
   ]
  },
  {
   "cell_type": "code",
   "execution_count": 3,
   "metadata": {},
   "outputs": [
    {
     "name": "stdout",
     "output_type": "stream",
     "text": [
      "{\"jsonrpc\":\"2.0\",\"id\":1,\"result\":{\"blockHash\":\"0x2c1ca96b35f726a2171d3ebc050e390aca8dd1f83a2364ffa8cab9910143ee01\",\"blockNumber\":\"0x1283433\",\"contractAddress\":null,\"cumulativeGasUsed\":\"0x6f884\",\"effectiveGasPrice\":\"0x11cd060113\",\"from\":\"0x36a2ffb33c1b427c46c3d30adac3ca4e8ed36179\",\"gasUsed\":\"0x2038c\",\"logs\":[{\"address\":\"0xb0699d63aef20df3f1cffa9ca2bb8670416271d2\",\"blockHash\":\"0x2c1ca96b35f726a2171d3ebc050e390aca8dd1f83a2364ffa8cab9910143ee01\",\"blockNumber\":\"0x1283433\",\"data\":\"0x00000000000000000000000000000000000000000000002e092d563911a14d34\",\"logIndex\":\"0xd\",\"removed\":false,\"topics\":[\"0xddf252ad1be2c89b69c2b068fc378daa952ba7f163c4a11628f55a4df523b3ef\",\"0x00000000000000000000000036a2ffb33c1b427c46c3d30adac3ca4e8ed36179\",\"0x000000000000000000000000e1ebdf64f7f3a31723e767a561345f958233bb7d\"],\"transactionHash\":\"0x1ee8d8e23e4a026ce8afbf2dc79c196c6b1d43d5e9f8ebb80b968a367ed5e581\",\"transactionIndex\":\"0x2\"},{\"address\":\"0xb0699d63aef20df3f1cffa9ca2bb8670416271d2\",\"blockHash\":\"0x2c1ca96b35f726a2171d3ebc050e390aca8dd1f83a2364ffa8cab9910143ee01\",\"blockNumber\":\"0x1283433\",\"data\":\"0xffffffffffffffffffffffffffffffffffffffffffffff9322f5f617234ed849\",\"logIndex\":\"0xe\",\"removed\":false,\"topics\":[\"0x8c5be1e5ebec7d5bd14f71427d1e84f3dd0314c0f7b2291e5b200ac8c7c3b925\",\"0x00000000000000000000000036a2ffb33c1b427c46c3d30adac3ca4e8ed36179\",\"0x0000000000000000000000007a250d5630b4cf539739df2c5dacb4c659f2488d\"],\"transactionHash\":\"0x1ee8d8e23e4a026ce8afbf2dc79c196c6b1d43d5e9f8ebb80b968a367ed5e581\",\"transactionIndex\":\"0x2\"},{\"address\":\"0xc02aaa39b223fe8d0a0e5c4f27ead9083c756cc2\",\"blockHash\":\"0x2c1ca96b35f726a2171d3ebc050e390aca8dd1f83a2364ffa8cab9910143ee01\",\"blockNumber\":\"0x1283433\",\"data\":\"0x000000000000000000000000000000000000000000000000058d15e176280000\",\"logIndex\":\"0xf\",\"removed\":false,\"topics\":[\"0xddf252ad1be2c89b69c2b068fc378daa952ba7f163c4a11628f55a4df523b3ef\",\"0x000000000000000000000000e1ebdf64f7f3a31723e767a561345f958233bb7d\",\"0x0000000000000000000000007a250d5630b4cf539739df2c5dacb4c659f2488d\"],\"transactionHash\":\"0x1ee8d8e23e4a026ce8afbf2dc79c196c6b1d43d5e9f8ebb80b968a367ed5e581\",\"transactionIndex\":\"0x2\"},{\"address\":\"0xe1ebdf64f7f3a31723e767a561345f958233bb7d\",\"blockHash\":\"0x2c1ca96b35f726a2171d3ebc050e390aca8dd1f83a2364ffa8cab9910143ee01\",\"blockNumber\":\"0x1283433\",\"data\":\"0x0000000000000000000000000000000000000000000007e6c1be2936976cbb89000000000000000000000000000000000000000000000000ef1337ebdd36a4d6\",\"logIndex\":\"0x10\",\"removed\":false,\"topics\":[\"0x1c411e9a96e071241c2f21f7726b17ae89e3cab4c78be50e062b03a9fffbbad1\"],\"transactionHash\":\"0x1ee8d8e23e4a026ce8afbf2dc79c196c6b1d43d5e9f8ebb80b968a367ed5e581\",\"transactionIndex\":\"0x2\"},{\"address\":\"0xe1ebdf64f7f3a31723e767a561345f958233bb7d\",\"blockHash\":\"0x2c1ca96b35f726a2171d3ebc050e390aca8dd1f83a2364ffa8cab9910143ee01\",\"blockNumber\":\"0x1283433\",\"data\":\"0x00000000000000000000000000000000000000000000002e092d563911a14d3400000000000000000000000000000000000000000000000000000000000000000000000000000000000000000000000000000000000000000000000000000000000000000000000000000000000000000000000000000000058d15e176280000\",\"logIndex\":\"0x11\",\"removed\":false,\"topics\":[\"0xd78ad95fa46c994b6551d0da85fc275fe613ce37657fb8d5e3d130840159d822\",\"0x0000000000000000000000007a250d5630b4cf539739df2c5dacb4c659f2488d\",\"0x0000000000000000000000007a250d5630b4cf539739df2c5dacb4c659f2488d\"],\"transactionHash\":\"0x1ee8d8e23e4a026ce8afbf2dc79c196c6b1d43d5e9f8ebb80b968a367ed5e581\",\"transactionIndex\":\"0x2\"},{\"address\":\"0xc02aaa39b223fe8d0a0e5c4f27ead9083c756cc2\",\"blockHash\":\"0x2c1ca96b35f726a2171d3ebc050e390aca8dd1f83a2364ffa8cab9910143ee01\",\"blockNumber\":\"0x1283433\",\"data\":\"0x000000000000000000000000000000000000000000000000058d15e176280000\",\"logIndex\":\"0x12\",\"removed\":false,\"topics\":[\"0x7fcf532c15f0a6db0bd6d0e038bea71d30d808c7d98cb3bf7268a95bf5081b65\",\"0x0000000000000000000000007a250d5630b4cf539739df2c5dacb4c659f2488d\"],\"transactionHash\":\"0x1ee8d8e23e4a026ce8afbf2dc79c196c6b1d43d5e9f8ebb80b968a367ed5e581\",\"transactionIndex\":\"0x2\"}],\"logsBloom\":\"0x002000000000000000000000800000000000000000000000001100000000020000000000001000000000000000000000020000000800000000000000002008000000a0400000000000000008000000200000000000400000000080000000000000000000000000000000000000000000000000000000040000000010000000000000400000000000004000000000000000000000000500080000004000000000020000000000000000000000000008000000000000000000000000000000000000000002000000000000000000000000000000000000001000000002000020000010200000000000000000000000000000000000000000000000000000000000\",\"status\":\"0x1\",\"to\":\"0x7a250d5630b4cf539739df2c5dacb4c659f2488d\",\"transactionHash\":\"0x1ee8d8e23e4a026ce8afbf2dc79c196c6b1d43d5e9f8ebb80b968a367ed5e581\",\"transactionIndex\":\"0x2\",\"type\":\"0x2\"}}\n"
     ]
    }
   ],
   "source": [
    "# checking for that one transaction in infura\n",
    "\n",
    "import requests\n",
    "import json\n",
    "from python_secrets import infura_api_key\n",
    "\n",
    "url = f\"https://mainnet.infura.io/v3/{infura_api_key}\"\n",
    "\n",
    "payload = json.dumps({\n",
    "  \"jsonrpc\": \"2.0\",\n",
    "  \"method\": \"eth_getTransactionReceipt\",\n",
    "  \"params\": [\n",
    "    \"0x1ee8d8e23e4a026ce8afbf2dc79c196c6b1d43d5e9f8ebb80b968a367ed5e581\"\n",
    "  ],\n",
    "  \"id\": 1\n",
    "})\n",
    "headers = {\n",
    "  'Content-Type': 'application/json'\n",
    "}\n",
    "\n",
    "response = requests.request(\"POST\", url, headers=headers, data=payload)\n",
    "\n",
    "print(response.text)"
   ]
  },
  {
   "cell_type": "code",
   "execution_count": 31,
   "metadata": {},
   "outputs": [
    {
     "data": {
      "text/html": [
       "<div>\n",
       "<style scoped>\n",
       "    .dataframe tbody tr th:only-of-type {\n",
       "        vertical-align: middle;\n",
       "    }\n",
       "\n",
       "    .dataframe tbody tr th {\n",
       "        vertical-align: top;\n",
       "    }\n",
       "\n",
       "    .dataframe thead th {\n",
       "        text-align: right;\n",
       "    }\n",
       "</style>\n",
       "<table border=\"1\" class=\"dataframe\">\n",
       "  <thead>\n",
       "    <tr style=\"text-align: right;\">\n",
       "      <th></th>\n",
       "      <th>0</th>\n",
       "    </tr>\n",
       "  </thead>\n",
       "  <tbody>\n",
       "    <tr>\n",
       "      <th>blockHash</th>\n",
       "      <td>0x2c1ca96b35f726a2171d3ebc050e390aca8dd1f83a23...</td>\n",
       "    </tr>\n",
       "    <tr>\n",
       "      <th>blockNumber</th>\n",
       "      <td>0x1283433</td>\n",
       "    </tr>\n",
       "    <tr>\n",
       "      <th>contractAddress</th>\n",
       "      <td>None</td>\n",
       "    </tr>\n",
       "    <tr>\n",
       "      <th>cumulativeGasUsed</th>\n",
       "      <td>0x6f884</td>\n",
       "    </tr>\n",
       "    <tr>\n",
       "      <th>effectiveGasPrice</th>\n",
       "      <td>0x11cd060113</td>\n",
       "    </tr>\n",
       "    <tr>\n",
       "      <th>from</th>\n",
       "      <td>0x36a2ffb33c1b427c46c3d30adac3ca4e8ed36179</td>\n",
       "    </tr>\n",
       "    <tr>\n",
       "      <th>gasUsed</th>\n",
       "      <td>0x2038c</td>\n",
       "    </tr>\n",
       "    <tr>\n",
       "      <th>logs</th>\n",
       "      <td>[{'address': '0xb0699d63aef20df3f1cffa9ca2bb86...</td>\n",
       "    </tr>\n",
       "    <tr>\n",
       "      <th>logsBloom</th>\n",
       "      <td>0x00200000000000000000000080000000000000000000...</td>\n",
       "    </tr>\n",
       "    <tr>\n",
       "      <th>status</th>\n",
       "      <td>0x1</td>\n",
       "    </tr>\n",
       "    <tr>\n",
       "      <th>to</th>\n",
       "      <td>0x7a250d5630b4cf539739df2c5dacb4c659f2488d</td>\n",
       "    </tr>\n",
       "    <tr>\n",
       "      <th>transactionHash</th>\n",
       "      <td>0x1ee8d8e23e4a026ce8afbf2dc79c196c6b1d43d5e9f8...</td>\n",
       "    </tr>\n",
       "    <tr>\n",
       "      <th>transactionIndex</th>\n",
       "      <td>0x2</td>\n",
       "    </tr>\n",
       "    <tr>\n",
       "      <th>type</th>\n",
       "      <td>0x2</td>\n",
       "    </tr>\n",
       "  </tbody>\n",
       "</table>\n",
       "</div>"
      ],
      "text/plain": [
       "                                                                   0\n",
       "blockHash          0x2c1ca96b35f726a2171d3ebc050e390aca8dd1f83a23...\n",
       "blockNumber                                                0x1283433\n",
       "contractAddress                                                 None\n",
       "cumulativeGasUsed                                            0x6f884\n",
       "effectiveGasPrice                                       0x11cd060113\n",
       "from                      0x36a2ffb33c1b427c46c3d30adac3ca4e8ed36179\n",
       "gasUsed                                                      0x2038c\n",
       "logs               [{'address': '0xb0699d63aef20df3f1cffa9ca2bb86...\n",
       "logsBloom          0x00200000000000000000000080000000000000000000...\n",
       "status                                                           0x1\n",
       "to                        0x7a250d5630b4cf539739df2c5dacb4c659f2488d\n",
       "transactionHash    0x1ee8d8e23e4a026ce8afbf2dc79c196c6b1d43d5e9f8...\n",
       "transactionIndex                                                 0x2\n",
       "type                                                             0x2"
      ]
     },
     "execution_count": 31,
     "metadata": {},
     "output_type": "execute_result"
    }
   ],
   "source": [
    "pd.DataFrame.from_dict(response.json()['result'], orient='index')"
   ]
  },
  {
   "cell_type": "code",
   "execution_count": 32,
   "metadata": {},
   "outputs": [],
   "source": [
    "# we see that it was on position 0x2 hexa- decimal which is position 2 (third transaction)"
   ]
  },
  {
   "cell_type": "markdown",
   "metadata": {},
   "source": [
    "# simulate the transaction if it was in the first block position"
   ]
  },
  {
   "cell_type": "markdown",
   "metadata": {},
   "source": [
    "using phalcon blocksec we simulate if it was in position 0 in the block:\n",
    "- block 19412019\n",
    "- swap 807 BRETT for 0.4 ETH (instead of 849 if in position 3)"
   ]
  },
  {
   "cell_type": "markdown",
   "metadata": {},
   "source": [
    "# calculate the difference (in the coin) between position we have vs. position 0"
   ]
  },
  {
   "cell_type": "markdown",
   "metadata": {},
   "source": [
    "We have a difference of 42 BRETT"
   ]
  },
  {
   "cell_type": "markdown",
   "metadata": {},
   "source": [
    "# Calculate the cost in usd and eth of the difference \n",
    "use dune\n",
    "there is no BRETT token in dune - asked felix\n",
    "do the analysis again with the 3 transaction (transaction hash 0xee8fd2c76181afa14ca0da158e0a01bba2d3df8e62c5da122ac1d77912aab66e) because there is the DMT token in dune"
   ]
  },
  {
   "cell_type": "code",
   "execution_count": null,
   "metadata": {},
   "outputs": [],
   "source": []
  }
 ],
 "metadata": {
  "kernelspec": {
   "display_name": "env_data_eng",
   "language": "python",
   "name": "python3"
  },
  "language_info": {
   "codemirror_mode": {
    "name": "ipython",
    "version": 3
   },
   "file_extension": ".py",
   "mimetype": "text/x-python",
   "name": "python",
   "nbconvert_exporter": "python",
   "pygments_lexer": "ipython3",
   "version": "3.11.4"
  }
 },
 "nbformat": 4,
 "nbformat_minor": 2
}
