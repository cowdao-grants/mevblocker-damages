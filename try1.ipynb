{
 "cells": [
  {
   "cell_type": "code",
   "execution_count": 2,
   "metadata": {},
   "outputs": [],
   "source": [
    "import pandas as pd\n",
    "from python_secrets import *\n",
    "import requests\n"
   ]
  },
  {
   "cell_type": "code",
   "execution_count": 2,
   "metadata": {},
   "outputs": [
    {
     "data": {
      "text/html": [
       "<div>\n",
       "<style scoped>\n",
       "    .dataframe tbody tr th:only-of-type {\n",
       "        vertical-align: middle;\n",
       "    }\n",
       "\n",
       "    .dataframe tbody tr th {\n",
       "        vertical-align: top;\n",
       "    }\n",
       "\n",
       "    .dataframe thead th {\n",
       "        text-align: right;\n",
       "    }\n",
       "</style>\n",
       "<table border=\"1\" class=\"dataframe\">\n",
       "  <thead>\n",
       "    <tr style=\"text-align: right;\">\n",
       "      <th></th>\n",
       "      <th>block_number</th>\n",
       "      <th>user_tx</th>\n",
       "      <th>fees</th>\n",
       "    </tr>\n",
       "  </thead>\n",
       "  <tbody>\n",
       "    <tr>\n",
       "      <th>0</th>\n",
       "      <td>19412019</td>\n",
       "      <td>0x1ee8d8e23e4a026ce8afbf2dc79c196c6b1d43d5e9f8...</td>\n",
       "      <td>1.861322e+16</td>\n",
       "    </tr>\n",
       "    <tr>\n",
       "      <th>1</th>\n",
       "      <td>19412030</td>\n",
       "      <td>0x354e8386267ca643793de913739df3f9680895776f3a...</td>\n",
       "      <td>4.694753e+16</td>\n",
       "    </tr>\n",
       "    <tr>\n",
       "      <th>2</th>\n",
       "      <td>19412041</td>\n",
       "      <td>0xee8fd2c76181afa14ca0da158e0a01bba2d3df8e62c5...</td>\n",
       "      <td>6.182506e+16</td>\n",
       "    </tr>\n",
       "    <tr>\n",
       "      <th>3</th>\n",
       "      <td>19412043</td>\n",
       "      <td>0x5f3954cc3cb4fbb88803a910d852aab6566af2866acf...</td>\n",
       "      <td>1.283444e+17</td>\n",
       "    </tr>\n",
       "    <tr>\n",
       "      <th>4</th>\n",
       "      <td>19412043</td>\n",
       "      <td>0xbd9c86df3327871d630a0921c65cb7bec9b0c199d80c...</td>\n",
       "      <td>3.640861e+16</td>\n",
       "    </tr>\n",
       "  </tbody>\n",
       "</table>\n",
       "</div>"
      ],
      "text/plain": [
       "  block_number                                            user_tx  \\\n",
       "0     19412019  0x1ee8d8e23e4a026ce8afbf2dc79c196c6b1d43d5e9f8...   \n",
       "1     19412030  0x354e8386267ca643793de913739df3f9680895776f3a...   \n",
       "2     19412041  0xee8fd2c76181afa14ca0da158e0a01bba2d3df8e62c5...   \n",
       "3     19412043  0x5f3954cc3cb4fbb88803a910d852aab6566af2866acf...   \n",
       "4     19412043  0xbd9c86df3327871d630a0921c65cb7bec9b0c199d80c...   \n",
       "\n",
       "           fees  \n",
       "0  1.861322e+16  \n",
       "1  4.694753e+16  \n",
       "2  6.182506e+16  \n",
       "3  1.283444e+17  \n",
       "4  3.640861e+16  "
      ]
     },
     "execution_count": 2,
     "metadata": {},
     "output_type": "execute_result"
    }
   ],
   "source": [
    "df = pd.read_csv('incident2.csv')\n",
    "df.head()"
   ]
  },
  {
   "cell_type": "markdown",
   "metadata": {},
   "source": [
    "# use this api to find the position in block from transaction hash\n",
    "# https://docs.infura.io/api/networks/ethereum/json-rpc-methods/eth_gettransactionreceipt\n"
   ]
  },
  {
   "cell_type": "markdown",
   "metadata": {},
   "source": [
    "example: for the first transaction from the file we have, it has the transaction hash: 0x1ee8d8e23e4a026ce8afbf2dc79c196c6b1d43d5e9f8ebb80b968a367ed5e581"
   ]
  },
  {
   "cell_type": "markdown",
   "metadata": {},
   "source": [
    "By looking at etherscan: \n",
    "- the user swapped  849 BRETT for 0.4 ETH on Uniswap v2\n",
    "- (from block 19412019)\n",
    "- a contract address: 0x7a250d5630B4cF539739dF2C5dAcb4c659F2488D\n",
    "\n",
    "By looking at zeromev:\n",
    "- the transaction was on position 2 (3d transaction)"
   ]
  },
  {
   "cell_type": "code",
   "execution_count": 26,
   "metadata": {},
   "outputs": [
    {
     "name": "stdout",
     "output_type": "stream",
     "text": [
      "{\"jsonrpc\":\"2.0\",\"id\":1,\"result\":{\"blockHash\":\"0x2c1ca96b35f726a2171d3ebc050e390aca8dd1f83a2364ffa8cab9910143ee01\",\"blockNumber\":\"0x1283433\",\"contractAddress\":null,\"cumulativeGasUsed\":\"0x6f884\",\"effectiveGasPrice\":\"0x11cd060113\",\"from\":\"0x36a2ffb33c1b427c46c3d30adac3ca4e8ed36179\",\"gasUsed\":\"0x2038c\",\"logs\":[{\"address\":\"0xb0699d63aef20df3f1cffa9ca2bb8670416271d2\",\"blockHash\":\"0x2c1ca96b35f726a2171d3ebc050e390aca8dd1f83a2364ffa8cab9910143ee01\",\"blockNumber\":\"0x1283433\",\"data\":\"0x00000000000000000000000000000000000000000000002e092d563911a14d34\",\"logIndex\":\"0xd\",\"removed\":false,\"topics\":[\"0xddf252ad1be2c89b69c2b068fc378daa952ba7f163c4a11628f55a4df523b3ef\",\"0x00000000000000000000000036a2ffb33c1b427c46c3d30adac3ca4e8ed36179\",\"0x000000000000000000000000e1ebdf64f7f3a31723e767a561345f958233bb7d\"],\"transactionHash\":\"0x1ee8d8e23e4a026ce8afbf2dc79c196c6b1d43d5e9f8ebb80b968a367ed5e581\",\"transactionIndex\":\"0x2\"},{\"address\":\"0xb0699d63aef20df3f1cffa9ca2bb8670416271d2\",\"blockHash\":\"0x2c1ca96b35f726a2171d3ebc050e390aca8dd1f83a2364ffa8cab9910143ee01\",\"blockNumber\":\"0x1283433\",\"data\":\"0xffffffffffffffffffffffffffffffffffffffffffffff9322f5f617234ed849\",\"logIndex\":\"0xe\",\"removed\":false,\"topics\":[\"0x8c5be1e5ebec7d5bd14f71427d1e84f3dd0314c0f7b2291e5b200ac8c7c3b925\",\"0x00000000000000000000000036a2ffb33c1b427c46c3d30adac3ca4e8ed36179\",\"0x0000000000000000000000007a250d5630b4cf539739df2c5dacb4c659f2488d\"],\"transactionHash\":\"0x1ee8d8e23e4a026ce8afbf2dc79c196c6b1d43d5e9f8ebb80b968a367ed5e581\",\"transactionIndex\":\"0x2\"},{\"address\":\"0xc02aaa39b223fe8d0a0e5c4f27ead9083c756cc2\",\"blockHash\":\"0x2c1ca96b35f726a2171d3ebc050e390aca8dd1f83a2364ffa8cab9910143ee01\",\"blockNumber\":\"0x1283433\",\"data\":\"0x000000000000000000000000000000000000000000000000058d15e176280000\",\"logIndex\":\"0xf\",\"removed\":false,\"topics\":[\"0xddf252ad1be2c89b69c2b068fc378daa952ba7f163c4a11628f55a4df523b3ef\",\"0x000000000000000000000000e1ebdf64f7f3a31723e767a561345f958233bb7d\",\"0x0000000000000000000000007a250d5630b4cf539739df2c5dacb4c659f2488d\"],\"transactionHash\":\"0x1ee8d8e23e4a026ce8afbf2dc79c196c6b1d43d5e9f8ebb80b968a367ed5e581\",\"transactionIndex\":\"0x2\"},{\"address\":\"0xe1ebdf64f7f3a31723e767a561345f958233bb7d\",\"blockHash\":\"0x2c1ca96b35f726a2171d3ebc050e390aca8dd1f83a2364ffa8cab9910143ee01\",\"blockNumber\":\"0x1283433\",\"data\":\"0x0000000000000000000000000000000000000000000007e6c1be2936976cbb89000000000000000000000000000000000000000000000000ef1337ebdd36a4d6\",\"logIndex\":\"0x10\",\"removed\":false,\"topics\":[\"0x1c411e9a96e071241c2f21f7726b17ae89e3cab4c78be50e062b03a9fffbbad1\"],\"transactionHash\":\"0x1ee8d8e23e4a026ce8afbf2dc79c196c6b1d43d5e9f8ebb80b968a367ed5e581\",\"transactionIndex\":\"0x2\"},{\"address\":\"0xe1ebdf64f7f3a31723e767a561345f958233bb7d\",\"blockHash\":\"0x2c1ca96b35f726a2171d3ebc050e390aca8dd1f83a2364ffa8cab9910143ee01\",\"blockNumber\":\"0x1283433\",\"data\":\"0x00000000000000000000000000000000000000000000002e092d563911a14d3400000000000000000000000000000000000000000000000000000000000000000000000000000000000000000000000000000000000000000000000000000000000000000000000000000000000000000000000000000000058d15e176280000\",\"logIndex\":\"0x11\",\"removed\":false,\"topics\":[\"0xd78ad95fa46c994b6551d0da85fc275fe613ce37657fb8d5e3d130840159d822\",\"0x0000000000000000000000007a250d5630b4cf539739df2c5dacb4c659f2488d\",\"0x0000000000000000000000007a250d5630b4cf539739df2c5dacb4c659f2488d\"],\"transactionHash\":\"0x1ee8d8e23e4a026ce8afbf2dc79c196c6b1d43d5e9f8ebb80b968a367ed5e581\",\"transactionIndex\":\"0x2\"},{\"address\":\"0xc02aaa39b223fe8d0a0e5c4f27ead9083c756cc2\",\"blockHash\":\"0x2c1ca96b35f726a2171d3ebc050e390aca8dd1f83a2364ffa8cab9910143ee01\",\"blockNumber\":\"0x1283433\",\"data\":\"0x000000000000000000000000000000000000000000000000058d15e176280000\",\"logIndex\":\"0x12\",\"removed\":false,\"topics\":[\"0x7fcf532c15f0a6db0bd6d0e038bea71d30d808c7d98cb3bf7268a95bf5081b65\",\"0x0000000000000000000000007a250d5630b4cf539739df2c5dacb4c659f2488d\"],\"transactionHash\":\"0x1ee8d8e23e4a026ce8afbf2dc79c196c6b1d43d5e9f8ebb80b968a367ed5e581\",\"transactionIndex\":\"0x2\"}],\"logsBloom\":\"0x002000000000000000000000800000000000000000000000001100000000020000000000001000000000000000000000020000000800000000000000002008000000a0400000000000000008000000200000000000400000000080000000000000000000000000000000000000000000000000000000040000000010000000000000400000000000004000000000000000000000000500080000004000000000020000000000000000000000000008000000000000000000000000000000000000000002000000000000000000000000000000000000001000000002000020000010200000000000000000000000000000000000000000000000000000000000\",\"status\":\"0x1\",\"to\":\"0x7a250d5630b4cf539739df2c5dacb4c659f2488d\",\"transactionHash\":\"0x1ee8d8e23e4a026ce8afbf2dc79c196c6b1d43d5e9f8ebb80b968a367ed5e581\",\"transactionIndex\":\"0x2\",\"type\":\"0x2\"}}\n"
     ]
    }
   ],
   "source": [
    "# checking for that one transaction in infura\n",
    "\n",
    "import requests\n",
    "import json\n",
    "import python_secrets\n",
    "\n",
    "url = f\"https://mainnet.infura.io/v3/{infura_api_key}\"\n",
    "\n",
    "payload = json.dumps({\n",
    "  \"jsonrpc\": \"2.0\",\n",
    "  \"method\": \"eth_getTransactionReceipt\",\n",
    "  \"params\": [\n",
    "    \"0x1ee8d8e23e4a026ce8afbf2dc79c196c6b1d43d5e9f8ebb80b968a367ed5e581\"\n",
    "  ],\n",
    "  \"id\": 1\n",
    "})\n",
    "headers = {\n",
    "  'Content-Type': 'application/json'\n",
    "}\n",
    "\n",
    "response = requests.request(\"POST\", url, headers=headers, data=payload)\n",
    "\n",
    "print(response.text)"
   ]
  },
  {
   "cell_type": "code",
   "execution_count": 13,
   "metadata": {},
   "outputs": [
    {
     "data": {
      "text/html": [
       "<div>\n",
       "<style scoped>\n",
       "    .dataframe tbody tr th:only-of-type {\n",
       "        vertical-align: middle;\n",
       "    }\n",
       "\n",
       "    .dataframe tbody tr th {\n",
       "        vertical-align: top;\n",
       "    }\n",
       "\n",
       "    .dataframe thead th {\n",
       "        text-align: right;\n",
       "    }\n",
       "</style>\n",
       "<table border=\"1\" class=\"dataframe\">\n",
       "  <thead>\n",
       "    <tr style=\"text-align: right;\">\n",
       "      <th></th>\n",
       "      <th>0</th>\n",
       "    </tr>\n",
       "  </thead>\n",
       "  <tbody>\n",
       "    <tr>\n",
       "      <th>blockHash</th>\n",
       "      <td>0x2c1ca96b35f726a2171d3ebc050e390aca8dd1f83a23...</td>\n",
       "    </tr>\n",
       "    <tr>\n",
       "      <th>blockNumber</th>\n",
       "      <td>0x1283433</td>\n",
       "    </tr>\n",
       "    <tr>\n",
       "      <th>contractAddress</th>\n",
       "      <td>None</td>\n",
       "    </tr>\n",
       "    <tr>\n",
       "      <th>cumulativeGasUsed</th>\n",
       "      <td>0x6f884</td>\n",
       "    </tr>\n",
       "    <tr>\n",
       "      <th>effectiveGasPrice</th>\n",
       "      <td>0x11cd060113</td>\n",
       "    </tr>\n",
       "    <tr>\n",
       "      <th>from</th>\n",
       "      <td>0x36a2ffb33c1b427c46c3d30adac3ca4e8ed36179</td>\n",
       "    </tr>\n",
       "    <tr>\n",
       "      <th>gasUsed</th>\n",
       "      <td>0x2038c</td>\n",
       "    </tr>\n",
       "    <tr>\n",
       "      <th>logs</th>\n",
       "      <td>[{'address': '0xb0699d63aef20df3f1cffa9ca2bb86...</td>\n",
       "    </tr>\n",
       "    <tr>\n",
       "      <th>logsBloom</th>\n",
       "      <td>0x00200000000000000000000080000000000000000000...</td>\n",
       "    </tr>\n",
       "    <tr>\n",
       "      <th>status</th>\n",
       "      <td>0x1</td>\n",
       "    </tr>\n",
       "    <tr>\n",
       "      <th>to</th>\n",
       "      <td>0x7a250d5630b4cf539739df2c5dacb4c659f2488d</td>\n",
       "    </tr>\n",
       "    <tr>\n",
       "      <th>transactionHash</th>\n",
       "      <td>0x1ee8d8e23e4a026ce8afbf2dc79c196c6b1d43d5e9f8...</td>\n",
       "    </tr>\n",
       "    <tr>\n",
       "      <th>transactionIndex</th>\n",
       "      <td>0x2</td>\n",
       "    </tr>\n",
       "    <tr>\n",
       "      <th>type</th>\n",
       "      <td>0x2</td>\n",
       "    </tr>\n",
       "  </tbody>\n",
       "</table>\n",
       "</div>"
      ],
      "text/plain": [
       "                                                                   0\n",
       "blockHash          0x2c1ca96b35f726a2171d3ebc050e390aca8dd1f83a23...\n",
       "blockNumber                                                0x1283433\n",
       "contractAddress                                                 None\n",
       "cumulativeGasUsed                                            0x6f884\n",
       "effectiveGasPrice                                       0x11cd060113\n",
       "from                      0x36a2ffb33c1b427c46c3d30adac3ca4e8ed36179\n",
       "gasUsed                                                      0x2038c\n",
       "logs               [{'address': '0xb0699d63aef20df3f1cffa9ca2bb86...\n",
       "logsBloom          0x00200000000000000000000080000000000000000000...\n",
       "status                                                           0x1\n",
       "to                        0x7a250d5630b4cf539739df2c5dacb4c659f2488d\n",
       "transactionHash    0x1ee8d8e23e4a026ce8afbf2dc79c196c6b1d43d5e9f8...\n",
       "transactionIndex                                                 0x2\n",
       "type                                                             0x2"
      ]
     },
     "execution_count": 13,
     "metadata": {},
     "output_type": "execute_result"
    }
   ],
   "source": [
    "pd.DataFrame.from_dict(response.json()['result'], orient='index')\n"
   ]
  },
  {
   "cell_type": "code",
   "execution_count": 15,
   "metadata": {},
   "outputs": [
    {
     "data": {
      "text/plain": [
       "'0x2c1ca96b35f726a2171d3ebc050e390aca8dd1f83a2364ffa8cab9910143ee01'"
      ]
     },
     "execution_count": 15,
     "metadata": {},
     "output_type": "execute_result"
    }
   ],
   "source": [
    "response.json()['result']['blockHash']"
   ]
  },
  {
   "cell_type": "code",
   "execution_count": 5,
   "metadata": {},
   "outputs": [],
   "source": [
    "# we see that it was on position 0x2 hexa- decimal which is position 2 (third transaction)"
   ]
  },
  {
   "cell_type": "markdown",
   "metadata": {},
   "source": [
    "# Get the unix timestamp of the transaction"
   ]
  },
  {
   "cell_type": "markdown",
   "metadata": {},
   "source": [
    "Our transaction is  at time stamp Mar-11-2024 01:00:59 PM +UTC\n"
   ]
  },
  {
   "cell_type": "code",
   "execution_count": 21,
   "metadata": {},
   "outputs": [
    {
     "name": "stdout",
     "output_type": "stream",
     "text": [
      "{\"status\":\"1\",\"message\":\"OK\",\"result\":[{\"blockNumber\":\"19412019\",\"timeStamp\":\"1710162059\",\"from\":\"0xc02aaa39b223fe8d0a0e5c4f27ead9083c756cc2\",\"to\":\"0x7a250d5630b4cf539739df2c5dacb4c659f2488d\",\"value\":\"400000000000000000\",\"contractAddress\":\"\",\"input\":\"\",\"type\":\"call\",\"gas\":\"2300\",\"gasUsed\":\"83\",\"isError\":\"0\",\"errCode\":\"\"},{\"blockNumber\":\"19412019\",\"timeStamp\":\"1710162059\",\"from\":\"0x7a250d5630b4cf539739df2c5dacb4c659f2488d\",\"to\":\"0x36a2ffb33c1b427c46c3d30adac3ca4e8ed36179\",\"value\":\"400000000000000000\",\"contractAddress\":\"\",\"input\":\"\",\"type\":\"call\",\"gas\":\"45427\",\"gasUsed\":\"0\",\"isError\":\"0\",\"errCode\":\"\"}]}\n"
     ]
    }
   ],
   "source": [
    "url = \"https://api.etherscan.io/api?module=account&action=txlistinternal&txhash=0x1ee8d8e23e4a026ce8afbf2dc79c196c6b1d43d5e9f8ebb80b968a367ed5e581&apikey=A3UNV5BPTMEXUUSYES5VY12KE2FBQ42HQ6\"\n",
    "\n",
    "response = requests.request(\"POST\", url)\n",
    "print(response.text)"
   ]
  },
  {
   "cell_type": "markdown",
   "metadata": {},
   "source": [
    "idea instead of getting the timstamp of the transaction, get the timestamp of the block, so to avoid doing repetitive API calls in case we alreay have the block in our dataset. Use this endoint \n"
   ]
  },
  {
   "cell_type": "code",
   "execution_count": 27,
   "metadata": {},
   "outputs": [
    {
     "ename": "NameError",
     "evalue": "name 'eth_scan_api_key' is not defined",
     "output_type": "error",
     "traceback": [
      "\u001b[0;31m---------------------------------------------------------------------------\u001b[0m",
      "\u001b[0;31mNameError\u001b[0m                                 Traceback (most recent call last)",
      "Cell \u001b[0;32mIn[27], line 1\u001b[0m\n\u001b[0;32m----> 1\u001b[0m url \u001b[38;5;241m=\u001b[39m \u001b[38;5;124mf\u001b[39m\u001b[38;5;124m\"\u001b[39m\u001b[38;5;124mhttps://api.etherscan.io/api?module=block&action=getblockreward&blockno=19412019&apikey=\u001b[39m\u001b[38;5;132;01m{\u001b[39;00m\u001b[43meth_scan_api_key\u001b[49m\u001b[38;5;132;01m}\u001b[39;00m\u001b[38;5;124m\"\u001b[39m\n\u001b[1;32m      3\u001b[0m response2 \u001b[38;5;241m=\u001b[39m requests\u001b[38;5;241m.\u001b[39mrequest(\u001b[38;5;124m\"\u001b[39m\u001b[38;5;124mPOST\u001b[39m\u001b[38;5;124m\"\u001b[39m, url)\n\u001b[1;32m      4\u001b[0m \u001b[38;5;28mprint\u001b[39m(response2\u001b[38;5;241m.\u001b[39mtext)   \n",
      "\u001b[0;31mNameError\u001b[0m: name 'eth_scan_api_key' is not defined"
     ]
    }
   ],
   "source": [
    "url = f\"https://api.etherscan.io/api?module=block&action=getblockreward&blockno=19412019&apikey={eth_scan_api_key}\"\n",
    "\n",
    "response2 = requests.request(\"POST\", url)\n",
    "print(response2.text)   "
   ]
  },
  {
   "cell_type": "markdown",
   "metadata": {},
   "source": [
    "# simulate the transaction if it was in the first block position"
   ]
  },
  {
   "cell_type": "markdown",
   "metadata": {},
   "source": [
    "using phalcon blocksec we simulate if it was in position 0 in the block:\n",
    "- block 19412019\n",
    "- swap 807 BRETT for 0.4 ETH (instead of 849 if in position 3)"
   ]
  },
  {
   "cell_type": "code",
   "execution_count": 192,
   "metadata": {},
   "outputs": [],
   "source": [
    "headers = {\n",
    "    'X-Access-Key': f'{tenderly_access_token}',\n",
    "    'content-type': 'application/json',\n",
    "}\n",
    "\n",
    "json_data = {\n",
    "    'network_id': '1',\n",
    "    'from': '0x36A2fFB33C1B427C46C3D30Adac3cA4e8ED36179',\n",
    "    'to': '0x7a250d5630B4cF539739dF2C5dAcb4c659F2488D',\n",
    "    'input': '0x4a25d94a000000000000000000000000000000000000000000000000058d15e17628000000000000000000000000000000000000000000000000002f461b77a211c3b3ee00000000000000000000000000000000000000000000000000000000000000a000000000000000000000000036a2ffb33c1b427c46c3d30adac3ca4e8ed361790000000000000000000000000000000000000000000000000000000065ef077b0000000000000000000000000000000000000000000000000000000000000002000000000000000000000000b0699d63aef20df3f1cffa9ca2bb8670416271d2000000000000000000000000c02aaa39b223fe8d0a0e5c4f27ead9083c756cc2',\n",
    "\n",
    "    'block_number': 19412019,\n",
    "    'transaction_index': 0,\n",
    "    #'value': 0,\n",
    "    'simulation_type': 'quick'\n",
    "\n",
    "}\n",
    "\n",
    "response = requests.post(\n",
    "    'https://api.tenderly.co/api/v1/account/aurelie/project/cowswap/simulate',\n",
    "    headers=headers,\n",
    "    json=json_data,\n",
    ")"
   ]
  },
  {
   "cell_type": "code",
   "execution_count": 193,
   "metadata": {},
   "outputs": [
    {
     "name": "stdout",
     "output_type": "stream",
     "text": [
      "{'transaction': {'hash': '0xd9488fe37e24c1b3f14937e3029036e6aa480d1e1621d81a96ef0779c492f64b', 'block_hash': '', 'block_number': 19412019, 'from': '0x36a2ffb33c1b427c46c3d30adac3ca4e8ed36179', 'gas': 9223372036854775807, 'gas_price': 0, 'gas_fee_cap': 0, 'gas_tip_cap': 0, 'cumulative_gas_used': 0, 'gas_used': 142396, 'effective_gas_price': 0, 'input': '0x4a25d94a000000000000000000000000000000000000000000000000058d15e17628000000000000000000000000000000000000000000000000002f461b77a211c3b3ee00000000000000000000000000000000000000000000000000000000000000a000000000000000000000000036a2ffb33c1b427c46c3d30adac3ca4e8ed361790000000000000000000000000000000000000000000000000000000065ef077b0000000000000000000000000000000000000000000000000000000000000002000000000000000000000000b0699d63aef20df3f1cffa9ca2bb8670416271d2000000000000000000000000c02aaa39b223fe8d0a0e5c4f27ead9083c756cc2', 'nonce': 1799, 'to': '0x7a250d5630b4cf539739df2c5dacb4c659f2488d', 'index': 0, 'value': '0x', 'access_list': None, 'status': True, 'addresses': None, 'contract_ids': None, 'network_id': '1', 'timestamp': '2024-03-11T13:00:59Z', 'function_selector': '', 'l1_block_number': 0, 'l1_timestamp': 0, 'deposit_tx': False, 'system_tx': False, 'sig': {'v': '0x0', 'r': '0x0', 's': '0x0'}, 'transaction_info': {'contract_id': 'eth:1:0x7a250d5630b4cf539739df2c5dacb4c659f2488d', 'block_number': 19412019, 'transaction_id': '0xd9488fe37e24c1b3f14937e3029036e6aa480d1e1621d81a96ef0779c492f64b', 'contract_address': '0x7a250d5630b4cf539739df2c5dacb4c659f2488d', 'method': None, 'parameters': None, 'intrinsic_gas': 23060, 'refund_gas': 22700, 'call_trace': {'hash': '0xd9488fe37e24c1b3f14937e3029036e6aa480d1e1621d81a96ef0779c492f64b', 'contract_name': '', 'function_pc': 0, 'function_op': 'CALL', 'absolute_position': 0, 'caller_pc': 0, 'caller_op': 'CALL', 'call_type': 'CALL', 'address': '0x36a2ffb33c1b427c46c3d30adac3ca4e8ed36179', 'from': '0x36a2ffb33c1b427c46c3d30adac3ca4e8ed36179', 'from_balance': '3645552260913875932', 'to': '0x7a250d5630b4cf539739df2c5dacb4c659f2488d', 'to_balance': '25000000000000000', 'value': '0', 'block_timestamp': '0001-01-01T00:00:00Z', 'gas': 9223372036854752747, 'gas_used': 142036, 'intrinsic_gas': 23060, 'refund_gas': 22700, 'storage_address': '0x36a2ffb33c1b427c46c3d30adac3ca4e8ed36179', 'input': '0x4a25d94a000000000000000000000000000000000000000000000000058d15e17628000000000000000000000000000000000000000000000000002f461b77a211c3b3ee00000000000000000000000000000000000000000000000000000000000000a000000000000000000000000036a2ffb33c1b427c46c3d30adac3ca4e8ed361790000000000000000000000000000000000000000000000000000000065ef077b0000000000000000000000000000000000000000000000000000000000000002000000000000000000000000b0699d63aef20df3f1cffa9ca2bb8670416271d2000000000000000000000000c02aaa39b223fe8d0a0e5c4f27ead9083c756cc2', 'balance_diff': [{'address': '0x36A2fFB33C1B427C46C3D30Adac3cA4e8ED36179', 'original': '3645552260913875932', 'dirty': '4045552260913875932', 'is_miner': False}, {'address': '0xC02aaA39b223FE8D0A0e5C4F27eAD9083C756Cc2', 'original': '3036058902932793225040012', 'dirty': '3036058502932793225040012', 'is_miner': False}], 'nonce_diff': [{'address': '0x36A2fFB33C1B427C46C3D30Adac3cA4e8ED36179', 'original': '1799', 'dirty': '1800'}], 'state_diff': [{'address': '0xb0699d63aef20df3f1cffa9ca2bb8670416271d2', 'soltype': None, 'original': None, 'dirty': None, 'raw': [{'address': '0xb0699d63aef20df3f1cffa9ca2bb8670416271d2', 'key': '0x7f960f58c9fb0b00d2cd1656b80b1f457ac170ce71656a6bee55b2264adee3a7', 'original': '0x000000000000000000000000000000000000000000000787ec1e498a74acfa8d', 'dirty': '0x0000000000000000000000000000000000000000000007b3b1c5f1337ba48e31'}]}, {'address': '0xb0699d63aef20df3f1cffa9ca2bb8670416271d2', 'soltype': None, 'original': None, 'dirty': None, 'raw': [{'address': '0xb0699d63aef20df3f1cffa9ca2bb8670416271d2', 'key': '0xa29da9b5ee05f70de61357e9565a31007dd5c952a649606eaae73c85825d5c75', 'original': '0x000000000000000000000000000000000000000000000055e6564f84cac5a74b', 'dirty': '0x00000000000000000000000000000000000000000000002a20aea7dbc3ce13a7'}]}, {'address': '0xb0699d63aef20df3f1cffa9ca2bb8670416271d2', 'soltype': None, 'original': None, 'dirty': None, 'raw': [{'address': '0xb0699d63aef20df3f1cffa9ca2bb8670416271d2', 'key': '0xf3531f5f72028242795dc772c2fd7fb3ba054d0319ca470709dafc0ec7b7f8e9', 'original': '0xffffffffffffffffffffffffffffffffffffffffffffffc12c234c5034f0257d', 'dirty': '0xffffffffffffffffffffffffffffffffffffffffffffff95667ba4a72df891d9'}]}, {'address': '0xc02aaa39b223fe8d0a0e5c4f27ead9083c756cc2', 'soltype': None, 'original': None, 'dirty': None, 'raw': [{'address': '0xc02aaa39b223fe8d0a0e5c4f27ead9083c756cc2', 'key': '0x7be9da7ff8a0f39c9dfd3ede1a9bccfcb6f6bc4c830639f9b621772917b1e9df', 'original': '0x000000000000000000000000000000000000000000000000fac8815dcb4aa4d6', 'dirty': '0x000000000000000000000000000000000000000000000000f53b6b7c5522a4d6'}]}, {'address': '0xe1ebdf64f7f3a31723e767a561345f958233bb7d', 'soltype': None, 'original': None, 'dirty': None, 'raw': [{'address': '0xe1ebdf64f7f3a31723e767a561345f958233bb7d', 'key': '0x0000000000000000000000000000000000000000000000000000000000000008', 'original': '0x65ef0043000000000000fac8815dcb4aa4d6000000000787ec1e498a74acfa8d', 'dirty': '0x65ef008b000000000000f53b6b7c5522a4d60000000007b3b1c5f1337ba48e31'}]}, {'address': '0xe1ebdf64f7f3a31723e767a561345f958233bb7d', 'soltype': None, 'original': None, 'dirty': None, 'raw': [{'address': '0xe1ebdf64f7f3a31723e767a561345f958233bb7d', 'key': '0x0000000000000000000000000000000000000000000000000000000000000009', 'original': '0x00000000000000000000000000000000007175a42ca8cf229828f6d5d33d855c', 'dirty': '0x0000000000000000000000000000000000717f01ccdee1b4be46d4812a066afc'}]}, {'address': '0xe1ebdf64f7f3a31723e767a561345f958233bb7d', 'soltype': None, 'original': None, 'dirty': None, 'raw': [{'address': '0xe1ebdf64f7f3a31723e767a561345f958233bb7d', 'key': '0x000000000000000000000000000000000000000000000000000000000000000a', 'original': '0x000000000000000000000000000008ec6bcda8f96a947118e2b79ee7865fdfbc', 'dirty': '0x000000000000000000000000000008ee954f97df95947836573481a6397eab8c'}]}], 'logs': [{'name': '', 'anonymous': False, 'inputs': None, 'raw': {'address': '0xb0699d63aef20df3f1cffa9ca2bb8670416271d2', 'topics': ['0xddf252ad1be2c89b69c2b068fc378daa952ba7f163c4a11628f55a4df523b3ef', '0x00000000000000000000000036a2ffb33c1b427c46c3d30adac3ca4e8ed36179', '0x000000000000000000000000e1ebdf64f7f3a31723e767a561345f958233bb7d'], 'data': '0x00000000000000000000000000000000000000000000002bc5a7a7a906f793a4'}, 'trace_index': None}, {'name': '', 'anonymous': False, 'inputs': None, 'raw': {'address': '0xb0699d63aef20df3f1cffa9ca2bb8670416271d2', 'topics': ['0x8c5be1e5ebec7d5bd14f71427d1e84f3dd0314c0f7b2291e5b200ac8c7c3b925', '0x00000000000000000000000036a2ffb33c1b427c46c3d30adac3ca4e8ed36179', '0x0000000000000000000000007a250d5630b4cf539739df2c5dacb4c659f2488d'], 'data': '0xffffffffffffffffffffffffffffffffffffffffffffff95667ba4a72df891d9'}, 'trace_index': None}, {'name': '', 'anonymous': False, 'inputs': None, 'raw': {'address': '0xc02aaa39b223fe8d0a0e5c4f27ead9083c756cc2', 'topics': ['0xddf252ad1be2c89b69c2b068fc378daa952ba7f163c4a11628f55a4df523b3ef', '0x000000000000000000000000e1ebdf64f7f3a31723e767a561345f958233bb7d', '0x0000000000000000000000007a250d5630b4cf539739df2c5dacb4c659f2488d'], 'data': '0x000000000000000000000000000000000000000000000000058d15e176280000'}, 'trace_index': None}, {'name': '', 'anonymous': False, 'inputs': None, 'raw': {'address': '0xe1ebdf64f7f3a31723e767a561345f958233bb7d', 'topics': ['0x1c411e9a96e071241c2f21f7726b17ae89e3cab4c78be50e062b03a9fffbbad1'], 'data': '0x0000000000000000000000000000000000000000000007b3b1c5f1337ba48e31000000000000000000000000000000000000000000000000f53b6b7c5522a4d6'}, 'trace_index': None}, {'name': '', 'anonymous': False, 'inputs': None, 'raw': {'address': '0xe1ebdf64f7f3a31723e767a561345f958233bb7d', 'topics': ['0xd78ad95fa46c994b6551d0da85fc275fe613ce37657fb8d5e3d130840159d822', '0x0000000000000000000000007a250d5630b4cf539739df2c5dacb4c659f2488d', '0x0000000000000000000000007a250d5630b4cf539739df2c5dacb4c659f2488d'], 'data': '0x00000000000000000000000000000000000000000000002bc5a7a7a906f793a400000000000000000000000000000000000000000000000000000000000000000000000000000000000000000000000000000000000000000000000000000000000000000000000000000000000000000000000000000000058d15e176280000'}, 'trace_index': None}, {'name': '', 'anonymous': False, 'inputs': None, 'raw': {'address': '0xc02aaa39b223fe8d0a0e5c4f27ead9083c756cc2', 'topics': ['0x7fcf532c15f0a6db0bd6d0e038bea71d30d808c7d98cb3bf7268a95bf5081b65', '0x0000000000000000000000007a250d5630b4cf539739df2c5dacb4c659f2488d'], 'data': '0x000000000000000000000000000000000000000000000000058d15e176280000'}, 'trace_index': None}], 'output': '0x0000000000000000000000000000000000000000000000000000000000000020000000000000000000000000000000000000000000000000000000000000000200000000000000000000000000000000000000000000002bc5a7a7a906f793a4000000000000000000000000000000000000000000000000058d15e176280000', 'decoded_output': None, 'network_id': '1', 'calls': [{'hash': '', 'function_pc': 0, 'function_op': 'STOP', 'absolute_position': 719, 'caller_pc': 21331, 'caller_op': 'STATICCALL', 'call_type': 'STATICCALL', 'address': '0x7a250d5630b4cf539739df2c5dacb4c659f2488d', 'from': '0x7a250d5630b4cf539739df2c5dacb4c659f2488d', 'from_balance': '25000000000000000', 'to': '0xe1ebdf64f7f3a31723e767a561345f958233bb7d', 'to_balance': '0', 'value': None, 'block_timestamp': '0001-01-01T00:00:00Z', 'gas': 9079256848778892500, 'gas_used': 2504, 'refund_gas': 144115188075855436, 'storage_address': '0x7a250d5630b4cf539739df2c5dacb4c659f2488d', 'input': '0x0902f1ac', 'output': '0x000000000000000000000000000000000000000000000787ec1e498a74acfa8d000000000000000000000000000000000000000000000000fac8815dcb4aa4d60000000000000000000000000000000000000000000000000000000065ef0043', 'decoded_output': None, 'network_id': '', 'calls': None}, {'hash': '', 'function_pc': 0, 'function_op': 'STOP', 'absolute_position': 2802, 'caller_pc': 17090, 'caller_op': 'CALL', 'call_type': 'CALL', 'address': '0x7a250d5630b4cf539739df2c5dacb4c659f2488d', 'from': '0x7a250d5630b4cf539739df2c5dacb4c659f2488d', 'from_balance': '25000000000000000', 'to': '0xb0699d63aef20df3f1cffa9ca2bb8670416271d2', 'to_balance': '36500995975680790', 'value': '0', 'block_timestamp': '0001-01-01T00:00:00Z', 'gas': 9079256848778884765, 'gas_used': 44797, 'refund_gas': 144115188075855313, 'storage_address': '0x7a250d5630b4cf539739df2c5dacb4c659f2488d', 'input': '0x23b872dd00000000000000000000000036a2ffb33c1b427c46c3d30adac3ca4e8ed36179000000000000000000000000e1ebdf64f7f3a31723e767a561345f958233bb7d00000000000000000000000000000000000000000000002bc5a7a7a906f793a4', 'output': '0x0000000000000000000000000000000000000000000000000000000000000001', 'decoded_output': None, 'network_id': '', 'calls': None}, {'hash': '', 'function_pc': 0, 'function_op': 'STOP', 'absolute_position': 5301, 'caller_pc': 17882, 'caller_op': 'CALL', 'call_type': 'CALL', 'address': '0x7a250d5630b4cf539739df2c5dacb4c659f2488d', 'from': '0x7a250d5630b4cf539739df2c5dacb4c659f2488d', 'from_balance': '25000000000000000', 'to': '0xe1ebdf64f7f3a31723e767a561345f958233bb7d', 'to_balance': '0', 'value': '0', 'block_timestamp': '0001-01-01T00:00:00Z', 'gas': 9079256848778838475, 'gas_used': 64980, 'refund_gas': 144115188075854578, 'storage_address': '0x7a250d5630b4cf539739df2c5dacb4c659f2488d', 'input': '0x022c0d9f0000000000000000000000000000000000000000000000000000000000000000000000000000000000000000000000000000000000000000058d15e1762800000000000000000000000000007a250d5630b4cf539739df2c5dacb4c659f2488d00000000000000000000000000000000000000000000000000000000000000800000000000000000000000000000000000000000000000000000000000000000', 'output': '0x', 'decoded_output': None, 'network_id': '', 'calls': [{'hash': '', 'function_pc': 0, 'function_op': 'STOP', 'absolute_position': 4118, 'caller_pc': 8468, 'caller_op': 'CALL', 'call_type': 'CALL', 'address': '0xe1ebdf64f7f3a31723e767a561345f958233bb7d', 'from': '0xe1ebdf64f7f3a31723e767a561345f958233bb7d', 'from_balance': '0', 'to': '0xc02aaa39b223fe8d0a0e5c4f27ead9083c756cc2', 'to_balance': '3036058902932793225040012', 'value': '0', 'block_timestamp': '0001-01-01T00:00:00Z', 'gas': 8937393460516655928, 'gas_used': 29962, 'refund_gas': 141863388262169141, 'storage_address': '0xe1ebdf64f7f3a31723e767a561345f958233bb7d', 'input': '0xa9059cbb0000000000000000000000007a250d5630b4cf539739df2c5dacb4c659f2488d000000000000000000000000000000000000000000000000058d15e176280000', 'output': '0x0000000000000000000000000000000000000000000000000000000000000001', 'decoded_output': None, 'network_id': '', 'calls': None}, {'hash': '', 'function_pc': 0, 'function_op': 'STOP', 'absolute_position': 4392, 'caller_pc': 2610, 'caller_op': 'STATICCALL', 'call_type': 'STATICCALL', 'address': '0xe1ebdf64f7f3a31723e767a561345f958233bb7d', 'from': '0xe1ebdf64f7f3a31723e767a561345f958233bb7d', 'from_balance': '0', 'to': '0xb0699d63aef20df3f1cffa9ca2bb8670416271d2', 'to_balance': '36500995975680790', 'value': None, 'block_timestamp': '0001-01-01T00:00:00Z', 'gas': 8937393460516625832, 'gas_used': 661, 'refund_gas': 141863388262168664, 'storage_address': '0xe1ebdf64f7f3a31723e767a561345f958233bb7d', 'input': '0x70a08231000000000000000000000000e1ebdf64f7f3a31723e767a561345f958233bb7d', 'output': '0x0000000000000000000000000000000000000000000007b3b1c5f1337ba48e31', 'decoded_output': None, 'network_id': '', 'calls': None}, {'hash': '', 'function_pc': 0, 'function_op': 'STOP', 'absolute_position': 4573, 'caller_pc': 2766, 'caller_op': 'STATICCALL', 'call_type': 'STATICCALL', 'address': '0xe1ebdf64f7f3a31723e767a561345f958233bb7d', 'from': '0xe1ebdf64f7f3a31723e767a561345f958233bb7d', 'from_balance': '0', 'to': '0xc02aaa39b223fe8d0a0e5c4f27ead9083c756cc2', 'to_balance': '3036058902932793225040012', 'value': None, 'block_timestamp': '0001-01-01T00:00:00Z', 'gas': 8937393460516624776, 'gas_used': 534, 'refund_gas': 141863388262168647, 'storage_address': '0xe1ebdf64f7f3a31723e767a561345f958233bb7d', 'input': '0x70a08231000000000000000000000000e1ebdf64f7f3a31723e767a561345f958233bb7d', 'output': '0x000000000000000000000000000000000000000000000000f53b6b7c5522a4d6', 'decoded_output': None, 'network_id': '', 'calls': None}]}, {'hash': '', 'function_pc': 0, 'function_op': 'STOP', 'absolute_position': 5606, 'caller_pc': 4899, 'caller_op': 'CALL', 'call_type': 'CALL', 'address': '0x7a250d5630b4cf539739df2c5dacb4c659f2488d', 'from': '0x7a250d5630b4cf539739df2c5dacb4c659f2488d', 'from_balance': '25000000000000000', 'to': '0xc02aaa39b223fe8d0a0e5c4f27ead9083c756cc2', 'to_balance': '3036058902932793225040012', 'value': '0', 'block_timestamp': '0001-01-01T00:00:00Z', 'gas': 9079256848778774003, 'gas_used': 9223, 'refund_gas': 144115188075853555, 'storage_address': '0x7a250d5630b4cf539739df2c5dacb4c659f2488d', 'input': '0x2e1a7d4d000000000000000000000000000000000000000000000000058d15e176280000', 'output': '0x', 'decoded_output': None, 'network_id': '', 'calls': [{'hash': '', 'function_pc': 0, 'function_op': 'STOP', 'absolute_position': 5569, 'caller_pc': 2724, 'caller_op': 'CALL', 'call_type': 'CALL', 'address': '0xc02aaa39b223fe8d0a0e5c4f27ead9083c756cc2', 'from': '0xc02aaa39b223fe8d0a0e5c4f27ead9083c756cc2', 'from_balance': '3036058902932793225040012', 'to': '0x7a250d5630b4cf539739df2c5dacb4c659f2488d', 'to_balance': '25000000000000000', 'value': '400000000000000000', 'block_timestamp': '0001-01-01T00:00:00Z', 'gas': 2300, 'gas_used': 83, 'refund_gas': 9079256848778764052, 'storage_address': '0xc02aaa39b223fe8d0a0e5c4f27ead9083c756cc2', 'input': '0x', 'output': '0x', 'decoded_output': None, 'network_id': '', 'calls': None}]}, {'hash': '', 'function_pc': 0, 'function_op': 'STOP', 'absolute_position': 5722, 'caller_pc': 15784, 'caller_op': 'CALL', 'call_type': 'CALL', 'address': '0x7a250d5630b4cf539739df2c5dacb4c659f2488d', 'from': '0x7a250d5630b4cf539739df2c5dacb4c659f2488d', 'from_balance': '425000000000000000', 'to': '0x36a2ffb33c1b427c46c3d30adac3ca4e8ed36179', 'to_balance': '3645552260913875932', 'value': '400000000000000000', 'block_timestamp': '0001-01-01T00:00:00Z', 'gas': 9223372036854617929, 'gas_used': 0, 'refund_gas': 144115188075853262, 'storage_address': '0x7a250d5630b4cf539739df2c5dacb4c659f2488d', 'input': '0x', 'output': '0x', 'decoded_output': None, 'network_id': '', 'calls': None}], 'asset_changes': [{'token_info': {'standard': 'ERC20', 'contract_address': '0xb0699d63aef20df3f1cffa9ca2bb8670416271d2'}, 'type': 'Transfer', 'from': '0x36a2ffb33c1b427c46c3d30adac3ca4e8ed36179', 'to': '0xe1ebdf64f7f3a31723e767a561345f958233bb7d', 'amount': None, 'raw_amount': '807452531860501402532', 'dollar_value': None}, {'token_info': {'standard': 'ERC20', 'type': 'Fungible', 'contract_address': '0xc02aaa39b223fe8d0a0e5c4f27ead9083c756cc2', 'symbol': 'weth', 'name': 'WETH', 'logo': 'https://assets.coingecko.com/coins/images/2518/large/weth.png?1696503332', 'decimals': 18, 'dollar_value': '3568.47998046875'}, 'type': 'Transfer', 'from': '0xe1ebdf64f7f3a31723e767a561345f958233bb7d', 'to': '0x7a250d5630b4cf539739df2c5dacb4c659f2488d', 'amount': '0.4', 'raw_amount': '400000000000000000', 'dollar_value': '1427.3919921875'}, {'token_info': {'standard': 'ERC20', 'type': 'Fungible', 'contract_address': '0xc02aaa39b223fe8d0a0e5c4f27ead9083c756cc2', 'symbol': 'weth', 'name': 'WETH', 'logo': 'https://assets.coingecko.com/coins/images/2518/large/weth.png?1696503332', 'decimals': 18, 'dollar_value': '3568.47998046875'}, 'type': 'Burn', 'from': '0x7a250d5630b4cf539739df2c5dacb4c659f2488d', 'amount': '0.4', 'raw_amount': '400000000000000000', 'dollar_value': '1427.3919921875'}, {'token_info': {'standard': 'NativeCurrency', 'type': 'Native', 'symbol': 'eth', 'name': 'Ethereum', 'logo': 'https://assets.coingecko.com/coins/images/279/large/ethereum.png?1696501628', 'decimals': 18, 'dollar_value': '3571.780029296875'}, 'type': 'Transfer', 'from': '0xc02aaa39b223fe8d0a0e5c4f27ead9083c756cc2', 'to': '0x7a250d5630b4cf539739df2c5dacb4c659f2488d', 'amount': '0.4', 'raw_amount': '400000000000000000', 'dollar_value': '1428.71201171875'}, {'token_info': {'standard': 'NativeCurrency', 'type': 'Native', 'symbol': 'eth', 'name': 'Ethereum', 'logo': 'https://assets.coingecko.com/coins/images/279/large/ethereum.png?1696501628', 'decimals': 18, 'dollar_value': '3571.780029296875'}, 'type': 'Transfer', 'from': '0x7a250d5630b4cf539739df2c5dacb4c659f2488d', 'to': '0x36a2ffb33c1b427c46c3d30adac3ca4e8ed36179', 'amount': '0.4', 'raw_amount': '400000000000000000', 'dollar_value': '1428.71201171875'}], 'balance_changes': [{'address': '0x36a2ffb33c1b427c46c3d30adac3ca4e8ed36179', 'dollar_value': '1428.71201171875', 'transfers': [0, 4]}, {'address': '0x7a250d5630b4cf539739df2c5dacb4c659f2488d', 'dollar_value': '0', 'transfers': [1, 2, 3, 4]}, {'address': '0xc02aaa39b223fe8d0a0e5c4f27ead9083c756cc2', 'dollar_value': '-1428.71201171875', 'transfers': [3]}, {'address': '0xe1ebdf64f7f3a31723e767a561345f958233bb7d', 'dollar_value': '-1427.3919921875', 'transfers': [0, 1]}]}, 'stack_trace': None, 'logs': [{'name': '', 'anonymous': False, 'inputs': None, 'raw': {'address': '0xb0699d63aef20df3f1cffa9ca2bb8670416271d2', 'topics': ['0xddf252ad1be2c89b69c2b068fc378daa952ba7f163c4a11628f55a4df523b3ef', '0x00000000000000000000000036a2ffb33c1b427c46c3d30adac3ca4e8ed36179', '0x000000000000000000000000e1ebdf64f7f3a31723e767a561345f958233bb7d'], 'data': '0x00000000000000000000000000000000000000000000002bc5a7a7a906f793a4'}, 'trace_index': None}, {'name': '', 'anonymous': False, 'inputs': None, 'raw': {'address': '0xb0699d63aef20df3f1cffa9ca2bb8670416271d2', 'topics': ['0x8c5be1e5ebec7d5bd14f71427d1e84f3dd0314c0f7b2291e5b200ac8c7c3b925', '0x00000000000000000000000036a2ffb33c1b427c46c3d30adac3ca4e8ed36179', '0x0000000000000000000000007a250d5630b4cf539739df2c5dacb4c659f2488d'], 'data': '0xffffffffffffffffffffffffffffffffffffffffffffff95667ba4a72df891d9'}, 'trace_index': None}, {'name': '', 'anonymous': False, 'inputs': None, 'raw': {'address': '0xc02aaa39b223fe8d0a0e5c4f27ead9083c756cc2', 'topics': ['0xddf252ad1be2c89b69c2b068fc378daa952ba7f163c4a11628f55a4df523b3ef', '0x000000000000000000000000e1ebdf64f7f3a31723e767a561345f958233bb7d', '0x0000000000000000000000007a250d5630b4cf539739df2c5dacb4c659f2488d'], 'data': '0x000000000000000000000000000000000000000000000000058d15e176280000'}, 'trace_index': None}, {'name': '', 'anonymous': False, 'inputs': None, 'raw': {'address': '0xe1ebdf64f7f3a31723e767a561345f958233bb7d', 'topics': ['0x1c411e9a96e071241c2f21f7726b17ae89e3cab4c78be50e062b03a9fffbbad1'], 'data': '0x0000000000000000000000000000000000000000000007b3b1c5f1337ba48e31000000000000000000000000000000000000000000000000f53b6b7c5522a4d6'}, 'trace_index': None}, {'name': '', 'anonymous': False, 'inputs': None, 'raw': {'address': '0xe1ebdf64f7f3a31723e767a561345f958233bb7d', 'topics': ['0xd78ad95fa46c994b6551d0da85fc275fe613ce37657fb8d5e3d130840159d822', '0x0000000000000000000000007a250d5630b4cf539739df2c5dacb4c659f2488d', '0x0000000000000000000000007a250d5630b4cf539739df2c5dacb4c659f2488d'], 'data': '0x00000000000000000000000000000000000000000000002bc5a7a7a906f793a400000000000000000000000000000000000000000000000000000000000000000000000000000000000000000000000000000000000000000000000000000000000000000000000000000000000000000000000000000000058d15e176280000'}, 'trace_index': None}, {'name': '', 'anonymous': False, 'inputs': None, 'raw': {'address': '0xc02aaa39b223fe8d0a0e5c4f27ead9083c756cc2', 'topics': ['0x7fcf532c15f0a6db0bd6d0e038bea71d30d808c7d98cb3bf7268a95bf5081b65', '0x0000000000000000000000007a250d5630b4cf539739df2c5dacb4c659f2488d'], 'data': '0x000000000000000000000000000000000000000000000000058d15e176280000'}, 'trace_index': None}], 'balance_diff': [{'address': '0x36A2fFB33C1B427C46C3D30Adac3cA4e8ED36179', 'original': '3645552260913875932', 'dirty': '4045552260913875932', 'is_miner': False}, {'address': '0xC02aaA39b223FE8D0A0e5C4F27eAD9083C756Cc2', 'original': '3036058902932793225040012', 'dirty': '3036058502932793225040012', 'is_miner': False}], 'nonce_diff': [{'address': '0x36A2fFB33C1B427C46C3D30Adac3cA4e8ED36179', 'original': '1799', 'dirty': '1800'}], 'state_diff': [{'address': '0xb0699d63aef20df3f1cffa9ca2bb8670416271d2', 'soltype': None, 'original': None, 'dirty': None, 'raw': [{'address': '0xb0699d63aef20df3f1cffa9ca2bb8670416271d2', 'key': '0x7f960f58c9fb0b00d2cd1656b80b1f457ac170ce71656a6bee55b2264adee3a7', 'original': '0x000000000000000000000000000000000000000000000787ec1e498a74acfa8d', 'dirty': '0x0000000000000000000000000000000000000000000007b3b1c5f1337ba48e31'}]}, {'address': '0xb0699d63aef20df3f1cffa9ca2bb8670416271d2', 'soltype': None, 'original': None, 'dirty': None, 'raw': [{'address': '0xb0699d63aef20df3f1cffa9ca2bb8670416271d2', 'key': '0xa29da9b5ee05f70de61357e9565a31007dd5c952a649606eaae73c85825d5c75', 'original': '0x000000000000000000000000000000000000000000000055e6564f84cac5a74b', 'dirty': '0x00000000000000000000000000000000000000000000002a20aea7dbc3ce13a7'}]}, {'address': '0xb0699d63aef20df3f1cffa9ca2bb8670416271d2', 'soltype': None, 'original': None, 'dirty': None, 'raw': [{'address': '0xb0699d63aef20df3f1cffa9ca2bb8670416271d2', 'key': '0xf3531f5f72028242795dc772c2fd7fb3ba054d0319ca470709dafc0ec7b7f8e9', 'original': '0xffffffffffffffffffffffffffffffffffffffffffffffc12c234c5034f0257d', 'dirty': '0xffffffffffffffffffffffffffffffffffffffffffffff95667ba4a72df891d9'}]}, {'address': '0xc02aaa39b223fe8d0a0e5c4f27ead9083c756cc2', 'soltype': None, 'original': None, 'dirty': None, 'raw': [{'address': '0xc02aaa39b223fe8d0a0e5c4f27ead9083c756cc2', 'key': '0x7be9da7ff8a0f39c9dfd3ede1a9bccfcb6f6bc4c830639f9b621772917b1e9df', 'original': '0x000000000000000000000000000000000000000000000000fac8815dcb4aa4d6', 'dirty': '0x000000000000000000000000000000000000000000000000f53b6b7c5522a4d6'}]}, {'address': '0xe1ebdf64f7f3a31723e767a561345f958233bb7d', 'soltype': None, 'original': None, 'dirty': None, 'raw': [{'address': '0xe1ebdf64f7f3a31723e767a561345f958233bb7d', 'key': '0x0000000000000000000000000000000000000000000000000000000000000008', 'original': '0x65ef0043000000000000fac8815dcb4aa4d6000000000787ec1e498a74acfa8d', 'dirty': '0x65ef008b000000000000f53b6b7c5522a4d60000000007b3b1c5f1337ba48e31'}]}, {'address': '0xe1ebdf64f7f3a31723e767a561345f958233bb7d', 'soltype': None, 'original': None, 'dirty': None, 'raw': [{'address': '0xe1ebdf64f7f3a31723e767a561345f958233bb7d', 'key': '0x0000000000000000000000000000000000000000000000000000000000000009', 'original': '0x00000000000000000000000000000000007175a42ca8cf229828f6d5d33d855c', 'dirty': '0x0000000000000000000000000000000000717f01ccdee1b4be46d4812a066afc'}]}, {'address': '0xe1ebdf64f7f3a31723e767a561345f958233bb7d', 'soltype': None, 'original': None, 'dirty': None, 'raw': [{'address': '0xe1ebdf64f7f3a31723e767a561345f958233bb7d', 'key': '0x000000000000000000000000000000000000000000000000000000000000000a', 'original': '0x000000000000000000000000000008ec6bcda8f96a947118e2b79ee7865fdfbc', 'dirty': '0x000000000000000000000000000008ee954f97df95947836573481a6397eab8c'}]}], 'raw_state_diff': None, 'console_logs': None, 'asset_changes': [{'token_info': {'standard': 'ERC20', 'contract_address': '0xb0699d63aef20df3f1cffa9ca2bb8670416271d2'}, 'type': 'Transfer', 'from': '0x36a2ffb33c1b427c46c3d30adac3ca4e8ed36179', 'to': '0xe1ebdf64f7f3a31723e767a561345f958233bb7d', 'amount': None, 'raw_amount': '807452531860501402532', 'dollar_value': None}, {'token_info': {'standard': 'ERC20', 'type': 'Fungible', 'contract_address': '0xc02aaa39b223fe8d0a0e5c4f27ead9083c756cc2', 'symbol': 'weth', 'name': 'WETH', 'logo': 'https://assets.coingecko.com/coins/images/2518/large/weth.png?1696503332', 'decimals': 18, 'dollar_value': '3568.47998046875'}, 'type': 'Transfer', 'from': '0xe1ebdf64f7f3a31723e767a561345f958233bb7d', 'to': '0x7a250d5630b4cf539739df2c5dacb4c659f2488d', 'amount': '0.4', 'raw_amount': '400000000000000000', 'dollar_value': '1427.3919921875'}, {'token_info': {'standard': 'ERC20', 'type': 'Fungible', 'contract_address': '0xc02aaa39b223fe8d0a0e5c4f27ead9083c756cc2', 'symbol': 'weth', 'name': 'WETH', 'logo': 'https://assets.coingecko.com/coins/images/2518/large/weth.png?1696503332', 'decimals': 18, 'dollar_value': '3568.47998046875'}, 'type': 'Burn', 'from': '0x7a250d5630b4cf539739df2c5dacb4c659f2488d', 'amount': '0.4', 'raw_amount': '400000000000000000', 'dollar_value': '1427.3919921875'}, {'token_info': {'standard': 'NativeCurrency', 'type': 'Native', 'symbol': 'eth', 'name': 'Ethereum', 'logo': 'https://assets.coingecko.com/coins/images/279/large/ethereum.png?1696501628', 'decimals': 18, 'dollar_value': '3571.780029296875'}, 'type': 'Transfer', 'from': '0xc02aaa39b223fe8d0a0e5c4f27ead9083c756cc2', 'to': '0x7a250d5630b4cf539739df2c5dacb4c659f2488d', 'amount': '0.4', 'raw_amount': '400000000000000000', 'dollar_value': '1428.71201171875'}, {'token_info': {'standard': 'NativeCurrency', 'type': 'Native', 'symbol': 'eth', 'name': 'Ethereum', 'logo': 'https://assets.coingecko.com/coins/images/279/large/ethereum.png?1696501628', 'decimals': 18, 'dollar_value': '3571.780029296875'}, 'type': 'Transfer', 'from': '0x7a250d5630b4cf539739df2c5dacb4c659f2488d', 'to': '0x36a2ffb33c1b427c46c3d30adac3ca4e8ed36179', 'amount': '0.4', 'raw_amount': '400000000000000000', 'dollar_value': '1428.71201171875'}], 'balance_changes': [{'address': '0x36a2ffb33c1b427c46c3d30adac3ca4e8ed36179', 'dollar_value': '1428.71201171875', 'transfers': [0, 4]}, {'address': '0x7a250d5630b4cf539739df2c5dacb4c659f2488d', 'dollar_value': '0', 'transfers': [1, 2, 3, 4]}, {'address': '0xc02aaa39b223fe8d0a0e5c4f27ead9083c756cc2', 'dollar_value': '-1428.71201171875', 'transfers': [3]}, {'address': '0xe1ebdf64f7f3a31723e767a561345f958233bb7d', 'dollar_value': '-1427.3919921875', 'transfers': [0, 1]}], 'created_at': '2024-03-11T13:00:59Z'}, 'method': '', 'decoded_input': None, 'call_trace': [{'call_type': 'CALL', 'from': '0x36a2ffb33c1b427c46c3d30adac3ca4e8ed36179', 'to': '0x7a250d5630b4cf539739df2c5dacb4c659f2488d', 'gas': 9223372036854752747, 'gas_used': 142036, 'address': '0x7a250d5630b4cf539739df2c5dacb4c659f2488d', 'subtraces': 5, 'input': '0x4a25d94a000000000000000000000000000000000000000000000000058d15e17628000000000000000000000000000000000000000000000000002f461b77a211c3b3ee00000000000000000000000000000000000000000000000000000000000000a000000000000000000000000036a2ffb33c1b427c46c3d30adac3ca4e8ed361790000000000000000000000000000000000000000000000000000000065ef077b0000000000000000000000000000000000000000000000000000000000000002000000000000000000000000b0699d63aef20df3f1cffa9ca2bb8670416271d2000000000000000000000000c02aaa39b223fe8d0a0e5c4f27ead9083c756cc2', 'output': '0x0000000000000000000000000000000000000000000000000000000000000020000000000000000000000000000000000000000000000000000000000000000200000000000000000000000000000000000000000000002bc5a7a7a906f793a4000000000000000000000000000000000000000000000000058d15e176280000', 'fromBalance': '0x32979a7761e4cbdc', 'toBalance': '0x58d15e17628000'}, {'call_type': 'STATICCALL', 'from': '0x7a250d5630b4cf539739df2c5dacb4c659f2488d', 'to': '0xe1ebdf64f7f3a31723e767a561345f958233bb7d', 'gas': 9079256848778892500, 'gas_used': 2504, 'address': '0xe1ebdf64f7f3a31723e767a561345f958233bb7d', 'trace_address': [0], 'input': '0x0902f1ac', 'output': '0x000000000000000000000000000000000000000000000787ec1e498a74acfa8d000000000000000000000000000000000000000000000000fac8815dcb4aa4d60000000000000000000000000000000000000000000000000000000065ef0043', 'gas_in': 9223372036854748042, 'gas_cost': 9079256848778892606, 'fromBalance': '0x58d15e17628000'}, {'call_type': 'CALL', 'from': '0x7a250d5630b4cf539739df2c5dacb4c659f2488d', 'to': '0xb0699d63aef20df3f1cffa9ca2bb8670416271d2', 'gas': 9079256848778884765, 'gas_used': 44797, 'address': '0xb0699d63aef20df3f1cffa9ca2bb8670416271d2', 'trace_address': [1], 'input': '0x23b872dd00000000000000000000000036a2ffb33c1b427c46c3d30adac3ca4e8ed36179000000000000000000000000e1ebdf64f7f3a31723e767a561345f958233bb7d00000000000000000000000000000000000000000000002bc5a7a7a906f793a4', 'output': '0x0000000000000000000000000000000000000000000000000000000000000001', 'gas_in': 9223372036854742678, 'gas_cost': 9079256848778887365, 'fromBalance': '0x58d15e17628000', 'toBalance': '0x81ad7663141316'}, {'call_type': 'CALL', 'from': '0x7a250d5630b4cf539739df2c5dacb4c659f2488d', 'to': '0xe1ebdf64f7f3a31723e767a561345f958233bb7d', 'gas': 9079256848778838475, 'gas_used': 64980, 'address': '0xe1ebdf64f7f3a31723e767a561345f958233bb7d', 'subtraces': 3, 'trace_address': [2], 'input': '0x022c0d9f0000000000000000000000000000000000000000000000000000000000000000000000000000000000000000000000000000000000000000058d15e1762800000000000000000000000000007a250d5630b4cf539739df2c5dacb4c659f2488d00000000000000000000000000000000000000000000000000000000000000800000000000000000000000000000000000000000000000000000000000000000', 'gas_in': 9223372036854693153, 'gas_cost': 9079256848778838575, 'fromBalance': '0x58d15e17628000'}, {'call_type': 'CALL', 'from': '0xe1ebdf64f7f3a31723e767a561345f958233bb7d', 'to': '0xc02aaa39b223fe8d0a0e5c4f27ead9083c756cc2', 'gas': 8937393460516655928, 'gas_used': 29962, 'address': '0xc02aaa39b223fe8d0a0e5c4f27ead9083c756cc2', 'trace_address': [2, 0], 'input': '0xa9059cbb0000000000000000000000007a250d5630b4cf539739df2c5dacb4c659f2488d000000000000000000000000000000000000000000000000058d15e176280000', 'output': '0x0000000000000000000000000000000000000000000000000000000000000001', 'gas_in': 9079256848778827669, 'gas_cost': 8937393460516658528, 'toBalance': '0x0282e9153a17e78a62d08c'}, {'call_type': 'STATICCALL', 'from': '0xe1ebdf64f7f3a31723e767a561345f958233bb7d', 'to': '0xb0699d63aef20df3f1cffa9ca2bb8670416271d2', 'gas': 8937393460516625832, 'gas_used': 661, 'address': '0xb0699d63aef20df3f1cffa9ca2bb8670416271d2', 'trace_address': [2, 1], 'input': '0x70a08231000000000000000000000000e1ebdf64f7f3a31723e767a561345f958233bb7d', 'output': '0x0000000000000000000000000000000000000000000007b3b1c5f1337ba48e31', 'gas_in': 9079256848778794596, 'gas_cost': 8937393460516625932, 'toBalance': '0x81ad7663141316'}, {'call_type': 'STATICCALL', 'from': '0xe1ebdf64f7f3a31723e767a561345f958233bb7d', 'to': '0xc02aaa39b223fe8d0a0e5c4f27ead9083c756cc2', 'gas': 8937393460516624776, 'gas_used': 534, 'address': '0xc02aaa39b223fe8d0a0e5c4f27ead9083c756cc2', 'trace_address': [2, 2], 'input': '0x70a08231000000000000000000000000e1ebdf64f7f3a31723e767a561345f958233bb7d', 'output': '0x000000000000000000000000000000000000000000000000f53b6b7c5522a4d6', 'gas_in': 9079256848778793523, 'gas_cost': 8937393460516624876, 'toBalance': '0x0282e9153a17e78a62d08c'}, {'call_type': 'CALL', 'from': '0x7a250d5630b4cf539739df2c5dacb4c659f2488d', 'to': '0xc02aaa39b223fe8d0a0e5c4f27ead9083c756cc2', 'gas': 9079256848778774003, 'gas_used': 9223, 'address': '0xc02aaa39b223fe8d0a0e5c4f27ead9083c756cc2', 'subtraces': 1, 'trace_address': [3], 'input': '0x2e1a7d4d000000000000000000000000000000000000000000000000058d15e176280000', 'gas_in': 9223372036854627658, 'gas_cost': 9079256848778774103, 'fromBalance': '0x58d15e17628000', 'toBalance': '0x0282e9153a17e78a62d08c'}, {'call_type': 'CALL', 'from': '0xc02aaa39b223fe8d0a0e5c4f27ead9083c756cc2', 'to': '0x7a250d5630b4cf539739df2c5dacb4c659f2488d', 'gas': 2300, 'gas_used': 83, 'value': '0x058d15e176280000', 'address': '0x7a250d5630b4cf539739df2c5dacb4c659f2488d', 'trace_address': [3, 0], 'gas_in': 9079256848778773152, 'gas_cost': 9100, 'fromBalance': '0x0282e9153a17e78a62d08c', 'toBalance': '0x58d15e17628000'}, {'call_type': 'CALL', 'from': '0x7a250d5630b4cf539739df2c5dacb4c659f2488d', 'to': '0x36a2ffb33c1b427c46c3d30adac3ca4e8ed36179', 'gas': 9079256848778757867, 'value': '0x058d15e176280000', 'address': '0x36a2ffb33c1b427c46c3d30adac3ca4e8ed36179', 'trace_address': [4], 'gas_in': 9223372036854617929, 'gas_cost': 9079256848778764667, 'fromBalance': '0x05e5e73f8d8a8000', 'toBalance': '0x32979a7761e4cbdc'}]}, 'simulation': {'id': '52eb62ba-4e72-4c40-80d5-e4eb22f21b54', 'project_id': '85458be4-b610-457c-a5a5-51dbe1a1fe5c', 'owner_id': '60c6d750-7e6d-47ce-b6f0-be64f0df2aa4', 'network_id': '1', 'block_number': 19412019, 'transaction_index': 0, 'from': '0x36A2fFB33C1B427C46C3D30Adac3cA4e8ED36179', 'to': '0x7a250d5630B4cF539739dF2C5dAcb4c659F2488D', 'input': '0x4a25d94a000000000000000000000000000000000000000000000000058d15e17628000000000000000000000000000000000000000000000000002f461b77a211c3b3ee00000000000000000000000000000000000000000000000000000000000000a000000000000000000000000036a2ffb33c1b427c46c3d30adac3ca4e8ed361790000000000000000000000000000000000000000000000000000000065ef077b0000000000000000000000000000000000000000000000000000000000000002000000000000000000000000b0699d63aef20df3f1cffa9ca2bb8670416271d2000000000000000000000000c02aaa39b223fe8d0a0e5c4f27ead9083c756cc2', 'gas': 0, 'gas_price': '0', 'gas_used': 142396, 'value': '0', 'status': True, 'access_list': None, 'queue_origin': '', 'block_header': {'number': '0x1283433', 'hash': '0x0000000000000000000000000000000000000000000000000000000000000000', 'stateRoot': '0x8bdbe68af67862c60a0809cbd83aeba6f3e3d077cd56b16522d62bc77e31897a', 'parentHash': '0x0891ac4c4c43f987a5cf6074f8b943e19beb0c723874e4c8fbdfdc47591d2153', 'sha3Uncles': '0x1dcc4de8dec75d7aab85b567b6ccd41ad312451b948a7413f0a142fd40d49347', 'transactionsRoot': '0xfab76ea29d34b8a47a43d6d7cc0d5d63338eea33a56db19406432ed2aa08f9ee', 'receiptsRoot': '0xa75c31eedbe7588351f00ef60b74df6bc6e24681a16d40876d7ae654fd263214', 'logsBloom': '0x497b9152589840a63a6a8a009000121b93c140122bfe80006d9de0142f0a4eea2474c58d103403308aa313883e9a1f9a93a0a6709e92f9f023097189086a2944da4af1dee223281b6c22e018820244e6992829871cd23e403924c6c8c3242005621c8a0d0f438501044dd2b2ae607c89e212022e41024d8b96aa4534a91f433023114bb84286a70844e13143b300062409193aa9e9dd408a613be2f3c09e70a813dcc9795cd1ea132e7114cf8e9bafa88b69e106a83207802f55049a4004ccf0b37850d222c8ca674768618b0009a3e6e4b0a1e31a08691c1a93914e8930e1489078f0298d31238b279443a122c0180552abd4a2cb084c651235302d18c3580d', 'timestamp': '0x65ef008b', 'difficulty': '0x0', 'gasLimit': '0x1c9c380', 'gasUsed': '0xae2e39', 'miner': '0x95222290dd7278aa3ddd389cc1e1d165cc4bafe5', 'extraData': '0x6265617665726275696c642e6f7267', 'mixHash': '0x4474ef7979aac444805796ec97eaa333714935de5ee0a56626a51a30b0ffebc1', 'nonce': '0x0000000000000000', 'baseFeePerGas': '0x11c71f6253', 'size': '0x0', 'totalDifficulty': '0x0', 'uncles': None, 'transactions': None}, 'deposit_tx': False, 'system_tx': False, 'nonce': 1799, 'addresses': None, 'contract_ids': None, 'shared': False, 'created_at': '2024-03-28T13:31:59.712507968Z'}, 'contracts': [], 'generated_access_list': []}\n"
     ]
    }
   ],
   "source": [
    "print(response.json())\n",
    "\n",
    "with open(\"Output.json\", \"w\") as text_file:\n",
    "    text_file.write(response.text)"
   ]
  },
  {
   "cell_type": "code",
   "execution_count": 121,
   "metadata": {},
   "outputs": [
    {
     "data": {
      "text/plain": [
       "{'transaction': {'hash': '0xd9488fe37e24c1b3f14937e3029036e6aa480d1e1621d81a96ef0779c492f64b',\n",
       "  'block_hash': '',\n",
       "  'block_number': 19412019,\n",
       "  'from': '0x36a2ffb33c1b427c46c3d30adac3ca4e8ed36179',\n",
       "  'gas': 9223372036854775807,\n",
       "  'gas_price': 0,\n",
       "  'gas_fee_cap': 0,\n",
       "  'gas_tip_cap': 0,\n",
       "  'cumulative_gas_used': 0,\n",
       "  'gas_used': 142396,\n",
       "  'effective_gas_price': 0,\n",
       "  'input': '0x4a25d94a000000000000000000000000000000000000000000000000058d15e17628000000000000000000000000000000000000000000000000002f461b77a211c3b3ee00000000000000000000000000000000000000000000000000000000000000a000000000000000000000000036a2ffb33c1b427c46c3d30adac3ca4e8ed361790000000000000000000000000000000000000000000000000000000065ef077b0000000000000000000000000000000000000000000000000000000000000002000000000000000000000000b0699d63aef20df3f1cffa9ca2bb8670416271d2000000000000000000000000c02aaa39b223fe8d0a0e5c4f27ead9083c756cc2',\n",
       "  'nonce': 1799,\n",
       "  'to': '0x7a250d5630b4cf539739df2c5dacb4c659f2488d',\n",
       "  'index': 0,\n",
       "  'value': '0x',\n",
       "  'access_list': None,\n",
       "  'status': True,\n",
       "  'addresses': None,\n",
       "  'contract_ids': None,\n",
       "  'network_id': '1',\n",
       "  'timestamp': '2024-03-11T13:00:59Z',\n",
       "  'function_selector': '',\n",
       "  'l1_block_number': 0,\n",
       "  'l1_timestamp': 0,\n",
       "  'deposit_tx': False,\n",
       "  'system_tx': False,\n",
       "  'sig': {'v': '0x0', 'r': '0x0', 's': '0x0'},\n",
       "  'transaction_info': {'contract_id': 'eth:1:0x7a250d5630b4cf539739df2c5dacb4c659f2488d',\n",
       "   'block_number': 19412019,\n",
       "   'transaction_id': '0xd9488fe37e24c1b3f14937e3029036e6aa480d1e1621d81a96ef0779c492f64b',\n",
       "   'contract_address': '0x7a250d5630b4cf539739df2c5dacb4c659f2488d',\n",
       "   'method': None,\n",
       "   'parameters': None,\n",
       "   'intrinsic_gas': 23060,\n",
       "   'refund_gas': 22700,\n",
       "   'call_trace': {'hash': '0xd9488fe37e24c1b3f14937e3029036e6aa480d1e1621d81a96ef0779c492f64b',\n",
       "    'contract_name': '',\n",
       "    'function_pc': 0,\n",
       "    'function_op': 'CALL',\n",
       "    'absolute_position': 0,\n",
       "    'caller_pc': 0,\n",
       "    'caller_op': 'CALL',\n",
       "    'call_type': 'CALL',\n",
       "    'address': '0x36a2ffb33c1b427c46c3d30adac3ca4e8ed36179',\n",
       "    'from': '0x36a2ffb33c1b427c46c3d30adac3ca4e8ed36179',\n",
       "    'from_balance': '3645552260913875932',\n",
       "    'to': '0x7a250d5630b4cf539739df2c5dacb4c659f2488d',\n",
       "    'to_balance': '25000000000000000',\n",
       "    'value': '0',\n",
       "    'block_timestamp': '0001-01-01T00:00:00Z',\n",
       "    'gas': 9223372036854752747,\n",
       "    'gas_used': 142036,\n",
       "    'intrinsic_gas': 23060,\n",
       "    'refund_gas': 22700,\n",
       "    'storage_address': '0x36a2ffb33c1b427c46c3d30adac3ca4e8ed36179',\n",
       "    'input': '0x4a25d94a000000000000000000000000000000000000000000000000058d15e17628000000000000000000000000000000000000000000000000002f461b77a211c3b3ee00000000000000000000000000000000000000000000000000000000000000a000000000000000000000000036a2ffb33c1b427c46c3d30adac3ca4e8ed361790000000000000000000000000000000000000000000000000000000065ef077b0000000000000000000000000000000000000000000000000000000000000002000000000000000000000000b0699d63aef20df3f1cffa9ca2bb8670416271d2000000000000000000000000c02aaa39b223fe8d0a0e5c4f27ead9083c756cc2',\n",
       "    'balance_diff': [{'address': '0x36A2fFB33C1B427C46C3D30Adac3cA4e8ED36179',\n",
       "      'original': '3645552260913875932',\n",
       "      'dirty': '4045552260913875932',\n",
       "      'is_miner': False},\n",
       "     {'address': '0xC02aaA39b223FE8D0A0e5C4F27eAD9083C756Cc2',\n",
       "      'original': '3036058902932793225040012',\n",
       "      'dirty': '3036058502932793225040012',\n",
       "      'is_miner': False}],\n",
       "    'nonce_diff': [{'address': '0x36A2fFB33C1B427C46C3D30Adac3cA4e8ED36179',\n",
       "      'original': '1799',\n",
       "      'dirty': '1800'}],\n",
       "    'state_diff': [{'address': '0xb0699d63aef20df3f1cffa9ca2bb8670416271d2',\n",
       "      'soltype': None,\n",
       "      'original': None,\n",
       "      'dirty': None,\n",
       "      'raw': [{'address': '0xb0699d63aef20df3f1cffa9ca2bb8670416271d2',\n",
       "        'key': '0x7f960f58c9fb0b00d2cd1656b80b1f457ac170ce71656a6bee55b2264adee3a7',\n",
       "        'original': '0x000000000000000000000000000000000000000000000787ec1e498a74acfa8d',\n",
       "        'dirty': '0x0000000000000000000000000000000000000000000007b3b1c5f1337ba48e31'}]},\n",
       "     {'address': '0xb0699d63aef20df3f1cffa9ca2bb8670416271d2',\n",
       "      'soltype': None,\n",
       "      'original': None,\n",
       "      'dirty': None,\n",
       "      'raw': [{'address': '0xb0699d63aef20df3f1cffa9ca2bb8670416271d2',\n",
       "        'key': '0xa29da9b5ee05f70de61357e9565a31007dd5c952a649606eaae73c85825d5c75',\n",
       "        'original': '0x000000000000000000000000000000000000000000000055e6564f84cac5a74b',\n",
       "        'dirty': '0x00000000000000000000000000000000000000000000002a20aea7dbc3ce13a7'}]},\n",
       "     {'address': '0xb0699d63aef20df3f1cffa9ca2bb8670416271d2',\n",
       "      'soltype': None,\n",
       "      'original': None,\n",
       "      'dirty': None,\n",
       "      'raw': [{'address': '0xb0699d63aef20df3f1cffa9ca2bb8670416271d2',\n",
       "        'key': '0xf3531f5f72028242795dc772c2fd7fb3ba054d0319ca470709dafc0ec7b7f8e9',\n",
       "        'original': '0xffffffffffffffffffffffffffffffffffffffffffffffc12c234c5034f0257d',\n",
       "        'dirty': '0xffffffffffffffffffffffffffffffffffffffffffffff95667ba4a72df891d9'}]},\n",
       "     {'address': '0xc02aaa39b223fe8d0a0e5c4f27ead9083c756cc2',\n",
       "      'soltype': None,\n",
       "      'original': None,\n",
       "      'dirty': None,\n",
       "      'raw': [{'address': '0xc02aaa39b223fe8d0a0e5c4f27ead9083c756cc2',\n",
       "        'key': '0x7be9da7ff8a0f39c9dfd3ede1a9bccfcb6f6bc4c830639f9b621772917b1e9df',\n",
       "        'original': '0x000000000000000000000000000000000000000000000000fac8815dcb4aa4d6',\n",
       "        'dirty': '0x000000000000000000000000000000000000000000000000f53b6b7c5522a4d6'}]},\n",
       "     {'address': '0xe1ebdf64f7f3a31723e767a561345f958233bb7d',\n",
       "      'soltype': None,\n",
       "      'original': None,\n",
       "      'dirty': None,\n",
       "      'raw': [{'address': '0xe1ebdf64f7f3a31723e767a561345f958233bb7d',\n",
       "        'key': '0x0000000000000000000000000000000000000000000000000000000000000008',\n",
       "        'original': '0x65ef0043000000000000fac8815dcb4aa4d6000000000787ec1e498a74acfa8d',\n",
       "        'dirty': '0x65ef008b000000000000f53b6b7c5522a4d60000000007b3b1c5f1337ba48e31'}]},\n",
       "     {'address': '0xe1ebdf64f7f3a31723e767a561345f958233bb7d',\n",
       "      'soltype': None,\n",
       "      'original': None,\n",
       "      'dirty': None,\n",
       "      'raw': [{'address': '0xe1ebdf64f7f3a31723e767a561345f958233bb7d',\n",
       "        'key': '0x0000000000000000000000000000000000000000000000000000000000000009',\n",
       "        'original': '0x00000000000000000000000000000000007175a42ca8cf229828f6d5d33d855c',\n",
       "        'dirty': '0x0000000000000000000000000000000000717f01ccdee1b4be46d4812a066afc'}]},\n",
       "     {'address': '0xe1ebdf64f7f3a31723e767a561345f958233bb7d',\n",
       "      'soltype': None,\n",
       "      'original': None,\n",
       "      'dirty': None,\n",
       "      'raw': [{'address': '0xe1ebdf64f7f3a31723e767a561345f958233bb7d',\n",
       "        'key': '0x000000000000000000000000000000000000000000000000000000000000000a',\n",
       "        'original': '0x000000000000000000000000000008ec6bcda8f96a947118e2b79ee7865fdfbc',\n",
       "        'dirty': '0x000000000000000000000000000008ee954f97df95947836573481a6397eab8c'}]}],\n",
       "    'logs': [{'name': '',\n",
       "      'anonymous': False,\n",
       "      'inputs': None,\n",
       "      'raw': {'address': '0xb0699d63aef20df3f1cffa9ca2bb8670416271d2',\n",
       "       'topics': ['0xddf252ad1be2c89b69c2b068fc378daa952ba7f163c4a11628f55a4df523b3ef',\n",
       "        '0x00000000000000000000000036a2ffb33c1b427c46c3d30adac3ca4e8ed36179',\n",
       "        '0x000000000000000000000000e1ebdf64f7f3a31723e767a561345f958233bb7d'],\n",
       "       'data': '0x00000000000000000000000000000000000000000000002bc5a7a7a906f793a4'},\n",
       "      'trace_index': None},\n",
       "     {'name': '',\n",
       "      'anonymous': False,\n",
       "      'inputs': None,\n",
       "      'raw': {'address': '0xb0699d63aef20df3f1cffa9ca2bb8670416271d2',\n",
       "       'topics': ['0x8c5be1e5ebec7d5bd14f71427d1e84f3dd0314c0f7b2291e5b200ac8c7c3b925',\n",
       "        '0x00000000000000000000000036a2ffb33c1b427c46c3d30adac3ca4e8ed36179',\n",
       "        '0x0000000000000000000000007a250d5630b4cf539739df2c5dacb4c659f2488d'],\n",
       "       'data': '0xffffffffffffffffffffffffffffffffffffffffffffff95667ba4a72df891d9'},\n",
       "      'trace_index': None},\n",
       "     {'name': '',\n",
       "      'anonymous': False,\n",
       "      'inputs': None,\n",
       "      'raw': {'address': '0xc02aaa39b223fe8d0a0e5c4f27ead9083c756cc2',\n",
       "       'topics': ['0xddf252ad1be2c89b69c2b068fc378daa952ba7f163c4a11628f55a4df523b3ef',\n",
       "        '0x000000000000000000000000e1ebdf64f7f3a31723e767a561345f958233bb7d',\n",
       "        '0x0000000000000000000000007a250d5630b4cf539739df2c5dacb4c659f2488d'],\n",
       "       'data': '0x000000000000000000000000000000000000000000000000058d15e176280000'},\n",
       "      'trace_index': None},\n",
       "     {'name': '',\n",
       "      'anonymous': False,\n",
       "      'inputs': None,\n",
       "      'raw': {'address': '0xe1ebdf64f7f3a31723e767a561345f958233bb7d',\n",
       "       'topics': ['0x1c411e9a96e071241c2f21f7726b17ae89e3cab4c78be50e062b03a9fffbbad1'],\n",
       "       'data': '0x0000000000000000000000000000000000000000000007b3b1c5f1337ba48e31000000000000000000000000000000000000000000000000f53b6b7c5522a4d6'},\n",
       "      'trace_index': None},\n",
       "     {'name': '',\n",
       "      'anonymous': False,\n",
       "      'inputs': None,\n",
       "      'raw': {'address': '0xe1ebdf64f7f3a31723e767a561345f958233bb7d',\n",
       "       'topics': ['0xd78ad95fa46c994b6551d0da85fc275fe613ce37657fb8d5e3d130840159d822',\n",
       "        '0x0000000000000000000000007a250d5630b4cf539739df2c5dacb4c659f2488d',\n",
       "        '0x0000000000000000000000007a250d5630b4cf539739df2c5dacb4c659f2488d'],\n",
       "       'data': '0x00000000000000000000000000000000000000000000002bc5a7a7a906f793a400000000000000000000000000000000000000000000000000000000000000000000000000000000000000000000000000000000000000000000000000000000000000000000000000000000000000000000000000000000058d15e176280000'},\n",
       "      'trace_index': None},\n",
       "     {'name': '',\n",
       "      'anonymous': False,\n",
       "      'inputs': None,\n",
       "      'raw': {'address': '0xc02aaa39b223fe8d0a0e5c4f27ead9083c756cc2',\n",
       "       'topics': ['0x7fcf532c15f0a6db0bd6d0e038bea71d30d808c7d98cb3bf7268a95bf5081b65',\n",
       "        '0x0000000000000000000000007a250d5630b4cf539739df2c5dacb4c659f2488d'],\n",
       "       'data': '0x000000000000000000000000000000000000000000000000058d15e176280000'},\n",
       "      'trace_index': None}],\n",
       "    'output': '0x0000000000000000000000000000000000000000000000000000000000000020000000000000000000000000000000000000000000000000000000000000000200000000000000000000000000000000000000000000002bc5a7a7a906f793a4000000000000000000000000000000000000000000000000058d15e176280000',\n",
       "    'decoded_output': None,\n",
       "    'network_id': '1',\n",
       "    'calls': [{'hash': '',\n",
       "      'function_pc': 0,\n",
       "      'function_op': 'STOP',\n",
       "      'absolute_position': 719,\n",
       "      'caller_pc': 21331,\n",
       "      'caller_op': 'STATICCALL',\n",
       "      'call_type': 'STATICCALL',\n",
       "      'address': '0x7a250d5630b4cf539739df2c5dacb4c659f2488d',\n",
       "      'from': '0x7a250d5630b4cf539739df2c5dacb4c659f2488d',\n",
       "      'from_balance': '25000000000000000',\n",
       "      'to': '0xe1ebdf64f7f3a31723e767a561345f958233bb7d',\n",
       "      'to_balance': '0',\n",
       "      'value': None,\n",
       "      'block_timestamp': '0001-01-01T00:00:00Z',\n",
       "      'gas': 9079256848778892500,\n",
       "      'gas_used': 2504,\n",
       "      'refund_gas': 144115188075855436,\n",
       "      'storage_address': '0x7a250d5630b4cf539739df2c5dacb4c659f2488d',\n",
       "      'input': '0x0902f1ac',\n",
       "      'output': '0x000000000000000000000000000000000000000000000787ec1e498a74acfa8d000000000000000000000000000000000000000000000000fac8815dcb4aa4d60000000000000000000000000000000000000000000000000000000065ef0043',\n",
       "      'decoded_output': None,\n",
       "      'network_id': '',\n",
       "      'calls': None},\n",
       "     {'hash': '',\n",
       "      'function_pc': 0,\n",
       "      'function_op': 'STOP',\n",
       "      'absolute_position': 2802,\n",
       "      'caller_pc': 17090,\n",
       "      'caller_op': 'CALL',\n",
       "      'call_type': 'CALL',\n",
       "      'address': '0x7a250d5630b4cf539739df2c5dacb4c659f2488d',\n",
       "      'from': '0x7a250d5630b4cf539739df2c5dacb4c659f2488d',\n",
       "      'from_balance': '25000000000000000',\n",
       "      'to': '0xb0699d63aef20df3f1cffa9ca2bb8670416271d2',\n",
       "      'to_balance': '36500995975680790',\n",
       "      'value': '0',\n",
       "      'block_timestamp': '0001-01-01T00:00:00Z',\n",
       "      'gas': 9079256848778884765,\n",
       "      'gas_used': 44797,\n",
       "      'refund_gas': 144115188075855313,\n",
       "      'storage_address': '0x7a250d5630b4cf539739df2c5dacb4c659f2488d',\n",
       "      'input': '0x23b872dd00000000000000000000000036a2ffb33c1b427c46c3d30adac3ca4e8ed36179000000000000000000000000e1ebdf64f7f3a31723e767a561345f958233bb7d00000000000000000000000000000000000000000000002bc5a7a7a906f793a4',\n",
       "      'output': '0x0000000000000000000000000000000000000000000000000000000000000001',\n",
       "      'decoded_output': None,\n",
       "      'network_id': '',\n",
       "      'calls': None},\n",
       "     {'hash': '',\n",
       "      'function_pc': 0,\n",
       "      'function_op': 'STOP',\n",
       "      'absolute_position': 5301,\n",
       "      'caller_pc': 17882,\n",
       "      'caller_op': 'CALL',\n",
       "      'call_type': 'CALL',\n",
       "      'address': '0x7a250d5630b4cf539739df2c5dacb4c659f2488d',\n",
       "      'from': '0x7a250d5630b4cf539739df2c5dacb4c659f2488d',\n",
       "      'from_balance': '25000000000000000',\n",
       "      'to': '0xe1ebdf64f7f3a31723e767a561345f958233bb7d',\n",
       "      'to_balance': '0',\n",
       "      'value': '0',\n",
       "      'block_timestamp': '0001-01-01T00:00:00Z',\n",
       "      'gas': 9079256848778838475,\n",
       "      'gas_used': 64980,\n",
       "      'refund_gas': 144115188075854578,\n",
       "      'storage_address': '0x7a250d5630b4cf539739df2c5dacb4c659f2488d',\n",
       "      'input': '0x022c0d9f0000000000000000000000000000000000000000000000000000000000000000000000000000000000000000000000000000000000000000058d15e1762800000000000000000000000000007a250d5630b4cf539739df2c5dacb4c659f2488d00000000000000000000000000000000000000000000000000000000000000800000000000000000000000000000000000000000000000000000000000000000',\n",
       "      'output': '0x',\n",
       "      'decoded_output': None,\n",
       "      'network_id': '',\n",
       "      'calls': [{'hash': '',\n",
       "        'function_pc': 0,\n",
       "        'function_op': 'STOP',\n",
       "        'absolute_position': 4118,\n",
       "        'caller_pc': 8468,\n",
       "        'caller_op': 'CALL',\n",
       "        'call_type': 'CALL',\n",
       "        'address': '0xe1ebdf64f7f3a31723e767a561345f958233bb7d',\n",
       "        'from': '0xe1ebdf64f7f3a31723e767a561345f958233bb7d',\n",
       "        'from_balance': '0',\n",
       "        'to': '0xc02aaa39b223fe8d0a0e5c4f27ead9083c756cc2',\n",
       "        'to_balance': '3036058902932793225040012',\n",
       "        'value': '0',\n",
       "        'block_timestamp': '0001-01-01T00:00:00Z',\n",
       "        'gas': 8937393460516655928,\n",
       "        'gas_used': 29962,\n",
       "        'refund_gas': 141863388262169141,\n",
       "        'storage_address': '0xe1ebdf64f7f3a31723e767a561345f958233bb7d',\n",
       "        'input': '0xa9059cbb0000000000000000000000007a250d5630b4cf539739df2c5dacb4c659f2488d000000000000000000000000000000000000000000000000058d15e176280000',\n",
       "        'output': '0x0000000000000000000000000000000000000000000000000000000000000001',\n",
       "        'decoded_output': None,\n",
       "        'network_id': '',\n",
       "        'calls': None},\n",
       "       {'hash': '',\n",
       "        'function_pc': 0,\n",
       "        'function_op': 'STOP',\n",
       "        'absolute_position': 4392,\n",
       "        'caller_pc': 2610,\n",
       "        'caller_op': 'STATICCALL',\n",
       "        'call_type': 'STATICCALL',\n",
       "        'address': '0xe1ebdf64f7f3a31723e767a561345f958233bb7d',\n",
       "        'from': '0xe1ebdf64f7f3a31723e767a561345f958233bb7d',\n",
       "        'from_balance': '0',\n",
       "        'to': '0xb0699d63aef20df3f1cffa9ca2bb8670416271d2',\n",
       "        'to_balance': '36500995975680790',\n",
       "        'value': None,\n",
       "        'block_timestamp': '0001-01-01T00:00:00Z',\n",
       "        'gas': 8937393460516625832,\n",
       "        'gas_used': 661,\n",
       "        'refund_gas': 141863388262168664,\n",
       "        'storage_address': '0xe1ebdf64f7f3a31723e767a561345f958233bb7d',\n",
       "        'input': '0x70a08231000000000000000000000000e1ebdf64f7f3a31723e767a561345f958233bb7d',\n",
       "        'output': '0x0000000000000000000000000000000000000000000007b3b1c5f1337ba48e31',\n",
       "        'decoded_output': None,\n",
       "        'network_id': '',\n",
       "        'calls': None},\n",
       "       {'hash': '',\n",
       "        'function_pc': 0,\n",
       "        'function_op': 'STOP',\n",
       "        'absolute_position': 4573,\n",
       "        'caller_pc': 2766,\n",
       "        'caller_op': 'STATICCALL',\n",
       "        'call_type': 'STATICCALL',\n",
       "        'address': '0xe1ebdf64f7f3a31723e767a561345f958233bb7d',\n",
       "        'from': '0xe1ebdf64f7f3a31723e767a561345f958233bb7d',\n",
       "        'from_balance': '0',\n",
       "        'to': '0xc02aaa39b223fe8d0a0e5c4f27ead9083c756cc2',\n",
       "        'to_balance': '3036058902932793225040012',\n",
       "        'value': None,\n",
       "        'block_timestamp': '0001-01-01T00:00:00Z',\n",
       "        'gas': 8937393460516624776,\n",
       "        'gas_used': 534,\n",
       "        'refund_gas': 141863388262168647,\n",
       "        'storage_address': '0xe1ebdf64f7f3a31723e767a561345f958233bb7d',\n",
       "        'input': '0x70a08231000000000000000000000000e1ebdf64f7f3a31723e767a561345f958233bb7d',\n",
       "        'output': '0x000000000000000000000000000000000000000000000000f53b6b7c5522a4d6',\n",
       "        'decoded_output': None,\n",
       "        'network_id': '',\n",
       "        'calls': None}]},\n",
       "     {'hash': '',\n",
       "      'function_pc': 0,\n",
       "      'function_op': 'STOP',\n",
       "      'absolute_position': 5606,\n",
       "      'caller_pc': 4899,\n",
       "      'caller_op': 'CALL',\n",
       "      'call_type': 'CALL',\n",
       "      'address': '0x7a250d5630b4cf539739df2c5dacb4c659f2488d',\n",
       "      'from': '0x7a250d5630b4cf539739df2c5dacb4c659f2488d',\n",
       "      'from_balance': '25000000000000000',\n",
       "      'to': '0xc02aaa39b223fe8d0a0e5c4f27ead9083c756cc2',\n",
       "      'to_balance': '3036058902932793225040012',\n",
       "      'value': '0',\n",
       "      'block_timestamp': '0001-01-01T00:00:00Z',\n",
       "      'gas': 9079256848778774003,\n",
       "      'gas_used': 9223,\n",
       "      'refund_gas': 144115188075853555,\n",
       "      'storage_address': '0x7a250d5630b4cf539739df2c5dacb4c659f2488d',\n",
       "      'input': '0x2e1a7d4d000000000000000000000000000000000000000000000000058d15e176280000',\n",
       "      'output': '0x',\n",
       "      'decoded_output': None,\n",
       "      'network_id': '',\n",
       "      'calls': [{'hash': '',\n",
       "        'function_pc': 0,\n",
       "        'function_op': 'STOP',\n",
       "        'absolute_position': 5569,\n",
       "        'caller_pc': 2724,\n",
       "        'caller_op': 'CALL',\n",
       "        'call_type': 'CALL',\n",
       "        'address': '0xc02aaa39b223fe8d0a0e5c4f27ead9083c756cc2',\n",
       "        'from': '0xc02aaa39b223fe8d0a0e5c4f27ead9083c756cc2',\n",
       "        'from_balance': '3036058902932793225040012',\n",
       "        'to': '0x7a250d5630b4cf539739df2c5dacb4c659f2488d',\n",
       "        'to_balance': '25000000000000000',\n",
       "        'value': '400000000000000000',\n",
       "        'block_timestamp': '0001-01-01T00:00:00Z',\n",
       "        'gas': 2300,\n",
       "        'gas_used': 83,\n",
       "        'refund_gas': 9079256848778764052,\n",
       "        'storage_address': '0xc02aaa39b223fe8d0a0e5c4f27ead9083c756cc2',\n",
       "        'input': '0x',\n",
       "        'output': '0x',\n",
       "        'decoded_output': None,\n",
       "        'network_id': '',\n",
       "        'calls': None}]},\n",
       "     {'hash': '',\n",
       "      'function_pc': 0,\n",
       "      'function_op': 'STOP',\n",
       "      'absolute_position': 5722,\n",
       "      'caller_pc': 15784,\n",
       "      'caller_op': 'CALL',\n",
       "      'call_type': 'CALL',\n",
       "      'address': '0x7a250d5630b4cf539739df2c5dacb4c659f2488d',\n",
       "      'from': '0x7a250d5630b4cf539739df2c5dacb4c659f2488d',\n",
       "      'from_balance': '425000000000000000',\n",
       "      'to': '0x36a2ffb33c1b427c46c3d30adac3ca4e8ed36179',\n",
       "      'to_balance': '3645552260913875932',\n",
       "      'value': '400000000000000000',\n",
       "      'block_timestamp': '0001-01-01T00:00:00Z',\n",
       "      'gas': 9223372036854617929,\n",
       "      'gas_used': 0,\n",
       "      'refund_gas': 144115188075853262,\n",
       "      'storage_address': '0x7a250d5630b4cf539739df2c5dacb4c659f2488d',\n",
       "      'input': '0x',\n",
       "      'output': '0x',\n",
       "      'decoded_output': None,\n",
       "      'network_id': '',\n",
       "      'calls': None}],\n",
       "    'asset_changes': [{'token_info': {'standard': 'ERC20',\n",
       "       'contract_address': '0xb0699d63aef20df3f1cffa9ca2bb8670416271d2'},\n",
       "      'type': 'Transfer',\n",
       "      'from': '0x36a2ffb33c1b427c46c3d30adac3ca4e8ed36179',\n",
       "      'to': '0xe1ebdf64f7f3a31723e767a561345f958233bb7d',\n",
       "      'amount': None,\n",
       "      'raw_amount': '807452531860501402532',\n",
       "      'dollar_value': None},\n",
       "     {'token_info': {'standard': 'ERC20',\n",
       "       'type': 'Fungible',\n",
       "       'contract_address': '0xc02aaa39b223fe8d0a0e5c4f27ead9083c756cc2',\n",
       "       'symbol': 'weth',\n",
       "       'name': 'WETH',\n",
       "       'logo': 'https://assets.coingecko.com/coins/images/2518/large/weth.png?1696503332',\n",
       "       'decimals': 18,\n",
       "       'dollar_value': '3578.77001953125'},\n",
       "      'type': 'Transfer',\n",
       "      'from': '0xe1ebdf64f7f3a31723e767a561345f958233bb7d',\n",
       "      'to': '0x7a250d5630b4cf539739df2c5dacb4c659f2488d',\n",
       "      'amount': '0.4',\n",
       "      'raw_amount': '400000000000000000',\n",
       "      'dollar_value': '1431.5080078125'},\n",
       "     {'token_info': {'standard': 'ERC20',\n",
       "       'type': 'Fungible',\n",
       "       'contract_address': '0xc02aaa39b223fe8d0a0e5c4f27ead9083c756cc2',\n",
       "       'symbol': 'weth',\n",
       "       'name': 'WETH',\n",
       "       'logo': 'https://assets.coingecko.com/coins/images/2518/large/weth.png?1696503332',\n",
       "       'decimals': 18,\n",
       "       'dollar_value': '3578.77001953125'},\n",
       "      'type': 'Burn',\n",
       "      'from': '0x7a250d5630b4cf539739df2c5dacb4c659f2488d',\n",
       "      'amount': '0.4',\n",
       "      'raw_amount': '400000000000000000',\n",
       "      'dollar_value': '1431.5080078125'},\n",
       "     {'token_info': {'standard': 'NativeCurrency',\n",
       "       'type': 'Native',\n",
       "       'symbol': 'eth',\n",
       "       'name': 'Ethereum',\n",
       "       'logo': 'https://assets.coingecko.com/coins/images/279/large/ethereum.png?1696501628',\n",
       "       'decimals': 18,\n",
       "       'dollar_value': '3581.510009765625'},\n",
       "      'type': 'Transfer',\n",
       "      'from': '0xc02aaa39b223fe8d0a0e5c4f27ead9083c756cc2',\n",
       "      'to': '0x7a250d5630b4cf539739df2c5dacb4c659f2488d',\n",
       "      'amount': '0.4',\n",
       "      'raw_amount': '400000000000000000',\n",
       "      'dollar_value': '1432.60400390625'},\n",
       "     {'token_info': {'standard': 'NativeCurrency',\n",
       "       'type': 'Native',\n",
       "       'symbol': 'eth',\n",
       "       'name': 'Ethereum',\n",
       "       'logo': 'https://assets.coingecko.com/coins/images/279/large/ethereum.png?1696501628',\n",
       "       'decimals': 18,\n",
       "       'dollar_value': '3581.510009765625'},\n",
       "      'type': 'Transfer',\n",
       "      'from': '0x7a250d5630b4cf539739df2c5dacb4c659f2488d',\n",
       "      'to': '0x36a2ffb33c1b427c46c3d30adac3ca4e8ed36179',\n",
       "      'amount': '0.4',\n",
       "      'raw_amount': '400000000000000000',\n",
       "      'dollar_value': '1432.60400390625'}],\n",
       "    'balance_changes': [{'address': '0x36a2ffb33c1b427c46c3d30adac3ca4e8ed36179',\n",
       "      'dollar_value': '1432.60400390625',\n",
       "      'transfers': [0, 4]},\n",
       "     {'address': '0x7a250d5630b4cf539739df2c5dacb4c659f2488d',\n",
       "      'dollar_value': '0',\n",
       "      'transfers': [1, 2, 3, 4]},\n",
       "     {'address': '0xc02aaa39b223fe8d0a0e5c4f27ead9083c756cc2',\n",
       "      'dollar_value': '-1432.60400390625',\n",
       "      'transfers': [3]},\n",
       "     {'address': '0xe1ebdf64f7f3a31723e767a561345f958233bb7d',\n",
       "      'dollar_value': '-1431.5080078125',\n",
       "      'transfers': [0, 1]}]},\n",
       "   'stack_trace': None,\n",
       "   'logs': [{'name': '',\n",
       "     'anonymous': False,\n",
       "     'inputs': None,\n",
       "     'raw': {'address': '0xb0699d63aef20df3f1cffa9ca2bb8670416271d2',\n",
       "      'topics': ['0xddf252ad1be2c89b69c2b068fc378daa952ba7f163c4a11628f55a4df523b3ef',\n",
       "       '0x00000000000000000000000036a2ffb33c1b427c46c3d30adac3ca4e8ed36179',\n",
       "       '0x000000000000000000000000e1ebdf64f7f3a31723e767a561345f958233bb7d'],\n",
       "      'data': '0x00000000000000000000000000000000000000000000002bc5a7a7a906f793a4'},\n",
       "     'trace_index': None},\n",
       "    {'name': '',\n",
       "     'anonymous': False,\n",
       "     'inputs': None,\n",
       "     'raw': {'address': '0xb0699d63aef20df3f1cffa9ca2bb8670416271d2',\n",
       "      'topics': ['0x8c5be1e5ebec7d5bd14f71427d1e84f3dd0314c0f7b2291e5b200ac8c7c3b925',\n",
       "       '0x00000000000000000000000036a2ffb33c1b427c46c3d30adac3ca4e8ed36179',\n",
       "       '0x0000000000000000000000007a250d5630b4cf539739df2c5dacb4c659f2488d'],\n",
       "      'data': '0xffffffffffffffffffffffffffffffffffffffffffffff95667ba4a72df891d9'},\n",
       "     'trace_index': None},\n",
       "    {'name': '',\n",
       "     'anonymous': False,\n",
       "     'inputs': None,\n",
       "     'raw': {'address': '0xc02aaa39b223fe8d0a0e5c4f27ead9083c756cc2',\n",
       "      'topics': ['0xddf252ad1be2c89b69c2b068fc378daa952ba7f163c4a11628f55a4df523b3ef',\n",
       "       '0x000000000000000000000000e1ebdf64f7f3a31723e767a561345f958233bb7d',\n",
       "       '0x0000000000000000000000007a250d5630b4cf539739df2c5dacb4c659f2488d'],\n",
       "      'data': '0x000000000000000000000000000000000000000000000000058d15e176280000'},\n",
       "     'trace_index': None},\n",
       "    {'name': '',\n",
       "     'anonymous': False,\n",
       "     'inputs': None,\n",
       "     'raw': {'address': '0xe1ebdf64f7f3a31723e767a561345f958233bb7d',\n",
       "      'topics': ['0x1c411e9a96e071241c2f21f7726b17ae89e3cab4c78be50e062b03a9fffbbad1'],\n",
       "      'data': '0x0000000000000000000000000000000000000000000007b3b1c5f1337ba48e31000000000000000000000000000000000000000000000000f53b6b7c5522a4d6'},\n",
       "     'trace_index': None},\n",
       "    {'name': '',\n",
       "     'anonymous': False,\n",
       "     'inputs': None,\n",
       "     'raw': {'address': '0xe1ebdf64f7f3a31723e767a561345f958233bb7d',\n",
       "      'topics': ['0xd78ad95fa46c994b6551d0da85fc275fe613ce37657fb8d5e3d130840159d822',\n",
       "       '0x0000000000000000000000007a250d5630b4cf539739df2c5dacb4c659f2488d',\n",
       "       '0x0000000000000000000000007a250d5630b4cf539739df2c5dacb4c659f2488d'],\n",
       "      'data': '0x00000000000000000000000000000000000000000000002bc5a7a7a906f793a400000000000000000000000000000000000000000000000000000000000000000000000000000000000000000000000000000000000000000000000000000000000000000000000000000000000000000000000000000000058d15e176280000'},\n",
       "     'trace_index': None},\n",
       "    {'name': '',\n",
       "     'anonymous': False,\n",
       "     'inputs': None,\n",
       "     'raw': {'address': '0xc02aaa39b223fe8d0a0e5c4f27ead9083c756cc2',\n",
       "      'topics': ['0x7fcf532c15f0a6db0bd6d0e038bea71d30d808c7d98cb3bf7268a95bf5081b65',\n",
       "       '0x0000000000000000000000007a250d5630b4cf539739df2c5dacb4c659f2488d'],\n",
       "      'data': '0x000000000000000000000000000000000000000000000000058d15e176280000'},\n",
       "     'trace_index': None}],\n",
       "   'balance_diff': [{'address': '0x36A2fFB33C1B427C46C3D30Adac3cA4e8ED36179',\n",
       "     'original': '3645552260913875932',\n",
       "     'dirty': '4045552260913875932',\n",
       "     'is_miner': False},\n",
       "    {'address': '0xC02aaA39b223FE8D0A0e5C4F27eAD9083C756Cc2',\n",
       "     'original': '3036058902932793225040012',\n",
       "     'dirty': '3036058502932793225040012',\n",
       "     'is_miner': False}],\n",
       "   'nonce_diff': [{'address': '0x36A2fFB33C1B427C46C3D30Adac3cA4e8ED36179',\n",
       "     'original': '1799',\n",
       "     'dirty': '1800'}],\n",
       "   'state_diff': [{'address': '0xb0699d63aef20df3f1cffa9ca2bb8670416271d2',\n",
       "     'soltype': None,\n",
       "     'original': None,\n",
       "     'dirty': None,\n",
       "     'raw': [{'address': '0xb0699d63aef20df3f1cffa9ca2bb8670416271d2',\n",
       "       'key': '0x7f960f58c9fb0b00d2cd1656b80b1f457ac170ce71656a6bee55b2264adee3a7',\n",
       "       'original': '0x000000000000000000000000000000000000000000000787ec1e498a74acfa8d',\n",
       "       'dirty': '0x0000000000000000000000000000000000000000000007b3b1c5f1337ba48e31'}]},\n",
       "    {'address': '0xb0699d63aef20df3f1cffa9ca2bb8670416271d2',\n",
       "     'soltype': None,\n",
       "     'original': None,\n",
       "     'dirty': None,\n",
       "     'raw': [{'address': '0xb0699d63aef20df3f1cffa9ca2bb8670416271d2',\n",
       "       'key': '0xa29da9b5ee05f70de61357e9565a31007dd5c952a649606eaae73c85825d5c75',\n",
       "       'original': '0x000000000000000000000000000000000000000000000055e6564f84cac5a74b',\n",
       "       'dirty': '0x00000000000000000000000000000000000000000000002a20aea7dbc3ce13a7'}]},\n",
       "    {'address': '0xb0699d63aef20df3f1cffa9ca2bb8670416271d2',\n",
       "     'soltype': None,\n",
       "     'original': None,\n",
       "     'dirty': None,\n",
       "     'raw': [{'address': '0xb0699d63aef20df3f1cffa9ca2bb8670416271d2',\n",
       "       'key': '0xf3531f5f72028242795dc772c2fd7fb3ba054d0319ca470709dafc0ec7b7f8e9',\n",
       "       'original': '0xffffffffffffffffffffffffffffffffffffffffffffffc12c234c5034f0257d',\n",
       "       'dirty': '0xffffffffffffffffffffffffffffffffffffffffffffff95667ba4a72df891d9'}]},\n",
       "    {'address': '0xc02aaa39b223fe8d0a0e5c4f27ead9083c756cc2',\n",
       "     'soltype': None,\n",
       "     'original': None,\n",
       "     'dirty': None,\n",
       "     'raw': [{'address': '0xc02aaa39b223fe8d0a0e5c4f27ead9083c756cc2',\n",
       "       'key': '0x7be9da7ff8a0f39c9dfd3ede1a9bccfcb6f6bc4c830639f9b621772917b1e9df',\n",
       "       'original': '0x000000000000000000000000000000000000000000000000fac8815dcb4aa4d6',\n",
       "       'dirty': '0x000000000000000000000000000000000000000000000000f53b6b7c5522a4d6'}]},\n",
       "    {'address': '0xe1ebdf64f7f3a31723e767a561345f958233bb7d',\n",
       "     'soltype': None,\n",
       "     'original': None,\n",
       "     'dirty': None,\n",
       "     'raw': [{'address': '0xe1ebdf64f7f3a31723e767a561345f958233bb7d',\n",
       "       'key': '0x0000000000000000000000000000000000000000000000000000000000000008',\n",
       "       'original': '0x65ef0043000000000000fac8815dcb4aa4d6000000000787ec1e498a74acfa8d',\n",
       "       'dirty': '0x65ef008b000000000000f53b6b7c5522a4d60000000007b3b1c5f1337ba48e31'}]},\n",
       "    {'address': '0xe1ebdf64f7f3a31723e767a561345f958233bb7d',\n",
       "     'soltype': None,\n",
       "     'original': None,\n",
       "     'dirty': None,\n",
       "     'raw': [{'address': '0xe1ebdf64f7f3a31723e767a561345f958233bb7d',\n",
       "       'key': '0x0000000000000000000000000000000000000000000000000000000000000009',\n",
       "       'original': '0x00000000000000000000000000000000007175a42ca8cf229828f6d5d33d855c',\n",
       "       'dirty': '0x0000000000000000000000000000000000717f01ccdee1b4be46d4812a066afc'}]},\n",
       "    {'address': '0xe1ebdf64f7f3a31723e767a561345f958233bb7d',\n",
       "     'soltype': None,\n",
       "     'original': None,\n",
       "     'dirty': None,\n",
       "     'raw': [{'address': '0xe1ebdf64f7f3a31723e767a561345f958233bb7d',\n",
       "       'key': '0x000000000000000000000000000000000000000000000000000000000000000a',\n",
       "       'original': '0x000000000000000000000000000008ec6bcda8f96a947118e2b79ee7865fdfbc',\n",
       "       'dirty': '0x000000000000000000000000000008ee954f97df95947836573481a6397eab8c'}]}],\n",
       "   'raw_state_diff': None,\n",
       "   'console_logs': None,\n",
       "   'asset_changes': [{'token_info': {'standard': 'ERC20',\n",
       "      'contract_address': '0xb0699d63aef20df3f1cffa9ca2bb8670416271d2'},\n",
       "     'type': 'Transfer',\n",
       "     'from': '0x36a2ffb33c1b427c46c3d30adac3ca4e8ed36179',\n",
       "     'to': '0xe1ebdf64f7f3a31723e767a561345f958233bb7d',\n",
       "     'amount': None,\n",
       "     'raw_amount': '807452531860501402532',\n",
       "     'dollar_value': None},\n",
       "    {'token_info': {'standard': 'ERC20',\n",
       "      'type': 'Fungible',\n",
       "      'contract_address': '0xc02aaa39b223fe8d0a0e5c4f27ead9083c756cc2',\n",
       "      'symbol': 'weth',\n",
       "      'name': 'WETH',\n",
       "      'logo': 'https://assets.coingecko.com/coins/images/2518/large/weth.png?1696503332',\n",
       "      'decimals': 18,\n",
       "      'dollar_value': '3578.77001953125'},\n",
       "     'type': 'Transfer',\n",
       "     'from': '0xe1ebdf64f7f3a31723e767a561345f958233bb7d',\n",
       "     'to': '0x7a250d5630b4cf539739df2c5dacb4c659f2488d',\n",
       "     'amount': '0.4',\n",
       "     'raw_amount': '400000000000000000',\n",
       "     'dollar_value': '1431.5080078125'},\n",
       "    {'token_info': {'standard': 'ERC20',\n",
       "      'type': 'Fungible',\n",
       "      'contract_address': '0xc02aaa39b223fe8d0a0e5c4f27ead9083c756cc2',\n",
       "      'symbol': 'weth',\n",
       "      'name': 'WETH',\n",
       "      'logo': 'https://assets.coingecko.com/coins/images/2518/large/weth.png?1696503332',\n",
       "      'decimals': 18,\n",
       "      'dollar_value': '3578.77001953125'},\n",
       "     'type': 'Burn',\n",
       "     'from': '0x7a250d5630b4cf539739df2c5dacb4c659f2488d',\n",
       "     'amount': '0.4',\n",
       "     'raw_amount': '400000000000000000',\n",
       "     'dollar_value': '1431.5080078125'},\n",
       "    {'token_info': {'standard': 'NativeCurrency',\n",
       "      'type': 'Native',\n",
       "      'symbol': 'eth',\n",
       "      'name': 'Ethereum',\n",
       "      'logo': 'https://assets.coingecko.com/coins/images/279/large/ethereum.png?1696501628',\n",
       "      'decimals': 18,\n",
       "      'dollar_value': '3581.510009765625'},\n",
       "     'type': 'Transfer',\n",
       "     'from': '0xc02aaa39b223fe8d0a0e5c4f27ead9083c756cc2',\n",
       "     'to': '0x7a250d5630b4cf539739df2c5dacb4c659f2488d',\n",
       "     'amount': '0.4',\n",
       "     'raw_amount': '400000000000000000',\n",
       "     'dollar_value': '1432.60400390625'},\n",
       "    {'token_info': {'standard': 'NativeCurrency',\n",
       "      'type': 'Native',\n",
       "      'symbol': 'eth',\n",
       "      'name': 'Ethereum',\n",
       "      'logo': 'https://assets.coingecko.com/coins/images/279/large/ethereum.png?1696501628',\n",
       "      'decimals': 18,\n",
       "      'dollar_value': '3581.510009765625'},\n",
       "     'type': 'Transfer',\n",
       "     'from': '0x7a250d5630b4cf539739df2c5dacb4c659f2488d',\n",
       "     'to': '0x36a2ffb33c1b427c46c3d30adac3ca4e8ed36179',\n",
       "     'amount': '0.4',\n",
       "     'raw_amount': '400000000000000000',\n",
       "     'dollar_value': '1432.60400390625'}],\n",
       "   'balance_changes': [{'address': '0x36a2ffb33c1b427c46c3d30adac3ca4e8ed36179',\n",
       "     'dollar_value': '1432.60400390625',\n",
       "     'transfers': [0, 4]},\n",
       "    {'address': '0x7a250d5630b4cf539739df2c5dacb4c659f2488d',\n",
       "     'dollar_value': '0',\n",
       "     'transfers': [1, 2, 3, 4]},\n",
       "    {'address': '0xc02aaa39b223fe8d0a0e5c4f27ead9083c756cc2',\n",
       "     'dollar_value': '-1432.60400390625',\n",
       "     'transfers': [3]},\n",
       "    {'address': '0xe1ebdf64f7f3a31723e767a561345f958233bb7d',\n",
       "     'dollar_value': '-1431.5080078125',\n",
       "     'transfers': [0, 1]}],\n",
       "   'created_at': '2024-03-11T13:00:59Z'},\n",
       "  'method': '',\n",
       "  'decoded_input': None,\n",
       "  'call_trace': [{'call_type': 'CALL',\n",
       "    'from': '0x36a2ffb33c1b427c46c3d30adac3ca4e8ed36179',\n",
       "    'to': '0x7a250d5630b4cf539739df2c5dacb4c659f2488d',\n",
       "    'gas': 9223372036854752747,\n",
       "    'gas_used': 142036,\n",
       "    'address': '0x7a250d5630b4cf539739df2c5dacb4c659f2488d',\n",
       "    'subtraces': 5,\n",
       "    'input': '0x4a25d94a000000000000000000000000000000000000000000000000058d15e17628000000000000000000000000000000000000000000000000002f461b77a211c3b3ee00000000000000000000000000000000000000000000000000000000000000a000000000000000000000000036a2ffb33c1b427c46c3d30adac3ca4e8ed361790000000000000000000000000000000000000000000000000000000065ef077b0000000000000000000000000000000000000000000000000000000000000002000000000000000000000000b0699d63aef20df3f1cffa9ca2bb8670416271d2000000000000000000000000c02aaa39b223fe8d0a0e5c4f27ead9083c756cc2',\n",
       "    'output': '0x0000000000000000000000000000000000000000000000000000000000000020000000000000000000000000000000000000000000000000000000000000000200000000000000000000000000000000000000000000002bc5a7a7a906f793a4000000000000000000000000000000000000000000000000058d15e176280000',\n",
       "    'fromBalance': '0x32979a7761e4cbdc',\n",
       "    'toBalance': '0x58d15e17628000'},\n",
       "   {'call_type': 'STATICCALL',\n",
       "    'from': '0x7a250d5630b4cf539739df2c5dacb4c659f2488d',\n",
       "    'to': '0xe1ebdf64f7f3a31723e767a561345f958233bb7d',\n",
       "    'gas': 9079256848778892500,\n",
       "    'gas_used': 2504,\n",
       "    'address': '0xe1ebdf64f7f3a31723e767a561345f958233bb7d',\n",
       "    'trace_address': [0],\n",
       "    'input': '0x0902f1ac',\n",
       "    'output': '0x000000000000000000000000000000000000000000000787ec1e498a74acfa8d000000000000000000000000000000000000000000000000fac8815dcb4aa4d60000000000000000000000000000000000000000000000000000000065ef0043',\n",
       "    'gas_in': 9223372036854748042,\n",
       "    'gas_cost': 9079256848778892606,\n",
       "    'fromBalance': '0x58d15e17628000'},\n",
       "   {'call_type': 'CALL',\n",
       "    'from': '0x7a250d5630b4cf539739df2c5dacb4c659f2488d',\n",
       "    'to': '0xb0699d63aef20df3f1cffa9ca2bb8670416271d2',\n",
       "    'gas': 9079256848778884765,\n",
       "    'gas_used': 44797,\n",
       "    'address': '0xb0699d63aef20df3f1cffa9ca2bb8670416271d2',\n",
       "    'trace_address': [1],\n",
       "    'input': '0x23b872dd00000000000000000000000036a2ffb33c1b427c46c3d30adac3ca4e8ed36179000000000000000000000000e1ebdf64f7f3a31723e767a561345f958233bb7d00000000000000000000000000000000000000000000002bc5a7a7a906f793a4',\n",
       "    'output': '0x0000000000000000000000000000000000000000000000000000000000000001',\n",
       "    'gas_in': 9223372036854742678,\n",
       "    'gas_cost': 9079256848778887365,\n",
       "    'fromBalance': '0x58d15e17628000',\n",
       "    'toBalance': '0x81ad7663141316'},\n",
       "   {'call_type': 'CALL',\n",
       "    'from': '0x7a250d5630b4cf539739df2c5dacb4c659f2488d',\n",
       "    'to': '0xe1ebdf64f7f3a31723e767a561345f958233bb7d',\n",
       "    'gas': 9079256848778838475,\n",
       "    'gas_used': 64980,\n",
       "    'address': '0xe1ebdf64f7f3a31723e767a561345f958233bb7d',\n",
       "    'subtraces': 3,\n",
       "    'trace_address': [2],\n",
       "    'input': '0x022c0d9f0000000000000000000000000000000000000000000000000000000000000000000000000000000000000000000000000000000000000000058d15e1762800000000000000000000000000007a250d5630b4cf539739df2c5dacb4c659f2488d00000000000000000000000000000000000000000000000000000000000000800000000000000000000000000000000000000000000000000000000000000000',\n",
       "    'gas_in': 9223372036854693153,\n",
       "    'gas_cost': 9079256848778838575,\n",
       "    'fromBalance': '0x58d15e17628000'},\n",
       "   {'call_type': 'CALL',\n",
       "    'from': '0xe1ebdf64f7f3a31723e767a561345f958233bb7d',\n",
       "    'to': '0xc02aaa39b223fe8d0a0e5c4f27ead9083c756cc2',\n",
       "    'gas': 8937393460516655928,\n",
       "    'gas_used': 29962,\n",
       "    'address': '0xc02aaa39b223fe8d0a0e5c4f27ead9083c756cc2',\n",
       "    'trace_address': [2, 0],\n",
       "    'input': '0xa9059cbb0000000000000000000000007a250d5630b4cf539739df2c5dacb4c659f2488d000000000000000000000000000000000000000000000000058d15e176280000',\n",
       "    'output': '0x0000000000000000000000000000000000000000000000000000000000000001',\n",
       "    'gas_in': 9079256848778827669,\n",
       "    'gas_cost': 8937393460516658528,\n",
       "    'toBalance': '0x0282e9153a17e78a62d08c'},\n",
       "   {'call_type': 'STATICCALL',\n",
       "    'from': '0xe1ebdf64f7f3a31723e767a561345f958233bb7d',\n",
       "    'to': '0xb0699d63aef20df3f1cffa9ca2bb8670416271d2',\n",
       "    'gas': 8937393460516625832,\n",
       "    'gas_used': 661,\n",
       "    'address': '0xb0699d63aef20df3f1cffa9ca2bb8670416271d2',\n",
       "    'trace_address': [2, 1],\n",
       "    'input': '0x70a08231000000000000000000000000e1ebdf64f7f3a31723e767a561345f958233bb7d',\n",
       "    'output': '0x0000000000000000000000000000000000000000000007b3b1c5f1337ba48e31',\n",
       "    'gas_in': 9079256848778794596,\n",
       "    'gas_cost': 8937393460516625932,\n",
       "    'toBalance': '0x81ad7663141316'},\n",
       "   {'call_type': 'STATICCALL',\n",
       "    'from': '0xe1ebdf64f7f3a31723e767a561345f958233bb7d',\n",
       "    'to': '0xc02aaa39b223fe8d0a0e5c4f27ead9083c756cc2',\n",
       "    'gas': 8937393460516624776,\n",
       "    'gas_used': 534,\n",
       "    'address': '0xc02aaa39b223fe8d0a0e5c4f27ead9083c756cc2',\n",
       "    'trace_address': [2, 2],\n",
       "    'input': '0x70a08231000000000000000000000000e1ebdf64f7f3a31723e767a561345f958233bb7d',\n",
       "    'output': '0x000000000000000000000000000000000000000000000000f53b6b7c5522a4d6',\n",
       "    'gas_in': 9079256848778793523,\n",
       "    'gas_cost': 8937393460516624876,\n",
       "    'toBalance': '0x0282e9153a17e78a62d08c'},\n",
       "   {'call_type': 'CALL',\n",
       "    'from': '0x7a250d5630b4cf539739df2c5dacb4c659f2488d',\n",
       "    'to': '0xc02aaa39b223fe8d0a0e5c4f27ead9083c756cc2',\n",
       "    'gas': 9079256848778774003,\n",
       "    'gas_used': 9223,\n",
       "    'address': '0xc02aaa39b223fe8d0a0e5c4f27ead9083c756cc2',\n",
       "    'subtraces': 1,\n",
       "    'trace_address': [3],\n",
       "    'input': '0x2e1a7d4d000000000000000000000000000000000000000000000000058d15e176280000',\n",
       "    'gas_in': 9223372036854627658,\n",
       "    'gas_cost': 9079256848778774103,\n",
       "    'fromBalance': '0x58d15e17628000',\n",
       "    'toBalance': '0x0282e9153a17e78a62d08c'},\n",
       "   {'call_type': 'CALL',\n",
       "    'from': '0xc02aaa39b223fe8d0a0e5c4f27ead9083c756cc2',\n",
       "    'to': '0x7a250d5630b4cf539739df2c5dacb4c659f2488d',\n",
       "    'gas': 2300,\n",
       "    'gas_used': 83,\n",
       "    'value': '0x058d15e176280000',\n",
       "    'address': '0x7a250d5630b4cf539739df2c5dacb4c659f2488d',\n",
       "    'trace_address': [3, 0],\n",
       "    'gas_in': 9079256848778773152,\n",
       "    'gas_cost': 9100,\n",
       "    'fromBalance': '0x0282e9153a17e78a62d08c',\n",
       "    'toBalance': '0x58d15e17628000'},\n",
       "   {'call_type': 'CALL',\n",
       "    'from': '0x7a250d5630b4cf539739df2c5dacb4c659f2488d',\n",
       "    'to': '0x36a2ffb33c1b427c46c3d30adac3ca4e8ed36179',\n",
       "    'gas': 9079256848778757867,\n",
       "    'value': '0x058d15e176280000',\n",
       "    'address': '0x36a2ffb33c1b427c46c3d30adac3ca4e8ed36179',\n",
       "    'trace_address': [4],\n",
       "    'gas_in': 9223372036854617929,\n",
       "    'gas_cost': 9079256848778764667,\n",
       "    'fromBalance': '0x05e5e73f8d8a8000',\n",
       "    'toBalance': '0x32979a7761e4cbdc'}]},\n",
       " 'simulation': {'id': 'cfe6b722-3ba0-4132-90e2-c1345be45556',\n",
       "  'project_id': '85458be4-b610-457c-a5a5-51dbe1a1fe5c',\n",
       "  'owner_id': '60c6d750-7e6d-47ce-b6f0-be64f0df2aa4',\n",
       "  'network_id': '1',\n",
       "  'block_number': 19412019,\n",
       "  'transaction_index': 0,\n",
       "  'from': '0x36A2fFB33C1B427C46C3D30Adac3cA4e8ED36179',\n",
       "  'to': '0x7a250d5630B4cF539739dF2C5dAcb4c659F2488D',\n",
       "  'input': '0x4a25d94a000000000000000000000000000000000000000000000000058d15e17628000000000000000000000000000000000000000000000000002f461b77a211c3b3ee00000000000000000000000000000000000000000000000000000000000000a000000000000000000000000036a2ffb33c1b427c46c3d30adac3ca4e8ed361790000000000000000000000000000000000000000000000000000000065ef077b0000000000000000000000000000000000000000000000000000000000000002000000000000000000000000b0699d63aef20df3f1cffa9ca2bb8670416271d2000000000000000000000000c02aaa39b223fe8d0a0e5c4f27ead9083c756cc2',\n",
       "  'gas': 0,\n",
       "  'gas_price': '0',\n",
       "  'gas_used': 142396,\n",
       "  'value': '0',\n",
       "  'status': True,\n",
       "  'access_list': None,\n",
       "  'queue_origin': '',\n",
       "  'block_header': {'number': '0x1283433',\n",
       "   'hash': '0x0000000000000000000000000000000000000000000000000000000000000000',\n",
       "   'stateRoot': '0x8bdbe68af67862c60a0809cbd83aeba6f3e3d077cd56b16522d62bc77e31897a',\n",
       "   'parentHash': '0x0891ac4c4c43f987a5cf6074f8b943e19beb0c723874e4c8fbdfdc47591d2153',\n",
       "   'sha3Uncles': '0x1dcc4de8dec75d7aab85b567b6ccd41ad312451b948a7413f0a142fd40d49347',\n",
       "   'transactionsRoot': '0xfab76ea29d34b8a47a43d6d7cc0d5d63338eea33a56db19406432ed2aa08f9ee',\n",
       "   'receiptsRoot': '0xa75c31eedbe7588351f00ef60b74df6bc6e24681a16d40876d7ae654fd263214',\n",
       "   'logsBloom': '0x497b9152589840a63a6a8a009000121b93c140122bfe80006d9de0142f0a4eea2474c58d103403308aa313883e9a1f9a93a0a6709e92f9f023097189086a2944da4af1dee223281b6c22e018820244e6992829871cd23e403924c6c8c3242005621c8a0d0f438501044dd2b2ae607c89e212022e41024d8b96aa4534a91f433023114bb84286a70844e13143b300062409193aa9e9dd408a613be2f3c09e70a813dcc9795cd1ea132e7114cf8e9bafa88b69e106a83207802f55049a4004ccf0b37850d222c8ca674768618b0009a3e6e4b0a1e31a08691c1a93914e8930e1489078f0298d31238b279443a122c0180552abd4a2cb084c651235302d18c3580d',\n",
       "   'timestamp': '0x65ef008b',\n",
       "   'difficulty': '0x0',\n",
       "   'gasLimit': '0x1c9c380',\n",
       "   'gasUsed': '0xae2e39',\n",
       "   'miner': '0x95222290dd7278aa3ddd389cc1e1d165cc4bafe5',\n",
       "   'extraData': '0x6265617665726275696c642e6f7267',\n",
       "   'mixHash': '0x4474ef7979aac444805796ec97eaa333714935de5ee0a56626a51a30b0ffebc1',\n",
       "   'nonce': '0x0000000000000000',\n",
       "   'baseFeePerGas': '0x11c71f6253',\n",
       "   'size': '0x0',\n",
       "   'totalDifficulty': '0x0',\n",
       "   'uncles': None,\n",
       "   'transactions': None},\n",
       "  'deposit_tx': False,\n",
       "  'system_tx': False,\n",
       "  'nonce': 1799,\n",
       "  'addresses': None,\n",
       "  'contract_ids': None,\n",
       "  'shared': False,\n",
       "  'created_at': '2024-03-28T09:53:29.140028783Z'},\n",
       " 'contracts': [],\n",
       " 'generated_access_list': []}"
      ]
     },
     "execution_count": 121,
     "metadata": {},
     "output_type": "execute_result"
    }
   ],
   "source": [
    "response.json()"
   ]
  },
  {
   "cell_type": "code",
   "execution_count": 141,
   "metadata": {},
   "outputs": [
    {
     "name": "stdout",
     "output_type": "stream",
     "text": [
      "807452531860501402532\n",
      "None\n",
      "400000000000000000\n",
      "1431.5080078125\n",
      "400000000000000000\n",
      "1431.5080078125\n",
      "400000000000000000\n",
      "1432.60400390625\n",
      "400000000000000000\n",
      "1432.60400390625\n"
     ]
    }
   ],
   "source": [
    "for i in range(5):\n",
    "    print(response.json()['transaction']['transaction_info']['asset_changes'][i]['raw_amount'])\n",
    "    print(response.json()['transaction']['transaction_info']['asset_changes'][i]['dollar_value'])"
   ]
  },
  {
   "cell_type": "code",
   "execution_count": 133,
   "metadata": {},
   "outputs": [
    {
     "data": {
      "text/plain": [
       "[{'address': '0x36a2ffb33c1b427c46c3d30adac3ca4e8ed36179',\n",
       "  'dollar_value': '1432.60400390625',\n",
       "  'transfers': [0, 4]},\n",
       " {'address': '0x7a250d5630b4cf539739df2c5dacb4c659f2488d',\n",
       "  'dollar_value': '0',\n",
       "  'transfers': [1, 2, 3, 4]},\n",
       " {'address': '0xc02aaa39b223fe8d0a0e5c4f27ead9083c756cc2',\n",
       "  'dollar_value': '-1432.60400390625',\n",
       "  'transfers': [3]},\n",
       " {'address': '0xe1ebdf64f7f3a31723e767a561345f958233bb7d',\n",
       "  'dollar_value': '-1431.5080078125',\n",
       "  'transfers': [0, 1]}]"
      ]
     },
     "execution_count": 133,
     "metadata": {},
     "output_type": "execute_result"
    }
   ],
   "source": [
    "response.json()['transaction']['transaction_info']['balance_changes']"
   ]
  },
  {
   "cell_type": "code",
   "execution_count": null,
   "metadata": {},
   "outputs": [],
   "source": [
    "import web3\n",
    "from web3 import Web3\n",
    "w3 = Web3(Web3.HTTPProvider(\"http://127.0.0.1:8545\"))\n",
    "from web3.contract import Contract\n",
    "...\n",
    "contract = web3.eth.contract(address=Web3.toChecksumAddress(tokenAddress), abi=abi)\n",
    "contract.functions.decode_function_input(transaction.input)"
   ]
  },
  {
   "cell_type": "code",
   "execution_count": 39,
   "metadata": {},
   "outputs": [
    {
     "data": {
      "text/plain": [
       "True"
      ]
     },
     "execution_count": 39,
     "metadata": {},
     "output_type": "execute_result"
    }
   ],
   "source": [
    "from web3 import Web3, EthereumTesterProvider\n",
    "w3 = Web3(EthereumTesterProvider())\n",
    "w3.is_connected()\n",
    "#web3.eth.get_transaction(tx_hash)"
   ]
  },
  {
   "cell_type": "code",
   "execution_count": 180,
   "metadata": {},
   "outputs": [
    {
     "name": "stdout",
     "output_type": "stream",
     "text": [
      "AttributeDict({'blockHash': HexBytes('0x2c1ca96b35f726a2171d3ebc050e390aca8dd1f83a2364ffa8cab9910143ee01'), 'blockNumber': 19412019, 'hash': HexBytes('0x1ee8d8e23e4a026ce8afbf2dc79c196c6b1d43d5e9f8ebb80b968a367ed5e581'), 'yParity': 0, 'accessList': [], 'transactionIndex': 2, 'type': 2, 'nonce': 1799, 'input': HexBytes('0x4a25d94a000000000000000000000000000000000000000000000000058d15e17628000000000000000000000000000000000000000000000000002f461b77a211c3b3ee00000000000000000000000000000000000000000000000000000000000000a000000000000000000000000036a2ffb33c1b427c46c3d30adac3ca4e8ed361790000000000000000000000000000000000000000000000000000000065ef077b0000000000000000000000000000000000000000000000000000000000000002000000000000000000000000b0699d63aef20df3f1cffa9ca2bb8670416271d2000000000000000000000000c02aaa39b223fe8d0a0e5c4f27ead9083c756cc2'), 'r': HexBytes('0xad8743a8c08357fb122fe099ce4ab1cc5155197bf17da09dd74b9bc435edf713'), 's': HexBytes('0x6ac3aca96164f1bf4582dc771aa945939eccac0c562a288a6c93218a78a9f508'), 'chainId': 1, 'v': 0, 'gas': 200373, 'maxPriorityFeePerGas': 99000000, 'from': '0x36A2fFB33C1B427C46C3D30Adac3cA4e8ED36179', 'to': '0x7a250d5630B4cF539739dF2C5dAcb4c659F2488D', 'maxFeePerGas': 105130000000, 'value': 0, 'gasPrice': 76454166803})\n"
     ]
    }
   ],
   "source": [
    "# main.py\n",
    "from web3 import Web3\n",
    "import json \n",
    "\n",
    "# Setup\n",
    "alchemy_url = \"https://eth-mainnet.g.alchemy.com/v2/l-WPR6c5Gh6xVA8uOEuH1xy8VfocT0uH\"\n",
    "w3 = Web3(Web3.HTTPProvider(alchemy_url))\n",
    "\n",
    "# Get the information of a transaction\n",
    "tx = w3.eth.get_transaction('0x1ee8d8e23e4a026ce8afbf2dc79c196c6b1d43d5e9f8ebb80b968a367ed5e581')\n",
    "print(tx)\n",
    "\n",
    "# Get ABI for smart contract NOTE: Use \"to\" address as smart contract 'interacted with'\n",
    "abi_endpoint = f\"https://api.etherscan.io/api?module=contract&action=getabi&address={tx['to']}&apikey={eth_scan_api_key}\"\n",
    "abi = json.loads(requests.get(abi_endpoint).text)\n",
    "\n",
    "\n",
    "# Create Web3 contract object\n",
    "contract = w3.eth.contract(address=tx[\"to\"], abi=abi[\"result\"])\n",
    "\n",
    "\n",
    "# Decode input data using Contract object's decode_function_input() method\n",
    "func_obj, func_params = contract.decode_function_input(tx[\"input\"])"
   ]
  },
  {
   "cell_type": "code",
   "execution_count": 181,
   "metadata": {},
   "outputs": [
    {
     "data": {
      "text/plain": [
       "AttributeDict({'blockHash': HexBytes('0x2c1ca96b35f726a2171d3ebc050e390aca8dd1f83a2364ffa8cab9910143ee01'),\n",
       " 'blockNumber': 19412019,\n",
       " 'hash': HexBytes('0x1ee8d8e23e4a026ce8afbf2dc79c196c6b1d43d5e9f8ebb80b968a367ed5e581'),\n",
       " 'yParity': 0,\n",
       " 'accessList': [],\n",
       " 'transactionIndex': 2,\n",
       " 'type': 2,\n",
       " 'nonce': 1799,\n",
       " 'input': HexBytes('0x4a25d94a000000000000000000000000000000000000000000000000058d15e17628000000000000000000000000000000000000000000000000002f461b77a211c3b3ee00000000000000000000000000000000000000000000000000000000000000a000000000000000000000000036a2ffb33c1b427c46c3d30adac3ca4e8ed361790000000000000000000000000000000000000000000000000000000065ef077b0000000000000000000000000000000000000000000000000000000000000002000000000000000000000000b0699d63aef20df3f1cffa9ca2bb8670416271d2000000000000000000000000c02aaa39b223fe8d0a0e5c4f27ead9083c756cc2'),\n",
       " 'r': HexBytes('0xad8743a8c08357fb122fe099ce4ab1cc5155197bf17da09dd74b9bc435edf713'),\n",
       " 's': HexBytes('0x6ac3aca96164f1bf4582dc771aa945939eccac0c562a288a6c93218a78a9f508'),\n",
       " 'chainId': 1,\n",
       " 'v': 0,\n",
       " 'gas': 200373,\n",
       " 'maxPriorityFeePerGas': 99000000,\n",
       " 'from': '0x36A2fFB33C1B427C46C3D30Adac3cA4e8ED36179',\n",
       " 'to': '0x7a250d5630B4cF539739dF2C5dAcb4c659F2488D',\n",
       " 'maxFeePerGas': 105130000000,\n",
       " 'value': 0,\n",
       " 'gasPrice': 76454166803})"
      ]
     },
     "execution_count": 181,
     "metadata": {},
     "output_type": "execute_result"
    }
   ],
   "source": [
    "tx"
   ]
  },
  {
   "cell_type": "code",
   "execution_count": 81,
   "metadata": {},
   "outputs": [
    {
     "data": {
      "text/plain": [
       "{'amountOut': 400000000000000000,\n",
       " 'amountInMax': 872048734409341514734,\n",
       " 'path': ['0xb0699d63aef20dF3F1cfFa9Ca2bB8670416271d2',\n",
       "  '0xC02aaA39b223FE8D0A0e5C4F27eAD9083C756Cc2'],\n",
       " 'to': '0x36A2fFB33C1B427C46C3D30Adac3cA4e8ED36179',\n",
       " 'deadline': 1710163835}"
      ]
     },
     "execution_count": 81,
     "metadata": {},
     "output_type": "execute_result"
    }
   ],
   "source": [
    "func_params"
   ]
  },
  {
   "cell_type": "code",
   "execution_count": 82,
   "metadata": {},
   "outputs": [
    {
     "data": {
      "text/plain": [
       "HexBytes('0x4a25d94a000000000000000000000000000000000000000000000000058d15e17628000000000000000000000000000000000000000000000000002f461b77a211c3b3ee00000000000000000000000000000000000000000000000000000000000000a000000000000000000000000036a2ffb33c1b427c46c3d30adac3ca4e8ed361790000000000000000000000000000000000000000000000000000000065ef077b0000000000000000000000000000000000000000000000000000000000000002000000000000000000000000b0699d63aef20df3f1cffa9ca2bb8670416271d2000000000000000000000000c02aaa39b223fe8d0a0e5c4f27ead9083c756cc2')"
      ]
     },
     "execution_count": 82,
     "metadata": {},
     "output_type": "execute_result"
    }
   ],
   "source": [
    "from hexbytes import HexBytes\n",
    "hb = HexBytes('0x4a25d94a000000000000000000000000000000000000000000000000058d15e17628000000000000000000000000000000000000000000000000002f461b77a211c3b3ee00000000000000000000000000000000000000000000000000000000000000a000000000000000000000000036a2ffb33c1b427c46c3d30adac3ca4e8ed361790000000000000000000000000000000000000000000000000000000065ef077b0000000000000000000000000000000000000000000000000000000000000002000000000000000000000000b0699d63aef20df3f1cffa9ca2bb8670416271d2000000000000000000000000c02aaa39b223fe8d0a0e5c4f27ead9083c756cc2')\n",
    "hb"
   ]
  },
  {
   "cell_type": "code",
   "execution_count": 85,
   "metadata": {},
   "outputs": [],
   "source": [
    "# Create Web3 contract object\n",
    "contract2 = w3.eth.contract(address=tx[\"to\"], abi=abi[\"result\"])\n",
    "func_obj2, func_params2 = contract2.decode_function_input(hb)"
   ]
  },
  {
   "cell_type": "code",
   "execution_count": 96,
   "metadata": {},
   "outputs": [
    {
     "data": {
      "text/plain": [
       "AttributeDict({'blockHash': HexBytes('0x2c1ca96b35f726a2171d3ebc050e390aca8dd1f83a2364ffa8cab9910143ee01'),\n",
       " 'blockNumber': 19412019,\n",
       " 'hash': HexBytes('0x1ee8d8e23e4a026ce8afbf2dc79c196c6b1d43d5e9f8ebb80b968a367ed5e581'),\n",
       " 'yParity': 0,\n",
       " 'accessList': [],\n",
       " 'transactionIndex': 2,\n",
       " 'type': 2,\n",
       " 'nonce': 1799,\n",
       " 'input': HexBytes('0x4a25d94a000000000000000000000000000000000000000000000000058d15e17628000000000000000000000000000000000000000000000000002f461b77a211c3b3ee00000000000000000000000000000000000000000000000000000000000000a000000000000000000000000036a2ffb33c1b427c46c3d30adac3ca4e8ed361790000000000000000000000000000000000000000000000000000000065ef077b0000000000000000000000000000000000000000000000000000000000000002000000000000000000000000b0699d63aef20df3f1cffa9ca2bb8670416271d2000000000000000000000000c02aaa39b223fe8d0a0e5c4f27ead9083c756cc2'),\n",
       " 'r': HexBytes('0xad8743a8c08357fb122fe099ce4ab1cc5155197bf17da09dd74b9bc435edf713'),\n",
       " 's': HexBytes('0x6ac3aca96164f1bf4582dc771aa945939eccac0c562a288a6c93218a78a9f508'),\n",
       " 'chainId': 1,\n",
       " 'v': 0,\n",
       " 'gas': 200373,\n",
       " 'maxPriorityFeePerGas': 99000000,\n",
       " 'from': '0x36A2fFB33C1B427C46C3D30Adac3cA4e8ED36179',\n",
       " 'to': '0x7a250d5630B4cF539739dF2C5dAcb4c659F2488D',\n",
       " 'maxFeePerGas': 105130000000,\n",
       " 'value': 0,\n",
       " 'gasPrice': 76454166803})"
      ]
     },
     "execution_count": 96,
     "metadata": {},
     "output_type": "execute_result"
    }
   ],
   "source": [
    "tx_hash = '0x1ee8d8e23e4a026ce8afbf2dc79c196c6b1d43d5e9f8ebb80b968a367ed5e581'\n",
    "info = w3.eth.get_transaction(tx_hash)\n",
    "info"
   ]
  },
  {
   "cell_type": "code",
   "execution_count": 93,
   "metadata": {},
   "outputs": [
    {
     "data": {
      "text/plain": [
       "HexBytes('0x4a25d94a000000000000000000000000000000000000000000000000058d15e17628000000000000000000000000000000000000000000000000002f461b77a211c3b3ee00000000000000000000000000000000000000000000000000000000000000a000000000000000000000000036a2ffb33c1b427c46c3d30adac3ca4e8ed361790000000000000000000000000000000000000000000000000000000065ef077b0000000000000000000000000000000000000000000000000000000000000002000000000000000000000000b0699d63aef20df3f1cffa9ca2bb8670416271d2000000000000000000000000c02aaa39b223fe8d0a0e5c4f27ead9083c756cc2')"
      ]
     },
     "execution_count": 93,
     "metadata": {},
     "output_type": "execute_result"
    }
   ],
   "source": [
    "info['input']"
   ]
  },
  {
   "cell_type": "code",
   "execution_count": 94,
   "metadata": {},
   "outputs": [],
   "source": [
    "func_obj2, a = contract2.decode_function_input(info['input'])"
   ]
  },
  {
   "cell_type": "code",
   "execution_count": 95,
   "metadata": {},
   "outputs": [
    {
     "data": {
      "text/plain": [
       "{'amountOut': 400000000000000000,\n",
       " 'amountInMax': 872048734409341514734,\n",
       " 'path': ['0xb0699d63aef20dF3F1cfFa9Ca2bB8670416271d2',\n",
       "  '0xC02aaA39b223FE8D0A0e5C4F27eAD9083C756Cc2'],\n",
       " 'to': '0x36A2fFB33C1B427C46C3D30Adac3cA4e8ED36179',\n",
       " 'deadline': 1710163835}"
      ]
     },
     "execution_count": 95,
     "metadata": {},
     "output_type": "execute_result"
    }
   ],
   "source": [
    "func_params2"
   ]
  },
  {
   "cell_type": "markdown",
   "metadata": {},
   "source": [
    "# calculate the difference (in the coin) between position we have vs. position 0"
   ]
  },
  {
   "cell_type": "markdown",
   "metadata": {},
   "source": [
    "We have a difference of 42 BRETT"
   ]
  },
  {
   "cell_type": "code",
   "execution_count": 143,
   "metadata": {},
   "outputs": [
    {
     "data": {
      "text/plain": [
       "64596202548840112202"
      ]
     },
     "execution_count": 143,
     "metadata": {},
     "output_type": "execute_result"
    }
   ],
   "source": [
    "872048734409341514734 - 807452531860501402532"
   ]
  },
  {
   "cell_type": "code",
   "execution_count": 145,
   "metadata": {},
   "outputs": [
    {
     "data": {
      "text/plain": [
       "872048734332887347931"
      ]
     },
     "execution_count": 145,
     "metadata": {},
     "output_type": "execute_result"
    }
   ],
   "source": [
    "872048734409341514734 - 76454166803"
   ]
  },
  {
   "cell_type": "code",
   "execution_count": 154,
   "metadata": {},
   "outputs": [
    {
     "data": {
      "text/plain": [
       "8.50586932444152e+20"
      ]
     },
     "execution_count": 154,
     "metadata": {},
     "output_type": "execute_result"
    }
   ],
   "source": [
    "872048734409341514734 - (872048734409341514734/0.41)*0.01009042093465994 "
   ]
  },
  {
   "cell_type": "code",
   "execution_count": 170,
   "metadata": {},
   "outputs": [
    {
     "data": {
      "text/plain": [
       "15319350764817519"
      ]
     },
     "execution_count": 170,
     "metadata": {},
     "output_type": "execute_result"
    }
   ],
   "source": [
    "76454166803*200373"
   ]
  },
  {
   "cell_type": "code",
   "execution_count": 174,
   "metadata": {},
   "outputs": [
    {
     "data": {
      "text/plain": [
       "856729383644523995734"
      ]
     },
     "execution_count": 174,
     "metadata": {},
     "output_type": "execute_result"
    }
   ],
   "source": [
    "872048734409341514734 - 76454166803*200373*1000"
   ]
  },
  {
   "cell_type": "code",
   "execution_count": 176,
   "metadata": {},
   "outputs": [
    {
     "data": {
      "text/plain": [
       "0.01009042093465994"
      ]
     },
     "execution_count": 176,
     "metadata": {},
     "output_type": "execute_result"
    }
   ],
   "source": [
    "0.000000076454166803*131980 # Gas Price times usage by txn "
   ]
  },
  {
   "cell_type": "code",
   "execution_count": 177,
   "metadata": {},
   "outputs": [
    {
     "data": {
      "text/plain": [
       "15319350764817519"
      ]
     },
     "execution_count": 177,
     "metadata": {},
     "output_type": "execute_result"
    }
   ],
   "source": [
    "#gasPrice in wei in hexa * gas in wei in hex\n",
    "gas = 200373 #no\n",
    "gasPrice = 76454166803 #ok\n",
    "gas*gasPrice"
   ]
  },
  {
   "cell_type": "code",
   "execution_count": 179,
   "metadata": {},
   "outputs": [
    {
     "data": {
      "text/plain": [
       "0.01009042093465994"
      ]
     },
     "execution_count": 179,
     "metadata": {},
     "output_type": "execute_result"
    }
   ],
   "source": [
    "#cumulativeGasUsed\t0x6f884  456836\n",
    "# effectiveGasPrice\t0x11cd060113  76454166803\n",
    "# gasUsed\t0x2038c   131980\n",
    "\n",
    "\n",
    "76454166803/1000000000000000000 * 131980"
   ]
  },
  {
   "cell_type": "markdown",
   "metadata": {},
   "source": [
    "# Calculate the cost in usd and eth of the difference \n",
    "use dune\n",
    "there is no BRETT token in dune - asked felix\n",
    "do the analysis again with the 3 transaction (transaction hash 0xee8fd2c76181afa14ca0da158e0a01bba2d3df8e62c5da122ac1d77912aab66e) because there is the DMT token in dune\n",
    "\n",
    "Here we need to :\n",
    "- get the price for the first token (here BRETT) (if possible) at that minute (check if there is any different value in the price dependent on the columns returned from dune)\n",
    "- get the price for the second token (here ETH) (if possible) at that minute\n",
    "- translate the difference in token 2 (here what is 42 BRETT in ETH)\n",
    "- calculate the price difference for the tokens for which we have the price\n",
    "\n",
    "Filter by contract address if the data exists in dune. Ask Felix if this is important information as it is not always in dune\n"
   ]
  },
  {
   "cell_type": "code",
   "execution_count": null,
   "metadata": {},
   "outputs": [],
   "source": []
  }
 ],
 "metadata": {
  "kernelspec": {
   "display_name": "env_data_eng",
   "language": "python",
   "name": "python3"
  },
  "language_info": {
   "codemirror_mode": {
    "name": "ipython",
    "version": 3
   },
   "file_extension": ".py",
   "mimetype": "text/x-python",
   "name": "python",
   "nbconvert_exporter": "python",
   "pygments_lexer": "ipython3",
   "version": "3.11.4"
  }
 },
 "nbformat": 4,
 "nbformat_minor": 2
}
